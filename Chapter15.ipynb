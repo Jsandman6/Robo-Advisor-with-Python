{
  "cells": [
    {
      "cell_type": "markdown",
      "metadata": {
        "id": "NClsv6anAqTF"
      },
      "source": [
        "# Chapter 15: Dividends and Fee Management"
      ]
    },
    {
      "cell_type": "code",
      "execution_count": null,
      "metadata": {
        "colab": {
          "base_uri": "https://localhost:8080/"
        },
        "id": "G4nK9Z1rDMET",
        "outputId": "6b142e7c-4116-4915-d8e2-6eaecbf84520"
      },
      "outputs": [
        {
          "name": "stdout",
          "output_type": "stream",
          "text": [
            "     Account Symbol    Amount     Units\n",
            "0  123456789    TLT  0.000000  0.000487\n",
            "1  123456789    IEI  0.000000  0.000360\n",
            "2  123456789    VTI  0.169971  0.000000\n",
            "3  987654321    IEI  0.000000  0.002257\n",
            "4  987654321    VTI  0.193737  0.000000\n"
          ]
        }
      ],
      "source": [
        "# Get dividend from custodian as CSV\n",
        "import pandas as pd\n",
        "\n",
        "newDividends = pd.read_csv('/content/drive/MyDrive/Books/Robo-advisor with Python/Data/Dividends.csv')\n",
        "print(newDividends)"
      ]
    },
    {
      "cell_type": "code",
      "execution_count": null,
      "metadata": {
        "id": "Q8p9vWaLqFvD"
      },
      "outputs": [],
      "source": [
        "accounts = [myAccount, myAccount2]"
      ]
    },
    {
      "cell_type": "code",
      "execution_count": null,
      "metadata": {
        "colab": {
          "base_uri": "https://localhost:8080/"
        },
        "id": "ARjzjyIbqvVN",
        "outputId": "41b306e2-59ae-480b-efd9-b4787e2e2cbb"
      },
      "outputs": [
        {
          "name": "stdout",
          "output_type": "stream",
          "text": [
            "Account: 123456789\n",
            "Cash: 1.1650591999113793\n",
            "Portfolio: Moderate\n",
            "IEI, units: 0.016878854867701\n",
            "TLT, units: 0.009743440233\n",
            "DBC, units: 0.0\n",
            "GLD, units: 0.021665187975058866\n",
            "VTI, units: 0.016622094138026632\n",
            "\n",
            "\n",
            "Account: 987654321\n",
            "Cash: 0.8349407954283179\n",
            "Portfolio: Conservative\n",
            "IEI, units: 0.11394768463229901\n",
            "TLT, units: 0.0\n",
            "DBC, units: 0.0\n",
            "GLD, units: 0.019544835304941135\n",
            "VTI, units: 0.019037328311973366\n",
            "\n",
            "\n"
          ]
        }
      ],
      "source": [
        "for account in accounts:\n",
        "  print(\"Account: \" + str(account.number))\n",
        "  print(\"Cash: \" + str(account.cashBalance))\n",
        "  for goal in account.goals:\n",
        "    print(\"Portfolio: \" + goal.portfolio.name)\n",
        "    for allocation in goal.portfolio.allocations:\n",
        "      print(allocation.ticker + \", units: \" + str(allocation.units))\n",
        "    print(\"\\n\")"
      ]
    },
    {
      "cell_type": "code",
      "execution_count": null,
      "metadata": {
        "colab": {
          "base_uri": "https://localhost:8080/"
        },
        "id": "4VCuFlDYu_G6",
        "outputId": "6487b9fb-e957-46e6-f086-3c460aaddb1f"
      },
      "outputs": [
        {
          "data": {
            "text/plain": [
              "[<__main__.Account at 0x7f72beddce90>, <__main__.Account at 0x7f72beddb8d0>]"
            ]
          },
          "execution_count": 114,
          "metadata": {},
          "output_type": "execute_result"
        }
      ],
      "source": [
        "accounts"
      ]
    },
    {
      "cell_type": "code",
      "execution_count": null,
      "metadata": {
        "id": "Evdru55MUDnP"
      },
      "outputs": [],
      "source": [
        "# Split/allocate back to account.goal(s).portfolio\n",
        "for index, row in newDividends.iterrows():\n",
        "  accountNo = row['Account']\n",
        "  \n",
        "  account = next((account for account in accounts if str(account.number) == str(accountNo)), None)\n",
        "\n",
        "  if account == None:\n",
        "    print(\"No account\")\n",
        "    break\n",
        "  \n",
        "  if row['Amount'] > 0:\n",
        "    account.cashBalance += row['Amount']\n",
        "  elif row['Units'] > 0:\n",
        "    unitsToAllocate = row['Units']\n",
        "    unitsAcrossPortfolios = 0.0\n",
        "\n",
        "    for goal in account.goals:\n",
        "      for allocation in goal.portfolio.allocations:\n",
        "        if allocation.ticker == row['Symbol']:\n",
        "          unitsAcrossPortfolios += allocation.units\n",
        "\n",
        "    for goal in account.goals:\n",
        "      for allocation in goal.portfolio.allocations:\n",
        "        if allocation.ticker == row['Symbol']:\n",
        "          allocation.units += unitsToAllocate * (allocation.units / unitsAcrossPortfolios)    "
      ]
    },
    {
      "cell_type": "code",
      "execution_count": null,
      "metadata": {
        "colab": {
          "base_uri": "https://localhost:8080/"
        },
        "id": "0f7dpn64vR3N",
        "outputId": "38d6c331-3bb8-4021-cd20-fc4245a6e080"
      },
      "outputs": [
        {
          "name": "stdout",
          "output_type": "stream",
          "text": [
            "Account: 123456789\n",
            "Cash: 1.3350306235113794\n",
            "Portfolio: Moderate\n",
            "IEI, units: 0.017238386524401\n",
            "TLT, units: 0.0102306122447\n",
            "DBC, units: 0.0\n",
            "GLD, units: 0.021665187975058866\n",
            "VTI, units: 0.016622094138026632\n",
            "\n",
            "\n",
            "Account: 987654321\n",
            "Cash: 1.028677651128318\n",
            "Portfolio: Conservative\n",
            "IEI, units: 0.11620468376529901\n",
            "TLT, units: 0.0\n",
            "DBC, units: 0.0\n",
            "GLD, units: 0.019544835304941135\n",
            "VTI, units: 0.019037328311973366\n",
            "\n",
            "\n"
          ]
        }
      ],
      "source": [
        "for account in accounts:\n",
        "  print(\"Account: \" + str(account.number))\n",
        "  print(\"Cash: \" + str(account.cashBalance))\n",
        "  for goal in account.goals:\n",
        "    print(\"Portfolio: \" + goal.portfolio.name)\n",
        "    for allocation in goal.portfolio.allocations:\n",
        "      print(allocation.ticker + \", units: \" + str(allocation.units))\n",
        "    print(\"\\n\")"
      ]
    },
    {
      "cell_type": "code",
      "execution_count": null,
      "metadata": {
        "id": "o3CyuKa17A_D"
      },
      "outputs": [],
      "source": [
        "# Create a function, standalone or account class\n",
        "import pandas as pd\n",
        "def allocateDividends(dividendFile: pd.DataFrame, accounts: list):\n",
        "\n",
        "  for index, row in dividendFile.iterrows():\n",
        "    accountNo = row['Account']\n",
        "    \n",
        "    account = next((account for account in accounts if str(account.number) == str(accountNo)), None)\n",
        "\n",
        "    if account == None:\n",
        "      print(\"No account\")\n",
        "      break\n",
        "    \n",
        "    if row['Amount'] > 0:\n",
        "      account.cashBalance += row['Amount']\n",
        "    elif row['Units'] > 0:\n",
        "      unitsToAllocate = row['Units']\n",
        "      unitsAcrossPortfolios = 0.0\n",
        "\n",
        "      for goal in account.goals:\n",
        "        for allocation in goal.portfolio.allocations:\n",
        "          if allocation.ticker == row['Symbol']:\n",
        "            unitsAcrossPortfolios += allocation.units\n",
        "\n",
        "      for goal in account.goals:\n",
        "        for allocation in goal.portfolio.allocations:\n",
        "          if allocation.ticker == row['Symbol']:\n",
        "            allocation.units += unitsToAllocate * (allocation.units / unitsAcrossPortfolios)    \n"
      ]
    },
    {
      "cell_type": "code",
      "execution_count": null,
      "metadata": {
        "colab": {
          "base_uri": "https://localhost:8080/"
        },
        "id": "hODUICWJAxyI",
        "outputId": "f1006d73-bb6d-40ff-c3f8-d9734a1f1511"
      },
      "outputs": [
        {
          "data": {
            "text/plain": [
              "Date\n",
              "1993-03-19 00:00:00-05:00    0.213\n",
              "1993-06-18 00:00:00-04:00    0.318\n",
              "1993-09-17 00:00:00-04:00    0.286\n",
              "1993-12-17 00:00:00-05:00    0.317\n",
              "1994-03-18 00:00:00-05:00    0.271\n",
              "                             ...  \n",
              "2021-09-17 00:00:00-04:00    1.428\n",
              "2021-12-17 00:00:00-05:00    1.633\n",
              "2022-03-18 00:00:00-04:00    1.366\n",
              "2022-06-17 00:00:00-04:00    1.577\n",
              "2022-09-16 00:00:00-04:00    1.596\n",
              "Name: Dividends, Length: 120, dtype: float64"
            ]
          },
          "execution_count": 118,
          "metadata": {},
          "output_type": "execute_result"
        }
      ],
      "source": [
        "# Show (print) an account level summary of new dividends with date included\n",
        "spy = yf.Ticker(\"SPY\")\n",
        "spy.dividends"
      ]
    },
    {
      "cell_type": "code",
      "execution_count": null,
      "metadata": {
        "colab": {
          "base_uri": "https://localhost:8080/"
        },
        "id": "V9lUxKYu0OTv",
        "outputId": "33b2d655-3f3c-471a-e1d0-d2385d5b32e6"
      },
      "outputs": [
        {
          "data": {
            "text/plain": [
              "0.016"
            ]
          },
          "execution_count": 119,
          "metadata": {},
          "output_type": "execute_result"
        }
      ],
      "source": [
        "spy.info['yield']"
      ]
    },
    {
      "cell_type": "code",
      "execution_count": null,
      "metadata": {
        "id": "C3gd5n3ZA3iX"
      },
      "outputs": [],
      "source": [
        "#Learn how to calculate Fees"
      ]
    },
    {
      "cell_type": "code",
      "execution_count": null,
      "metadata": {
        "id": "6vQQ-AVkN7AT"
      },
      "outputs": [],
      "source": [
        "accounts = [myAccount, myAccount2]"
      ]
    },
    {
      "cell_type": "code",
      "execution_count": null,
      "metadata": {
        "colab": {
          "base_uri": "https://localhost:8080/"
        },
        "id": "AwmohkNBOVVt",
        "outputId": "9023e899-52e6-4be4-dded-0673bb5f2213"
      },
      "outputs": [
        {
          "name": "stdout",
          "output_type": "stream",
          "text": [
            "Account: 123456789\n",
            "Cash: 1.3350306235113794\n",
            "Portfolio: Moderate\n",
            "AUM: $10.12\n",
            "Account: 987654321\n",
            "Cash: 1.028677651128318\n",
            "Portfolio: Conservative\n",
            "AUM: $20.69\n"
          ]
        }
      ],
      "source": [
        "# Calculate AUM today\n",
        "for account in accounts:\n",
        "  print(\"Account: \" + str(account.number))\n",
        "  print(\"Cash: \" + str(account.cashBalance))\n",
        "  aum = 0.0\n",
        "  for goal in account.goals:\n",
        "    print(\"Portfolio: \" + goal.portfolio.name)\n",
        "    for allocation in goal.portfolio.allocations:\n",
        "      price = float(yf.Ticker(allocation.ticker).info[\"previousClose\"])\n",
        "      aum += price * allocation.units\n",
        "  print(\"AUM: \" + '${0:.2f}'.format(aum))\n",
        "  print(\"\\n\")"
      ]
    },
    {
      "cell_type": "code",
      "execution_count": null,
      "metadata": {
        "colab": {
          "base_uri": "https://localhost:8080/"
        },
        "id": "4d2CMBl0S2w-",
        "outputId": "32455f32-f66a-4b2f-907b-07c7754cf6a1"
      },
      "outputs": [
        {
          "name": "stdout",
          "output_type": "stream",
          "text": [
            "IEI TLT DBC GLD VTI \n"
          ]
        }
      ],
      "source": [
        "tickerString = \"\"\n",
        "for account in accounts:\n",
        "  for goal in account.goals:\n",
        "    for allocation in goal.portfolio.allocations:\n",
        "      if not allocation.ticker in tickerString:\n",
        "        tickerString += allocation.ticker + \" \"\n",
        "print(tickerString)"
      ]
    },
    {
      "cell_type": "code",
      "execution_count": null,
      "metadata": {
        "colab": {
          "base_uri": "https://localhost:8080/"
        },
        "id": "yXtTIl-US45_",
        "outputId": "788a9b6b-690f-4239-c4e5-3ddd0b84df13"
      },
      "outputs": [
        {
          "name": "stdout",
          "output_type": "stream",
          "text": [
            "First date of previous month: 2022-11-01\n",
            "Last date of previous month: 2022-11-30\n"
          ]
        }
      ],
      "source": [
        "# Import the datetime module\n",
        "from datetime import datetime, timedelta\n",
        "from calendar import monthrange\n",
        "\n",
        "# Get the current date\n",
        "today = datetime.today()\n",
        "\n",
        "# Get the first day of the current month\n",
        "first_day_of_month = today.replace(day=1)\n",
        "\n",
        "# Use the monthrange() method to get the number of days in the previous month\n",
        "_, num_days_in_prev_month = monthrange(first_day_of_month.year, first_day_of_month.month-1)\n",
        "\n",
        "# Subtract the number of days in the previous month from the first day of the current month to get the first day of the previous month\n",
        "first_day_of_prev_month = first_day_of_month - timedelta(days=num_days_in_prev_month)\n",
        "\n",
        "# Get the last day of the previous month by adding one day to the first day of the current month, and then subtracting one day\n",
        "last_day_of_prev_month = first_day_of_month - timedelta(days=1)\n",
        "\n",
        "# Print the first and last dates of the previous month\n",
        "print(f\"First date of previous month: {first_day_of_prev_month:%Y-%m-%d}\")\n",
        "print(f\"Last date of previous month: {last_day_of_prev_month:%Y-%m-%d}\")\n"
      ]
    },
    {
      "cell_type": "code",
      "execution_count": null,
      "metadata": {
        "colab": {
          "base_uri": "https://localhost:8080/"
        },
        "id": "GFGxuBTGPY6M",
        "outputId": "86711716-84c4-40ff-b599-e63a2848250a"
      },
      "outputs": [
        {
          "name": "stdout",
          "output_type": "stream",
          "text": [
            "[*********************100%***********************]  5 of 5 completed\n",
            "                   IEI         TLT        DBC         GLD         VTI\n",
            "Date                                                                 \n",
            "2022-11-01  113.209999   96.769997  25.500000  153.460007  193.429993\n",
            "2022-11-02  113.110001   96.349998  25.730000  152.389999  188.339996\n",
            "2022-11-03  112.750000   95.830002  25.709999  151.809998  186.539993\n",
            "2022-11-04  112.839996   94.220001  26.580000  156.470001  188.940002\n",
            "2022-11-07  112.610001   93.279999  26.350000  155.850006  190.660004\n",
            "2022-11-08  113.010002   94.300003  26.030001  159.449997  191.660004\n",
            "2022-11-09  113.360001   94.610001  25.430000  158.649994  187.529999\n",
            "2022-11-10  114.989998   98.250000  25.660000  163.479996  198.139999\n",
            "2022-11-11  114.849998   97.889999  26.150000  164.559998  200.160004\n",
            "2022-11-14  114.669998   97.650002  25.760000  164.919998  198.350006\n",
            "2022-11-15  115.180000   99.230003  26.059999  165.500000  200.360001\n",
            "2022-11-16  115.529999  101.400002  25.770000  165.119995  198.320007\n",
            "2022-11-17  115.070000  100.330002  25.340000  163.919998  197.490005\n",
            "2022-11-18  114.769997   99.639999  25.160000  162.789993  198.419998\n",
            "2022-11-21  114.730003  100.059998  25.070000  161.880005  197.580002\n",
            "2022-11-22  114.940002  101.480003  25.330000  162.070007  200.169998\n",
            "2022-11-23  115.279999  103.250000  24.980000  163.080002  201.389999\n",
            "2022-11-25  115.300003  102.900002  24.760000  163.220001  201.539993\n",
            "2022-11-28  115.309998  103.190002  24.610001  161.929993  198.270004\n",
            "2022-11-29  115.129997  101.980003  24.930000  162.729996  197.960007\n",
            "2022-11-30  115.910004  102.730003  25.490000  164.809998  204.059998\n"
          ]
        }
      ],
      "source": [
        "# Get price history over period for all accounts and tickers (one month)\n",
        "data = yf.download(tickerString, group_by=\"Ticker\", start=first_day_of_prev_month, end=last_day_of_prev_month)\n",
        "data = data.iloc[:, data.columns.get_level_values(1)==\"Close\"]\n",
        "data = data.dropna()\n",
        "data.columns = data.columns.droplevel(1)\n",
        "print(data)"
      ]
    },
    {
      "cell_type": "code",
      "execution_count": null,
      "metadata": {
        "colab": {
          "base_uri": "https://localhost:8080/"
        },
        "id": "u6DBb28-Pegr",
        "outputId": "c3b4659e-63b0-4c2b-cbaf-49051bcffa4f"
      },
      "outputs": [
        {
          "name": "stdout",
          "output_type": "stream",
          "text": [
            "Account: 123456789\n",
            "Cash: 1.3350306235113794\n",
            "Portfolio: Moderate\n",
            "Average AUM: $9.73\n",
            "\n",
            "\n",
            "Account: 987654321\n",
            "Cash: 1.028677651128318\n",
            "Portfolio: Conservative\n",
            "Average AUM: $20.17\n",
            "\n",
            "\n"
          ]
        }
      ],
      "source": [
        "# Calculate average AUM over period\n",
        "for account in accounts:\n",
        "  print(\"Account: \" + str(account.number))\n",
        "  print(\"Cash: \" + str(account.cashBalance))\n",
        "  aum = 0.0\n",
        "  for goal in account.goals:\n",
        "    print(\"Portfolio: \" + goal.portfolio.name)\n",
        "    for allocation in goal.portfolio.allocations:\n",
        "      for index, row in data.iterrows():\n",
        "        price = row[allocation.ticker]\n",
        "        aum += price * allocation.units\n",
        "  aum = aum / len(data)\n",
        "  print(\"Average AUM: \" + '${0:.2f}'.format(aum))\n",
        "  print(\"\\n\")"
      ]
    },
    {
      "cell_type": "code",
      "execution_count": null,
      "metadata": {
        "colab": {
          "base_uri": "https://localhost:8080/"
        },
        "id": "VMLnM7qkWtBp",
        "outputId": "ceb6c410-8f63-46c5-f6a8-85775f42f205"
      },
      "outputs": [
        {
          "name": "stdout",
          "output_type": "stream",
          "text": [
            "Account: 123456789\n",
            "Cash: 1.3350306235113794\n",
            "Portfolio: Moderate\n",
            "Average AUM: $9.73\n",
            "Fee: $0.0007996344333910244\n",
            "\n",
            "\n",
            "Account: 987654321\n",
            "Cash: 1.028677651128318\n",
            "Portfolio: Conservative\n",
            "Average AUM: $20.17\n",
            "Fee: $0.001658052571063181\n",
            "\n",
            "\n"
          ]
        }
      ],
      "source": [
        "# Calculate fee\n",
        "feeRate = 0.001 # 10bps\n",
        "\n",
        "for account in accounts:\n",
        "  print(\"Account: \" + str(account.number))\n",
        "  print(\"Cash: \" + str(account.cashBalance))\n",
        "  aum = 0.0\n",
        "  for goal in account.goals:\n",
        "    print(\"Portfolio: \" + goal.portfolio.name)\n",
        "    for allocation in goal.portfolio.allocations:\n",
        "      for index, row in data.iterrows():\n",
        "        price = row[allocation.ticker]\n",
        "        aum += price * allocation.units\n",
        "  aum = aum / len(data)\n",
        "  fee = aum * feeRate * (num_days_in_prev_month / 365)\n",
        "  print(\"Average AUM: \" + '${0:.2f}'.format(aum))\n",
        "  print(\"Fee: $\" + str(fee))\n",
        "  print(\"\\n\")"
      ]
    },
    {
      "cell_type": "code",
      "execution_count": null,
      "metadata": {
        "id": "UHMZ_oTCPs6G"
      },
      "outputs": [],
      "source": [
        "# May need to create sell order(s) if cash < AUM"
      ]
    },
    {
      "cell_type": "code",
      "execution_count": null,
      "metadata": {
        "colab": {
          "base_uri": "https://localhost:8080/"
        },
        "id": "hkz9azlLP2cC",
        "outputId": "3f310e5d-c8d7-4e2b-bacc-3694227f48da"
      },
      "outputs": [
        {
          "name": "stdout",
          "output_type": "stream",
          "text": [
            "     Account  FeeAmount\n",
            "0  123456789   0.000800\n",
            "1  987654321   0.001658\n"
          ]
        }
      ],
      "source": [
        "# Generate broker instructions for fees (CSV?)\n",
        "feeRate = 0.001 # 10bps\n",
        "feeTable = pd.DataFrame(columns=['Account','FeeAmount'])\n",
        "\n",
        "for account in accounts:\n",
        "  aum = 0.0\n",
        "  for goal in account.goals:\n",
        "    for allocation in goal.portfolio.allocations:\n",
        "      for index, row in data.iterrows():\n",
        "        price = row[allocation.ticker]\n",
        "        aum += price * allocation.units\n",
        "  aum = aum / len(data)\n",
        "  fee = aum * feeRate * (num_days_in_prev_month / 365)\n",
        "  new_row = {'Account':account.number, 'FeeAmount':fee}\n",
        "  feeTable = feeTable.append(new_row, ignore_index=True)\n",
        "\n",
        "print(feeTable)"
      ]
    },
    {
      "cell_type": "code",
      "execution_count": null,
      "metadata": {
        "id": "xMg8iuiLZOgG"
      },
      "outputs": [],
      "source": [
        "pd.set_option(\"display.precision\", 8)"
      ]
    },
    {
      "cell_type": "code",
      "execution_count": null,
      "metadata": {
        "colab": {
          "base_uri": "https://localhost:8080/"
        },
        "id": "8LlKczkmZTeg",
        "outputId": "c9e08ef2-58ac-4128-9822-97c0e445ac5a"
      },
      "outputs": [
        {
          "name": "stdout",
          "output_type": "stream",
          "text": [
            "     Account   FeeAmount\n",
            "0  123456789  0.00079963\n",
            "1  987654321  0.00165805\n"
          ]
        }
      ],
      "source": [
        "# Generate broker instructions for fees (CSV?)\n",
        "feeRate = 0.001 # 10bps\n",
        "feeTable = pd.DataFrame(columns=['Account','FeeAmount'])\n",
        "\n",
        "for account in accounts:\n",
        "  aum = 0.0\n",
        "  for goal in account.goals:\n",
        "    for allocation in goal.portfolio.allocations:\n",
        "      for index, row in data.iterrows():\n",
        "        price = row[allocation.ticker]\n",
        "        aum += price * allocation.units\n",
        "  aum = aum / len(data)\n",
        "  fee = aum * feeRate * (num_days_in_prev_month / 365)\n",
        "  new_row = {'Account':account.number, 'FeeAmount':fee}\n",
        "  feeTable = feeTable.append(new_row, ignore_index=True)\n",
        "\n",
        "print(feeTable)"
      ]
    },
    {
      "cell_type": "code",
      "execution_count": null,
      "metadata": {
        "id": "4NMtrYWhPjrT"
      },
      "outputs": [],
      "source": [
        "# Create function\n",
        "def generateFeeInstructions(accounts: list) -> pd.DataFrame:\n",
        "  tickerString = \"\"\n",
        "  for account in accounts:\n",
        "    for goal in account.goals:\n",
        "      for allocation in goal.portfolio.allocations:\n",
        "        if not allocation.ticker in tickerString:\n",
        "          tickerString += allocation.ticker + \" \"\n",
        "  \n",
        "  from datetime import datetime, timedelta\n",
        "  from calendar import monthrange\n",
        "  today = datetime.today()\n",
        "  first_day_of_month = today.replace(day=1)\n",
        "  _, num_days_in_prev_month = monthrange(first_day_of_month.year, first_day_of_month.month-1)\n",
        "  first_day_of_prev_month = first_day_of_month - timedelta(days=num_days_in_prev_month)\n",
        "  last_day_of_prev_month = first_day_of_month - timedelta(days=1)\n",
        "\n",
        "  data = yf.download(tickerString, group_by=\"Ticker\", start=first_day_of_prev_month, end=last_day_of_prev_month)\n",
        "  data = data.iloc[:, data.columns.get_level_values(1)==\"Close\"]\n",
        "  data = data.dropna()\n",
        "  data.columns = data.columns.droplevel(1)\n",
        "\n",
        "  feeRate = 0.001 # 10bps\n",
        "  feeTable = pd.DataFrame(columns=['Account','FeeAmount'])\n",
        "\n",
        "  for account in accounts:\n",
        "    aum = 0.0\n",
        "    for goal in account.goals:\n",
        "      for allocation in goal.portfolio.allocations:\n",
        "        for index, row in data.iterrows():\n",
        "          price = row[allocation.ticker]\n",
        "          aum += price * allocation.units\n",
        "    aum = aum / len(data)\n",
        "    fee = aum * feeRate * (num_days_in_prev_month / 365)\n",
        "    new_row = {'Account':account.number, 'FeeAmount':fee}\n",
        "    feeTable = feeTable.append(new_row, ignore_index=True)\n",
        "\n",
        "  return feeTable"
      ]
    },
    {
      "cell_type": "code",
      "execution_count": null,
      "metadata": {
        "colab": {
          "base_uri": "https://localhost:8080/"
        },
        "id": "kIpYr_ppaC-g",
        "outputId": "d7b3c1a6-a652-4d81-d3eb-0dd8cb9e7577"
      },
      "outputs": [
        {
          "name": "stdout",
          "output_type": "stream",
          "text": [
            "[*********************100%***********************]  5 of 5 completed\n"
          ]
        }
      ],
      "source": [
        "# Save to CSV\n",
        "feeFile = generateFeeInstructions(accounts)"
      ]
    },
    {
      "cell_type": "code",
      "execution_count": null,
      "metadata": {
        "id": "Ljs5OQcYalHx"
      },
      "outputs": [],
      "source": [
        "feeFile.to_csv('/content/drive/MyDrive/Books/Robo-advisor with Python/Data/Fees.csv')"
      ]
    }
  ],
  "metadata": {
    "colab": {
      "provenance": [],
      "toc_visible": true
    },
    "kernelspec": {
      "display_name": "Python 3",
      "language": "python",
      "name": "python3"
    },
    "language_info": {
      "codemirror_mode": {
        "name": "ipython",
        "version": 3
      },
      "file_extension": ".py",
      "mimetype": "text/x-python",
      "name": "python",
      "nbconvert_exporter": "python",
      "pygments_lexer": "ipython3",
      "version": "3.11.0 (main, Nov 15 2022, 05:43:36) [Clang 14.0.0 (clang-1400.0.29.202)]"
    },
    "vscode": {
      "interpreter": {
        "hash": "1a1af0ee75eeea9e2e1ee996c87e7a2b11a0bebd85af04bb136d915cefc0abce"
      }
    }
  },
  "nbformat": 4,
  "nbformat_minor": 0
}

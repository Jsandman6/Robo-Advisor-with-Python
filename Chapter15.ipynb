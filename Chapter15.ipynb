{
  "cells": [
    {
      "cell_type": "markdown",
      "metadata": {
        "id": "NClsv6anAqTF"
      },
      "source": [
        "# Chapter 15: Dividends and Fee Management"
      ]
    },
    {
      "cell_type": "code",
      "execution_count": 4,
      "metadata": {
        "colab": {
          "base_uri": "https://localhost:8080/"
        },
        "id": "G4nK9Z1rDMET",
        "outputId": "6b142e7c-4116-4915-d8e2-6eaecbf84520"
      },
      "outputs": [
        {
          "name": "stdout",
          "output_type": "stream",
          "text": [
            "     Account Symbol    Amount     Units\n",
            "0  123456789    TLT  0.000000  0.000487\n",
            "1  123456789    IEI  0.000000  0.000360\n",
            "2  123456789    VTI  0.169971  0.000000\n",
            "3  987654321    IEI  0.000000  0.002257\n",
            "4  987654321    VTI  0.193737  0.000000\n"
          ]
        }
      ],
      "source": [
        "# Get dividend from custodian as CSV\n",
        "import yfinance as yf\n",
        "import pandas as pd\n",
        "\n",
        "newDividends = pd.read_csv('./Data/Dividends.csv')\n",
        "print(newDividends)"
      ]
    },
    {
      "cell_type": "code",
      "execution_count": 5,
      "metadata": {},
      "outputs": [],
      "source": [
        "class Allocation:\n",
        "  def __init__(self, ticker, percentage):\n",
        "    self.ticker = ticker\n",
        "    self.percentage = percentage\n",
        "    self.units = 0.0\n",
        "\n",
        "class Portfolio:\n",
        "\n",
        "  def __init__(self, tickerString: str, expectedReturn: float, portfolioName: str, riskBucket: int):\n",
        "\n",
        "    self.name = portfolioName\n",
        "    self.riskBucket = riskBucket\n",
        "    self.expectedReturn = expectedReturn\n",
        "    self.allocations = []\n",
        "\n",
        "    from pypfopt.efficient_frontier import EfficientFrontier\n",
        "    from pypfopt import risk_models\n",
        "    from pypfopt import expected_returns\n",
        "\n",
        "    df = self.__getDailyPrices(tickerString, \"20y\")\n",
        "\n",
        "    mu = expected_returns.mean_historical_return(df)\n",
        "    S = risk_models.sample_cov(df)\n",
        "\n",
        "    ef = EfficientFrontier(mu, S)\n",
        "\n",
        "    ef.efficient_return(expectedReturn)\n",
        "    self.expectedRisk = ef.portfolio_performance()[1]\n",
        "    portfolioWeights = ef.clean_weights()\n",
        "\n",
        "    for key, value in portfolioWeights.items():\n",
        "      newAllocation = Allocation(key, value)\n",
        "      self.allocations.append(newAllocation)\n",
        "\n",
        "  def __getDailyPrices(self, tickerStringList, period):\n",
        "    data = yf.download(tickerStringList, group_by=\"Ticker\", period=period)\n",
        "    data = data.iloc[:, data.columns.get_level_values(1)==\"Close\"]\n",
        "    data = data.dropna()\n",
        "    data.columns = data.columns.droplevel(1)\n",
        "    return data\n",
        "\n",
        "  def printPortfolio(self):\n",
        "    print(\"Portfolio Name: \" + self.name)\n",
        "    print(\"Risk Bucket: \" + str(self.riskBucket))\n",
        "    print(\"Expected Return: \" + str(self.expectedReturn))\n",
        "    print(\"Expected Risk: \" + str(self.expectedRisk))\n",
        "    print(\"Allocations: \")\n",
        "    for allocation in self.allocations:\n",
        "      print(\"Ticker: \" + allocation.ticker + \", Percentage: \" + str(allocation.percentage))\n",
        "\n",
        "  @staticmethod\n",
        "  def getPortfolioMapping(riskToleranceScore, riskCapacityScore):\n",
        "    allocationLookupTable=pd.read_csv('./Data/Risk Mapping Lookup.csv')\n",
        "    matchTol = (allocationLookupTable['Tolerance_min'] <= riskToleranceScore) & (allocationLookupTable['Tolerance_max'] >= riskToleranceScore)\n",
        "    matchCap = (allocationLookupTable['Capacity_min'] <= riskCapacityScore) & (allocationLookupTable['Capacity_max'] >= riskCapacityScore)\n",
        "    portfolioID = allocationLookupTable['Portfolio'][(matchTol & matchCap)]\n",
        "    return portfolioID.values[0]\n",
        "\n",
        "class Goal:\n",
        "  def __init__(self, name: str, targetYear: int, targetValue: float, portfolio: Portfolio=None, initialContribution: float=0, monthlyContribution: float=0, priority: str=\"\"):\n",
        "    self.name = name\n",
        "    self.targetYear = targetYear\n",
        "    self.targetValue = targetValue\n",
        "    self.initialContribution = initialContribution\n",
        "    self.monthlyContribution = monthlyContribution\n",
        "    if not (priority == \"\") and not (priority in [\"Dreams\", \"Wishes\", \"Wants\", \"Needs\"]):\n",
        "            raise ValueError(\"Wrong value set for Priority.\")\n",
        "    self.priority = priority\n",
        "    self.portfolio = portfolio\n",
        "\n",
        "  def getGoalProbabilities(self):\n",
        "    if (self.priority == \"\"):\n",
        "            raise ValueError(\"No value set for Priority.\")\n",
        "    lookupTable=pd.read_csv(\"./Data/Goal Probability Table.csv\")\n",
        "    match = (lookupTable[\"Realize\"] == self.priority)\n",
        "    minProb = lookupTable[\"MinP\"][(match)]\n",
        "    maxProb = lookupTable[\"MaxP\"][(match)]\n",
        "    return minProb.values[0], maxProb.values[0]\n",
        "\n",
        "class AccountType():\n",
        "  def __init__(self, value: str):\n",
        "    if not value in(\"Taxable\", \"Roth IRA\", \"Traditional IRA\"):\n",
        "      raise ValueError(\"Allowed types: Taxable, Roth IRA, Traditional IRA\")\n",
        "    self.value = value\n",
        "  def __eq__(self, other):\n",
        "      return self.value == other.value\n",
        "\n",
        "class AccountStatus():\n",
        "  def __init__(self, value: str):\n",
        "    if not value in(\"PENDING\", \"IN_REVIEW\", \"APPROVED\", \"REJECTED\", \"SUSPENDED\"):\n",
        "      raise ValueError(\"Allowed statuses: PENDING, IN_REVIEW, APPROVED, REJECTED, SUSPENDED\")\n",
        "    self.value = value\n",
        "  def __eq__(self, other):\n",
        "      return self.value == other.value\n",
        "\n",
        "class Account():\n",
        "  def __init__(self, number: str, accountType: AccountType, accountStatus: AccountStatus, cashBalance: float=0.0):\n",
        "    self.goals = []\n",
        "    self.number = number\n",
        "    self.cashBalance = cashBalance\n",
        "    self.accountType = accountType\n",
        "    self.accountStatus = accountStatus"
      ]
    },
    {
      "cell_type": "code",
      "execution_count": 12,
      "metadata": {},
      "outputs": [
        {
          "name": "stdout",
          "output_type": "stream",
          "text": [
            "[*********************100%***********************]  5 of 5 completed\n"
          ]
        }
      ],
      "source": [
        "myPortfolio = Portfolio(\"VTI TLT IEI GLD DBC\", expectedReturn = 0.05, portfolioName = \"Moderate\", riskBucket = 3)\n",
        "myGoal = Goal(name=\"Vacation\", targetYear=2027, targetValue=10000, priority=\"Dreams\", portfolio=myPortfolio)\n",
        "myAccount=Account(number=\"123456789\", accountType=\"Taxable\", accountStatus=AccountStatus(\"APPROVED\"), cashBalance=11.0)\n",
        "myAccount.goals.append(myGoal)\n",
        "\n",
        "# Manual update using Chapter 12 outputs:\n",
        "myPortfolio.allocations[0].units = 0.0\n",
        "myPortfolio.allocations[1].units = 0.02213974051911262\n",
        "myPortfolio.allocations[2].units = 0.02171626612838836\n",
        "myPortfolio.allocations[3].units = 0.0163863407640173\n",
        "myPortfolio.allocations[4].units = 0.009743440233"
      ]
    },
    {
      "cell_type": "code",
      "execution_count": 13,
      "metadata": {},
      "outputs": [
        {
          "name": "stdout",
          "output_type": "stream",
          "text": [
            "[*********************100%***********************]  5 of 5 completed\n"
          ]
        }
      ],
      "source": [
        "myPortfolio2 = Portfolio(\"VTI TLT IEI GLD DBC\", expectedReturn = 0.03, portfolioName = \"Conservative\", riskBucket = 2)\n",
        "myGoal2 = Goal(name=\"Car\", targetYear=2025, targetValue=5000, priority=\"Dreams\", portfolio=myPortfolio2)\n",
        "myAccount2=Account(number=\"987654321\", accountType=\"Taxable\", accountStatus=AccountStatus(\"APPROVED\"), cashBalance=21.0)\n",
        "myAccount2.goals.append(myGoal2)\n",
        "\n",
        "# Manual update using Chapter 12 outputs:\n",
        "myPortfolio2.allocations[0].units = 0.019070282760887385\n",
        "myPortfolio2.allocations[1].units = 0.0\n",
        "myPortfolio2.allocations[2].units = 0.10911027337161164\n",
        "myPortfolio2.allocations[3].units = 0.019273081685982695\n",
        "myPortfolio2.allocations[4].units = 0.0"
      ]
    },
    {
      "cell_type": "code",
      "execution_count": 14,
      "metadata": {
        "id": "Q8p9vWaLqFvD"
      },
      "outputs": [],
      "source": [
        "accounts = [myAccount, myAccount2]"
      ]
    },
    {
      "cell_type": "code",
      "execution_count": 15,
      "metadata": {
        "colab": {
          "base_uri": "https://localhost:8080/"
        },
        "id": "ARjzjyIbqvVN",
        "outputId": "41b306e2-59ae-480b-efd9-b4787e2e2cbb"
      },
      "outputs": [
        {
          "name": "stdout",
          "output_type": "stream",
          "text": [
            "Account: 123456789\n",
            "Cash: 11.0\n",
            "Portfolio: Moderate\n",
            "GLD, units: 0.0\n",
            "DBC, units: 0.02213974051911262\n",
            "TLT, units: 0.02171626612838836\n",
            "IEI, units: 0.0163863407640173\n",
            "VTI, units: 0.009743440233\n",
            "\n",
            "\n",
            "Account: 987654321\n",
            "Cash: 21.0\n",
            "Portfolio: Conservative\n",
            "TLT, units: 0.019070282760887385\n",
            "DBC, units: 0.0\n",
            "GLD, units: 0.10911027337161164\n",
            "IEI, units: 0.019273081685982695\n",
            "VTI, units: 0.0\n",
            "\n",
            "\n"
          ]
        }
      ],
      "source": [
        "for account in accounts:\n",
        "  print(\"Account: \" + str(account.number))\n",
        "  print(\"Cash: \" + str(account.cashBalance))\n",
        "  for goal in account.goals:\n",
        "    print(\"Portfolio: \" + goal.portfolio.name)\n",
        "    for allocation in goal.portfolio.allocations:\n",
        "      print(allocation.ticker + \", units: \" + str(allocation.units))\n",
        "    print(\"\\n\")"
      ]
    },
    {
      "cell_type": "code",
      "execution_count": 16,
      "metadata": {
        "colab": {
          "base_uri": "https://localhost:8080/"
        },
        "id": "4VCuFlDYu_G6",
        "outputId": "6487b9fb-e957-46e6-f086-3c460aaddb1f"
      },
      "outputs": [
        {
          "data": {
            "text/plain": [
              "[<__main__.Account at 0x16a132bf0>, <__main__.Account at 0x16a2fd450>]"
            ]
          },
          "execution_count": 16,
          "metadata": {},
          "output_type": "execute_result"
        }
      ],
      "source": [
        "accounts"
      ]
    },
    {
      "cell_type": "code",
      "execution_count": 17,
      "metadata": {
        "id": "Evdru55MUDnP"
      },
      "outputs": [],
      "source": [
        "# Split/allocate back to account.goal(s).portfolio\n",
        "for index, row in newDividends.iterrows():\n",
        "  accountNo = row['Account']\n",
        "  \n",
        "  account = next((account for account in accounts if str(account.number) == str(accountNo)), None)\n",
        "\n",
        "  if account == None:\n",
        "    print(\"No account\")\n",
        "    break\n",
        "  \n",
        "  if row['Amount'] > 0:\n",
        "    account.cashBalance += row['Amount']\n",
        "  elif row['Units'] > 0:\n",
        "    unitsToAllocate = row['Units']\n",
        "    unitsAcrossPortfolios = 0.0\n",
        "\n",
        "    for goal in account.goals:\n",
        "      for allocation in goal.portfolio.allocations:\n",
        "        if allocation.ticker == row['Symbol']:\n",
        "          unitsAcrossPortfolios += allocation.units\n",
        "\n",
        "    for goal in account.goals:\n",
        "      for allocation in goal.portfolio.allocations:\n",
        "        if allocation.ticker == row['Symbol']:\n",
        "          allocation.units += unitsToAllocate * (allocation.units / unitsAcrossPortfolios)    "
      ]
    },
    {
      "cell_type": "code",
      "execution_count": 18,
      "metadata": {
        "colab": {
          "base_uri": "https://localhost:8080/"
        },
        "id": "0f7dpn64vR3N",
        "outputId": "38d6c331-3bb8-4021-cd20-fc4245a6e080"
      },
      "outputs": [
        {
          "name": "stdout",
          "output_type": "stream",
          "text": [
            "Account: 123456789\n",
            "Cash: 11.1699714236\n",
            "Portfolio: Moderate\n",
            "GLD, units: 0.0\n",
            "DBC, units: 0.02213974051911262\n",
            "TLT, units: 0.02220343814008836\n",
            "IEI, units: 0.0167458724207173\n",
            "VTI, units: 0.009743440233\n",
            "\n",
            "\n",
            "Account: 987654321\n",
            "Cash: 21.1937368557\n",
            "Portfolio: Conservative\n",
            "TLT, units: 0.019070282760887385\n",
            "DBC, units: 0.0\n",
            "GLD, units: 0.10911027337161164\n",
            "IEI, units: 0.021530080818982694\n",
            "VTI, units: 0.0\n",
            "\n",
            "\n"
          ]
        }
      ],
      "source": [
        "for account in accounts:\n",
        "  print(\"Account: \" + str(account.number))\n",
        "  print(\"Cash: \" + str(account.cashBalance))\n",
        "  for goal in account.goals:\n",
        "    print(\"Portfolio: \" + goal.portfolio.name)\n",
        "    for allocation in goal.portfolio.allocations:\n",
        "      print(allocation.ticker + \", units: \" + str(allocation.units))\n",
        "    print(\"\\n\")"
      ]
    },
    {
      "cell_type": "code",
      "execution_count": 19,
      "metadata": {
        "id": "o3CyuKa17A_D"
      },
      "outputs": [],
      "source": [
        "# Create a function, standalone or account class\n",
        "import pandas as pd\n",
        "def allocateDividends(dividendFile: pd.DataFrame, accounts: list):\n",
        "\n",
        "  for index, row in dividendFile.iterrows():\n",
        "    accountNo = row['Account']\n",
        "    \n",
        "    account = next((account for account in accounts if str(account.number) == str(accountNo)), None)\n",
        "\n",
        "    if account == None:\n",
        "      print(\"No account\")\n",
        "      break\n",
        "    \n",
        "    if row['Amount'] > 0:\n",
        "      account.cashBalance += row['Amount']\n",
        "    elif row['Units'] > 0:\n",
        "      unitsToAllocate = row['Units']\n",
        "      unitsAcrossPortfolios = 0.0\n",
        "\n",
        "      for goal in account.goals:\n",
        "        for allocation in goal.portfolio.allocations:\n",
        "          if allocation.ticker == row['Symbol']:\n",
        "            unitsAcrossPortfolios += allocation.units\n",
        "\n",
        "      for goal in account.goals:\n",
        "        for allocation in goal.portfolio.allocations:\n",
        "          if allocation.ticker == row['Symbol']:\n",
        "            allocation.units += unitsToAllocate * (allocation.units / unitsAcrossPortfolios)    \n"
      ]
    },
    {
      "cell_type": "code",
      "execution_count": 20,
      "metadata": {
        "colab": {
          "base_uri": "https://localhost:8080/"
        },
        "id": "hODUICWJAxyI",
        "outputId": "f1006d73-bb6d-40ff-c3f8-d9734a1f1511"
      },
      "outputs": [
        {
          "data": {
            "text/plain": [
              "Date\n",
              "1993-03-19 00:00:00-05:00    0.213\n",
              "1993-06-18 00:00:00-04:00    0.318\n",
              "1993-09-17 00:00:00-04:00    0.286\n",
              "1993-12-17 00:00:00-05:00    0.317\n",
              "1994-03-18 00:00:00-05:00    0.271\n",
              "                             ...  \n",
              "2021-12-17 00:00:00-05:00    1.633\n",
              "2022-03-18 00:00:00-04:00    1.366\n",
              "2022-06-17 00:00:00-04:00    1.577\n",
              "2022-09-16 00:00:00-04:00    1.596\n",
              "2022-12-16 00:00:00-05:00    1.781\n",
              "Name: Dividends, Length: 121, dtype: float64"
            ]
          },
          "execution_count": 20,
          "metadata": {},
          "output_type": "execute_result"
        }
      ],
      "source": [
        "# Show (print) an account level summary of new dividends with date included\n",
        "spy = yf.Ticker(\"SPY\")\n",
        "spy.dividends"
      ]
    },
    {
      "cell_type": "code",
      "execution_count": 22,
      "metadata": {
        "colab": {
          "base_uri": "https://localhost:8080/"
        },
        "id": "V9lUxKYu0OTv",
        "outputId": "33b2d655-3f3c-471a-e1d0-d2385d5b32e6"
      },
      "outputs": [],
      "source": [
        "#spy.info['yield']"
      ]
    },
    {
      "cell_type": "code",
      "execution_count": 23,
      "metadata": {
        "id": "C3gd5n3ZA3iX"
      },
      "outputs": [],
      "source": [
        "#Learn how to calculate Fees"
      ]
    },
    {
      "cell_type": "code",
      "execution_count": 24,
      "metadata": {
        "id": "6vQQ-AVkN7AT"
      },
      "outputs": [],
      "source": [
        "accounts = [myAccount, myAccount2]"
      ]
    },
    {
      "cell_type": "code",
      "execution_count": 26,
      "metadata": {
        "colab": {
          "base_uri": "https://localhost:8080/"
        },
        "id": "AwmohkNBOVVt",
        "outputId": "9023e899-52e6-4be4-dded-0673bb5f2213"
      },
      "outputs": [
        {
          "name": "stdout",
          "output_type": "stream",
          "text": [
            "Account: 123456789\n",
            "Cash: 11.1699714236\n",
            "Portfolio: Moderate\n",
            "AUM: $6.86\n",
            "\n",
            "\n",
            "Account: 987654321\n",
            "Cash: 21.1937368557\n",
            "Portfolio: Conservative\n",
            "AUM: $24.24\n",
            "\n",
            "\n"
          ]
        }
      ],
      "source": [
        "# Calculate AUM today\n",
        "for account in accounts:\n",
        "  print(\"Account: \" + str(account.number))\n",
        "  print(\"Cash: \" + str(account.cashBalance))\n",
        "  aum = 0.0\n",
        "  for goal in account.goals:\n",
        "    print(\"Portfolio: \" + goal.portfolio.name)\n",
        "    for allocation in goal.portfolio.allocations:\n",
        "      price = float(yf.Ticker(allocation.ticker).basic_info[\"previous_close\"])\n",
        "      aum += price * allocation.units\n",
        "  print(\"AUM: \" + '${0:.2f}'.format(aum))\n",
        "  print(\"\\n\")"
      ]
    },
    {
      "cell_type": "code",
      "execution_count": 27,
      "metadata": {
        "colab": {
          "base_uri": "https://localhost:8080/"
        },
        "id": "4d2CMBl0S2w-",
        "outputId": "32455f32-f66a-4b2f-907b-07c7754cf6a1"
      },
      "outputs": [
        {
          "name": "stdout",
          "output_type": "stream",
          "text": [
            "GLD DBC TLT IEI VTI \n"
          ]
        }
      ],
      "source": [
        "tickerString = \"\"\n",
        "for account in accounts:\n",
        "  for goal in account.goals:\n",
        "    for allocation in goal.portfolio.allocations:\n",
        "      if not allocation.ticker in tickerString:\n",
        "        tickerString += allocation.ticker + \" \"\n",
        "print(tickerString)"
      ]
    },
    {
      "cell_type": "code",
      "execution_count": 29,
      "metadata": {
        "colab": {
          "base_uri": "https://localhost:8080/"
        },
        "id": "yXtTIl-US45_",
        "outputId": "788a9b6b-690f-4239-c4e5-3ddd0b84df13"
      },
      "outputs": [
        {
          "name": "stdout",
          "output_type": "stream",
          "text": [
            "First date of previous month: 2022-12-01\n",
            "Last date of previous month: 2022-12-31\n"
          ]
        }
      ],
      "source": [
        "# Import the datetime module\n",
        "from datetime import datetime, timedelta\n",
        "from calendar import monthrange\n",
        "\n",
        "# Get the current date\n",
        "today = datetime.today()\n",
        "\n",
        "# Get the first day of the current month\n",
        "first_day_of_month = today.replace(day=1)\n",
        "\n",
        "# Use the monthrange() method to get the number of days in the previous month\n",
        "month = first_day_of_month.month-1\n",
        "if month == 0:\n",
        "    month = 12\n",
        "_, num_days_in_prev_month = monthrange(first_day_of_month.year, month)\n",
        "\n",
        "# Subtract the number of days in the previous month from the first day of the current month to get the first day of the previous month\n",
        "first_day_of_prev_month = first_day_of_month - timedelta(days=num_days_in_prev_month)\n",
        "\n",
        "# Get the last day of the previous month by adding one day to the first day of the current month, and then subtracting one day\n",
        "last_day_of_prev_month = first_day_of_month - timedelta(days=1)\n",
        "\n",
        "# Print the first and last dates of the previous month\n",
        "print(f\"First date of previous month: {first_day_of_prev_month:%Y-%m-%d}\")\n",
        "print(f\"Last date of previous month: {last_day_of_prev_month:%Y-%m-%d}\")\n"
      ]
    },
    {
      "cell_type": "code",
      "execution_count": 30,
      "metadata": {
        "colab": {
          "base_uri": "https://localhost:8080/"
        },
        "id": "GFGxuBTGPY6M",
        "outputId": "86711716-84c4-40ff-b599-e63a2848250a"
      },
      "outputs": [
        {
          "name": "stdout",
          "output_type": "stream",
          "text": [
            "[*********************100%***********************]  5 of 5 completed\n",
            "                                  GLD         VTI        DBC         IEI  \\\n",
            "Date                                                                       \n",
            "2022-12-01 00:00:00-05:00  167.839996  204.179993  25.360001  116.430000   \n",
            "2022-12-02 00:00:00-05:00  167.259995  203.990005  25.090000  116.529999   \n",
            "2022-12-05 00:00:00-05:00  164.389999  199.979996  24.440001  115.720001   \n",
            "2022-12-06 00:00:00-05:00  164.839996  196.979996  24.049999  116.059998   \n",
            "2022-12-07 00:00:00-05:00  166.330002  196.660004  23.930000  116.720001   \n",
            "2022-12-08 00:00:00-05:00  166.470001  198.360001  23.889999  116.290001   \n",
            "2022-12-09 00:00:00-05:00  167.059998  196.699997  23.920000  115.940002   \n",
            "2022-12-12 00:00:00-05:00  165.679993  199.529999  24.180000  115.860001   \n",
            "2022-12-13 00:00:00-05:00  168.509995  201.020004  24.580000  116.540001   \n",
            "2022-12-14 00:00:00-05:00  168.100006  199.899994  24.770000  116.760002   \n",
            "2022-12-15 00:00:00-05:00  165.350006  194.919998  24.469999  116.589996   \n",
            "2022-12-16 00:00:00-05:00  166.789993  192.690002  24.160000  116.570000   \n",
            "2022-12-19 00:00:00-05:00  166.320007  190.750000  23.969999  116.120003   \n",
            "2022-12-20 00:00:00-05:00  169.080002  191.149994  24.080000  115.750000   \n",
            "2022-12-21 00:00:00-05:00  168.800003  194.039993  24.389999  115.849998   \n",
            "2022-12-22 00:00:00-05:00  166.759995  190.369995  24.080000  115.769997   \n",
            "2022-12-23 00:00:00-05:00  167.259995  191.419998  24.520000  115.559998   \n",
            "2022-12-27 00:00:00-05:00  168.669998  190.619995  24.740000  115.019997   \n",
            "2022-12-28 00:00:00-05:00  167.910004  188.220001  24.459999  114.940002   \n",
            "2022-12-29 00:00:00-05:00  168.850006  191.679993  24.430000  115.150002   \n",
            "2022-12-30 00:00:00-05:00  169.639999  191.190002  24.650000  114.889999   \n",
            "\n",
            "                                  TLT  \n",
            "Date                                   \n",
            "2022-12-01 00:00:00-05:00  105.760002  \n",
            "2022-12-02 00:00:00-05:00  107.089996  \n",
            "2022-12-05 00:00:00-05:00  105.589996  \n",
            "2022-12-06 00:00:00-05:00  106.949997  \n",
            "2022-12-07 00:00:00-05:00  109.470001  \n",
            "2022-12-08 00:00:00-05:00  109.169998  \n",
            "2022-12-09 00:00:00-05:00  106.330002  \n",
            "2022-12-12 00:00:00-05:00  106.669998  \n",
            "2022-12-13 00:00:00-05:00  107.699997  \n",
            "2022-12-14 00:00:00-05:00  108.160004  \n",
            "2022-12-15 00:00:00-05:00  108.320000  \n",
            "2022-12-16 00:00:00-05:00  107.110001  \n",
            "2022-12-19 00:00:00-05:00  105.309998  \n",
            "2022-12-20 00:00:00-05:00  103.440002  \n",
            "2022-12-21 00:00:00-05:00  103.699997  \n",
            "2022-12-22 00:00:00-05:00  103.680000  \n",
            "2022-12-23 00:00:00-05:00  102.160004  \n",
            "2022-12-27 00:00:00-05:00  100.139999  \n",
            "2022-12-28 00:00:00-05:00   99.550003  \n",
            "2022-12-29 00:00:00-05:00  100.680000  \n",
            "2022-12-30 00:00:00-05:00   99.559998  \n"
          ]
        }
      ],
      "source": [
        "# Get price history over period for all accounts and tickers (one month)\n",
        "data = yf.download(tickerString, group_by=\"Ticker\", start=first_day_of_prev_month, end=last_day_of_prev_month)\n",
        "data = data.iloc[:, data.columns.get_level_values(1)==\"Close\"]\n",
        "data = data.dropna()\n",
        "data.columns = data.columns.droplevel(1)\n",
        "print(data)"
      ]
    },
    {
      "cell_type": "code",
      "execution_count": 31,
      "metadata": {
        "colab": {
          "base_uri": "https://localhost:8080/"
        },
        "id": "u6DBb28-Pegr",
        "outputId": "c3b4659e-63b0-4c2b-cbaf-49051bcffa4f"
      },
      "outputs": [
        {
          "name": "stdout",
          "output_type": "stream",
          "text": [
            "Account: 123456789\n",
            "Cash: 11.1699714236\n",
            "Portfolio: Moderate\n",
            "Average AUM: $6.72\n",
            "\n",
            "\n",
            "Account: 987654321\n",
            "Cash: 21.1937368557\n",
            "Portfolio: Conservative\n",
            "Average AUM: $22.75\n",
            "\n",
            "\n"
          ]
        }
      ],
      "source": [
        "# Calculate average AUM over period\n",
        "for account in accounts:\n",
        "  print(\"Account: \" + str(account.number))\n",
        "  print(\"Cash: \" + str(account.cashBalance))\n",
        "  aum = 0.0\n",
        "  for goal in account.goals:\n",
        "    print(\"Portfolio: \" + goal.portfolio.name)\n",
        "    for allocation in goal.portfolio.allocations:\n",
        "      for index, row in data.iterrows():\n",
        "        price = row[allocation.ticker]\n",
        "        aum += price * allocation.units\n",
        "  aum = aum / len(data)\n",
        "  print(\"Average AUM: \" + '${0:.2f}'.format(aum))\n",
        "  print(\"\\n\")"
      ]
    },
    {
      "cell_type": "code",
      "execution_count": 32,
      "metadata": {
        "colab": {
          "base_uri": "https://localhost:8080/"
        },
        "id": "VMLnM7qkWtBp",
        "outputId": "ceb6c410-8f63-46c5-f6a8-85775f42f205"
      },
      "outputs": [
        {
          "name": "stdout",
          "output_type": "stream",
          "text": [
            "Account: 123456789\n",
            "Cash: 11.1699714236\n",
            "Portfolio: Moderate\n",
            "Average AUM: $6.72\n",
            "Fee: $0.0005706570443678678\n",
            "\n",
            "\n",
            "Account: 987654321\n",
            "Cash: 21.1937368557\n",
            "Portfolio: Conservative\n",
            "Average AUM: $22.75\n",
            "Fee: $0.001931956557080065\n",
            "\n",
            "\n"
          ]
        }
      ],
      "source": [
        "# Calculate fee\n",
        "feeRate = 0.001 # 10bps\n",
        "\n",
        "for account in accounts:\n",
        "  print(\"Account: \" + str(account.number))\n",
        "  print(\"Cash: \" + str(account.cashBalance))\n",
        "  aum = 0.0\n",
        "  for goal in account.goals:\n",
        "    print(\"Portfolio: \" + goal.portfolio.name)\n",
        "    for allocation in goal.portfolio.allocations:\n",
        "      for index, row in data.iterrows():\n",
        "        price = row[allocation.ticker]\n",
        "        aum += price * allocation.units\n",
        "  aum = aum / len(data)\n",
        "  fee = aum * feeRate * (num_days_in_prev_month / 365)\n",
        "  print(\"Average AUM: \" + '${0:.2f}'.format(aum))\n",
        "  print(\"Fee: $\" + str(fee))\n",
        "  print(\"\\n\")"
      ]
    },
    {
      "cell_type": "code",
      "execution_count": 33,
      "metadata": {
        "id": "UHMZ_oTCPs6G"
      },
      "outputs": [],
      "source": [
        "# May need to create sell order(s) if cash < AUM"
      ]
    },
    {
      "cell_type": "code",
      "execution_count": 34,
      "metadata": {
        "colab": {
          "base_uri": "https://localhost:8080/"
        },
        "id": "hkz9azlLP2cC",
        "outputId": "3f310e5d-c8d7-4e2b-bacc-3694227f48da"
      },
      "outputs": [
        {
          "name": "stdout",
          "output_type": "stream",
          "text": [
            "     Account  FeeAmount\n",
            "0  123456789   0.000571\n",
            "1  987654321   0.001932\n"
          ]
        }
      ],
      "source": [
        "# Generate broker instructions for fees (CSV?)\n",
        "feeRate = 0.001 # 10bps\n",
        "feeTable = pd.DataFrame(columns=['Account','FeeAmount'])\n",
        "\n",
        "for account in accounts:\n",
        "  aum = 0.0\n",
        "  for goal in account.goals:\n",
        "    for allocation in goal.portfolio.allocations:\n",
        "      for index, row in data.iterrows():\n",
        "        price = row[allocation.ticker]\n",
        "        aum += price * allocation.units\n",
        "  aum = aum / len(data)\n",
        "  fee = aum * feeRate * (num_days_in_prev_month / 365)\n",
        "  new_row = {'Account':account.number, 'FeeAmount':fee}\n",
        "  feeTable = feeTable.append(new_row, ignore_index=True)\n",
        "\n",
        "print(feeTable)"
      ]
    },
    {
      "cell_type": "code",
      "execution_count": 35,
      "metadata": {
        "id": "xMg8iuiLZOgG"
      },
      "outputs": [],
      "source": [
        "pd.set_option(\"display.precision\", 8)"
      ]
    },
    {
      "cell_type": "code",
      "execution_count": 36,
      "metadata": {
        "colab": {
          "base_uri": "https://localhost:8080/"
        },
        "id": "8LlKczkmZTeg",
        "outputId": "c9e08ef2-58ac-4128-9822-97c0e445ac5a"
      },
      "outputs": [
        {
          "name": "stdout",
          "output_type": "stream",
          "text": [
            "     Account   FeeAmount\n",
            "0  123456789  0.00057066\n",
            "1  987654321  0.00193196\n"
          ]
        }
      ],
      "source": [
        "# Generate broker instructions for fees (CSV?)\n",
        "feeRate = 0.001 # 10bps\n",
        "feeTable = pd.DataFrame(columns=['Account','FeeAmount'])\n",
        "\n",
        "for account in accounts:\n",
        "  aum = 0.0\n",
        "  for goal in account.goals:\n",
        "    for allocation in goal.portfolio.allocations:\n",
        "      for index, row in data.iterrows():\n",
        "        price = row[allocation.ticker]\n",
        "        aum += price * allocation.units\n",
        "  aum = aum / len(data)\n",
        "  fee = aum * feeRate * (num_days_in_prev_month / 365)\n",
        "  new_row = {'Account':account.number, 'FeeAmount':fee}\n",
        "  feeTable = feeTable.append(new_row, ignore_index=True)\n",
        "\n",
        "print(feeTable)"
      ]
    },
    {
      "cell_type": "code",
      "execution_count": 39,
      "metadata": {
        "id": "4NMtrYWhPjrT"
      },
      "outputs": [],
      "source": [
        "# Create function\n",
        "def generateFeeInstructions(accounts: list) -> pd.DataFrame:\n",
        "  tickerString = \"\"\n",
        "  for account in accounts:\n",
        "    for goal in account.goals:\n",
        "      for allocation in goal.portfolio.allocations:\n",
        "        if not allocation.ticker in tickerString:\n",
        "          tickerString += allocation.ticker + \" \"\n",
        "  \n",
        "  from datetime import datetime, timedelta\n",
        "  from calendar import monthrange\n",
        "  today = datetime.today()\n",
        "  first_day_of_month = today.replace(day=1)\n",
        "  month = first_day_of_month.month-1\n",
        "  if month == 0:\n",
        "      month = 12\n",
        "  _, num_days_in_prev_month = monthrange(first_day_of_month.year, month)\n",
        "  first_day_of_prev_month = first_day_of_month - timedelta(days=num_days_in_prev_month)\n",
        "  last_day_of_prev_month = first_day_of_month - timedelta(days=1)\n",
        "\n",
        "  data = yf.download(tickerString, group_by=\"Ticker\", start=first_day_of_prev_month, end=last_day_of_prev_month)\n",
        "  data = data.iloc[:, data.columns.get_level_values(1)==\"Close\"]\n",
        "  data = data.dropna()\n",
        "  data.columns = data.columns.droplevel(1)\n",
        "\n",
        "  feeRate = 0.001 # 10bps\n",
        "  feeTable = pd.DataFrame(columns=['Account','FeeAmount'])\n",
        "\n",
        "  for account in accounts:\n",
        "    aum = 0.0\n",
        "    for goal in account.goals:\n",
        "      for allocation in goal.portfolio.allocations:\n",
        "        for index, row in data.iterrows():\n",
        "          price = row[allocation.ticker]\n",
        "          aum += price * allocation.units\n",
        "    aum = aum / len(data)\n",
        "    fee = aum * feeRate * (num_days_in_prev_month / 365)\n",
        "    new_row = {'Account':account.number, 'FeeAmount':fee}\n",
        "    feeTable = feeTable.append(new_row, ignore_index=True)\n",
        "\n",
        "  return feeTable"
      ]
    },
    {
      "cell_type": "code",
      "execution_count": 40,
      "metadata": {
        "colab": {
          "base_uri": "https://localhost:8080/"
        },
        "id": "kIpYr_ppaC-g",
        "outputId": "d7b3c1a6-a652-4d81-d3eb-0dd8cb9e7577"
      },
      "outputs": [
        {
          "name": "stdout",
          "output_type": "stream",
          "text": [
            "[*********************100%***********************]  5 of 5 completed\n"
          ]
        }
      ],
      "source": [
        "# Save to CSV\n",
        "feeFile = generateFeeInstructions(accounts)"
      ]
    },
    {
      "cell_type": "code",
      "execution_count": 41,
      "metadata": {
        "id": "Ljs5OQcYalHx"
      },
      "outputs": [],
      "source": [
        "feeFile.to_csv('./Data/Fees.csv')"
      ]
    }
  ],
  "metadata": {
    "colab": {
      "provenance": [],
      "toc_visible": true
    },
    "kernelspec": {
      "display_name": "Python 3",
      "language": "python",
      "name": "python3"
    },
    "language_info": {
      "codemirror_mode": {
        "name": "ipython",
        "version": 3
      },
      "file_extension": ".py",
      "mimetype": "text/x-python",
      "name": "python",
      "nbconvert_exporter": "python",
      "pygments_lexer": "ipython3",
      "version": "3.10.8"
    },
    "vscode": {
      "interpreter": {
        "hash": "bf4014decd6db2e7270b0720910deef930124f2ac2cf190091d139b0105c57af"
      }
    }
  },
  "nbformat": 4,
  "nbformat_minor": 0
}

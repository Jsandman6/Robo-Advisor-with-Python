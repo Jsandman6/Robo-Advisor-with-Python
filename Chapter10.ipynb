{
  "cells": [
    {
      "attachments": {},
      "cell_type": "markdown",
      "metadata": {
        "id": "34nKAAjoeaxS"
      },
      "source": [
        "# Chapter 10: Account Opening and KYC"
      ]
    },
    {
      "cell_type": "code",
      "execution_count": null,
      "metadata": {
        "colab": {
          "base_uri": "https://localhost:8080/"
        },
        "id": "tOSpyE4EegxU",
        "outputId": "56edd710-03b4-46f5-c610-e9a7bbb6f9db"
      },
      "outputs": [],
      "source": [
        "import re\n",
        "user_name = input(\"Please enter your Family Name: \")\n",
        "if not re.match(\"^[\\w' -]*$\", user_name):\n",
        "    print (\"Error! Make sure you only use alphaanumerics and the characters dash, space, and apostrophe in your name.\")"
      ]
    },
    {
      "cell_type": "code",
      "execution_count": null,
      "metadata": {
        "id": "bABpmIL6P8n6"
      },
      "outputs": [],
      "source": [
        "user_name = input(\"Please enter your Family Name: \")\n",
        "if not re.match(\"^[a-zA-Z' -]{1,64}$\", user_name):\n",
        "    print (\"Error! Make sure you only use letters and the characters dash, space, and apostrophe in your name.\")"
      ]
    },
    {
      "cell_type": "code",
      "execution_count": null,
      "metadata": {
        "colab": {
          "base_uri": "https://localhost:8080/"
        },
        "id": "beUwcokwQ6Ku",
        "outputId": "c03134d1-8a37-4986-c457-e7b9419932b9"
      },
      "outputs": [],
      "source": [
        "phone_no = input(\"Please enter your Phone Number: \")\n",
        "if not re.match(\"\\d\\d\\d-\\d\\d\\d-\\d\\d\\d\\d\", phone_no):\n",
        "    print (\"Error! Please ensure your phone number follows the format 123-456-7890.\")"
      ]
    },
    {
      "cell_type": "code",
      "execution_count": null,
      "metadata": {
        "colab": {
          "base_uri": "https://localhost:8080/"
        },
        "id": "6qxvk3-vTRdz",
        "outputId": "c432a977-cfd4-49ce-9585-a769e56bd02c"
      },
      "outputs": [],
      "source": [
        "ssn_no = input(\"Please enter your SSN: \")\n",
        "if not re.match(\"^(?!(000|666|9))\\d{3}-(?!00)\\d{2}-(?!0000)\\d{4}$\", ssn_no):\n",
        "    print (\"Error! Please check your SSN.\")"
      ]
    },
    {
      "cell_type": "code",
      "execution_count": null,
      "metadata": {
        "colab": {
          "base_uri": "https://localhost:8080/"
        },
        "id": "uVtPW0C4WJVb",
        "outputId": "e414690d-8a7d-4dc6-bebf-51c46e9d8450"
      },
      "outputs": [],
      "source": [
        "pip install smartystreets_python_sdk"
      ]
    },
    {
      "cell_type": "code",
      "execution_count": null,
      "metadata": {
        "colab": {
          "base_uri": "https://localhost:8080/",
          "height": 550
        },
        "id": "PwKwh1LdWLql",
        "outputId": "af152c71-f271-4ee2-bed6-dfb0a3fbec8e"
      },
      "outputs": [],
      "source": [
        "from smartystreets_python_sdk import StaticCredentials, ClientBuilder                               \n",
        "from smartystreets_python_sdk.us_street import Lookup                                               \n",
        "                                                                                                                                                                                    \n",
        "auth_id = \"your_id\"                                                \n",
        "auth_token = \"your_token\"                                                             \n",
        "credentials = StaticCredentials(auth_id, auth_token)                                            \n",
        "                                                                                                \n",
        "print(\"Step 0. Wire up the client with your keypair.\")                                          \n",
        "client = ClientBuilder(credentials).build_us_street_api_client()                                \n",
        "                                                                                                \n",
        "print(\"Step 1. Make a lookup. (BTW, you can also send entire batches of lookups...)\")           \n",
        "lookup = Lookup()                                                                               \n",
        "lookup.street = \"1 Rosedale\"                                                                    \n",
        "lookup.lastline = \"Baltimore MD\"                                                                \n",
        "lookup.candidates = 10                                                                          \n",
        "                                                                                                \n",
        "print(\"Step 2. Send the lookup.\")                                                               \n",
        "client.send_lookup(lookup)                                                                      \n",
        "                                                                                                \n",
        "print(\"Step 3. Show the resulting candidate addresses:\")                                        \n",
        "for c, candidate in enumerate(lookup.result):                                                   \n",
        "    print(\"- {}: {}, {}\".format(c, candidate.delivery_line_1, candidate.last_line))"
      ]
    },
    {
      "cell_type": "code",
      "execution_count": 2,
      "metadata": {
        "colab": {
          "base_uri": "https://localhost:8080/"
        },
        "id": "-eZ2XnhXYGkl",
        "outputId": "d5b0120e-8c89-43fb-8649-46e4534ccb8e"
      },
      "outputs": [
        {
          "name": "stdout",
          "output_type": "stream",
          "text": [
            "Requirement already satisfied: pyHanko in /Users/akiranin/miniforge3/lib/python3.10/site-packages (0.16.0)\n",
            "Requirement already satisfied: asn1crypto>=1.5.1 in /Users/akiranin/miniforge3/lib/python3.10/site-packages (from pyHanko) (1.5.1)\n",
            "Requirement already satisfied: tzlocal>=2.1 in /Users/akiranin/miniforge3/lib/python3.10/site-packages (from pyHanko) (4.2)\n",
            "Requirement already satisfied: requests>=2.24.0 in /Users/akiranin/miniforge3/lib/python3.10/site-packages (from pyHanko) (2.28.2)\n",
            "Requirement already satisfied: qrcode>=6.1 in /Users/akiranin/miniforge3/lib/python3.10/site-packages (from pyHanko) (7.3.1)\n",
            "Requirement already satisfied: pytz>=2020.1 in /Users/akiranin/miniforge3/lib/python3.10/site-packages (from pyHanko) (2022.7.1)\n",
            "Requirement already satisfied: cryptography>=3.3.1 in /Users/akiranin/miniforge3/lib/python3.10/site-packages (from pyHanko) (39.0.0)\n",
            "Requirement already satisfied: click>=7.1.2 in /Users/akiranin/miniforge3/lib/python3.10/site-packages (from pyHanko) (8.1.3)\n",
            "Requirement already satisfied: pyyaml>=5.3.1 in /Users/akiranin/miniforge3/lib/python3.10/site-packages (from pyHanko) (6.0)\n",
            "Requirement already satisfied: pyhanko-certvalidator~=0.19.8 in /Users/akiranin/miniforge3/lib/python3.10/site-packages (from pyHanko) (0.19.8)\n",
            "Requirement already satisfied: cffi>=1.12 in /Users/akiranin/miniforge3/lib/python3.10/site-packages (from cryptography>=3.3.1->pyHanko) (1.15.1)\n",
            "Requirement already satisfied: uritools>=3.0.1 in /Users/akiranin/miniforge3/lib/python3.10/site-packages (from pyhanko-certvalidator~=0.19.8->pyHanko) (4.0.1)\n",
            "Requirement already satisfied: oscrypto>=1.1.0 in /Users/akiranin/miniforge3/lib/python3.10/site-packages (from pyhanko-certvalidator~=0.19.8->pyHanko) (1.3.0)\n",
            "Requirement already satisfied: urllib3<1.27,>=1.21.1 in /Users/akiranin/miniforge3/lib/python3.10/site-packages (from requests>=2.24.0->pyHanko) (1.26.14)\n",
            "Requirement already satisfied: idna<4,>=2.5 in /Users/akiranin/miniforge3/lib/python3.10/site-packages (from requests>=2.24.0->pyHanko) (3.4)\n",
            "Requirement already satisfied: charset-normalizer<4,>=2 in /Users/akiranin/miniforge3/lib/python3.10/site-packages (from requests>=2.24.0->pyHanko) (2.0.12)\n",
            "Requirement already satisfied: certifi>=2017.4.17 in /Users/akiranin/miniforge3/lib/python3.10/site-packages (from requests>=2.24.0->pyHanko) (2022.12.7)\n",
            "Requirement already satisfied: pytz-deprecation-shim in /Users/akiranin/miniforge3/lib/python3.10/site-packages (from tzlocal>=2.1->pyHanko) (0.1.0.post0)\n",
            "Requirement already satisfied: pycparser in /Users/akiranin/miniforge3/lib/python3.10/site-packages (from cffi>=1.12->cryptography>=3.3.1->pyHanko) (2.21)\n",
            "Requirement already satisfied: tzdata in /Users/akiranin/miniforge3/lib/python3.10/site-packages (from pytz-deprecation-shim->tzlocal>=2.1->pyHanko) (2022.7)\n",
            "Requirement already satisfied: nest_asyncio in /Users/akiranin/miniforge3/lib/python3.10/site-packages (1.5.6)\n"
          ]
        }
      ],
      "source": [
        "!pip install pyHanko\n",
        "!pip install nest_asyncio"
      ]
    },
    {
      "cell_type": "code",
      "execution_count": 2,
      "metadata": {},
      "outputs": [],
      "source": [
        "# Run in terminal:\n",
        "#!openssl req -x509 -newkey rsa:4096 -keyout ./Data/key.pem -out ./Data/cert.pem -sha256 -days 365"
      ]
    },
    {
      "cell_type": "code",
      "execution_count": 4,
      "metadata": {},
      "outputs": [],
      "source": [
        "from pyhanko.sign import signers\n",
        "from pyhanko.pdf_utils.incremental_writer import IncrementalPdfFileWriter\n",
        "import nest_asyncio\n",
        "nest_asyncio.apply()\n",
        "\n",
        "cms_signer = signers.SimpleSigner.load(\n",
        "    './Data/key.pem', './Data/cert.pem',\n",
        "    key_passphrase=b'password'\n",
        ")\n",
        "\n",
        "with open('./Data/document.pdf', 'r+b') as doc:\n",
        "    w = IncrementalPdfFileWriter(doc)\n",
        "    out = signers.sign_pdf(\n",
        "        w, signers.PdfSignatureMetadata(field_name='Signature1'),\n",
        "        signer=cms_signer,\n",
        "        in_place=False\n",
        "    )\n",
        "    \n",
        "with open(\"./Data/signed.pdf\", \"wb\") as f:\n",
        "    f.write(out.getbuffer())"
      ]
    },
    {
      "cell_type": "code",
      "execution_count": null,
      "metadata": {
        "colab": {
          "base_uri": "https://localhost:8080/"
        },
        "id": "fh3fMAsGeAN_",
        "outputId": "316a1374-3174-402d-fb99-93df9134dd18"
      },
      "outputs": [],
      "source": [
        "pip install PassportEye"
      ]
    },
    {
      "cell_type": "code",
      "execution_count": null,
      "metadata": {
        "colab": {
          "base_uri": "https://localhost:8080/"
        },
        "id": "3nSjouNMjgF7",
        "outputId": "ea00efff-6a89-486f-e5ce-fa2d2e266de9"
      },
      "outputs": [],
      "source": [
        "! apt install tesseract-ocr"
      ]
    },
    {
      "cell_type": "code",
      "execution_count": null,
      "metadata": {
        "colab": {
          "base_uri": "https://localhost:8080/"
        },
        "id": "mvLR3ligh8oK",
        "outputId": "f9456509-e34e-4ddf-c7e5-9f262a9c4d98"
      },
      "outputs": [],
      "source": [
        "pip install pytesseract"
      ]
    },
    {
      "cell_type": "code",
      "execution_count": null,
      "metadata": {
        "id": "BRjlnoq0ixd_"
      },
      "outputs": [],
      "source": [
        "import pytesseract\n",
        "pytesseract.pytesseract.tesseract_cmd = r'/usr/bin/tesseract'"
      ]
    },
    {
      "cell_type": "code",
      "execution_count": null,
      "metadata": {
        "id": "yiFtGT6cg9AS"
      },
      "outputs": [],
      "source": [
        "from passporteye import read_mrz\n",
        "mrz = read_mrz('./Data/passport-td3.png')\n",
        "#mrz = read_mrz('./Data/passport-td3.png', extra_cmdline_params='--oem 0')"
      ]
    },
    {
      "cell_type": "code",
      "execution_count": null,
      "metadata": {
        "colab": {
          "base_uri": "https://localhost:8080/"
        },
        "id": "LkRUFgIvjuaR",
        "outputId": "d5663fbf-29e8-4fd6-e111-c6f33f3a21ff"
      },
      "outputs": [],
      "source": [
        "print(mrz.number)"
      ]
    },
    {
      "cell_type": "code",
      "execution_count": null,
      "metadata": {
        "id": "jAiPRQTUp9MS"
      },
      "outputs": [],
      "source": [
        "import requests\n",
        "response = requests.get(\"https://www.treasury.gov/ofac/downloads/sdnlist.txt\")\n",
        "data = response.text"
      ]
    },
    {
      "cell_type": "code",
      "execution_count": null,
      "metadata": {
        "colab": {
          "base_uri": "https://localhost:8080/"
        },
        "id": "qSKjT0g4qD6a",
        "outputId": "f7aa1f37-0557-447a-d3d5-4385b49f9b2f"
      },
      "outputs": [],
      "source": [
        "data.find(\"Ranin\")"
      ]
    },
    {
      "cell_type": "code",
      "execution_count": null,
      "metadata": {
        "colab": {
          "base_uri": "https://localhost:8080/"
        },
        "id": "npYLNj5NqxlZ",
        "outputId": "50cd85ff-bb9f-4fdb-9f37-cfce584e5028"
      },
      "outputs": [],
      "source": [
        "data.find(\"Zakharova\")"
      ]
    },
    {
      "cell_type": "code",
      "execution_count": null,
      "metadata": {
        "colab": {
          "base_uri": "https://localhost:8080/"
        },
        "id": "PFTAG_fsrGHF",
        "outputId": "b0ddb411-f4f0-4864-d531-faf8d7cfe7cc"
      },
      "outputs": [],
      "source": [
        "for item in data.split(\"\\n\"):\n",
        "  if \"Zakharova\" in item:\n",
        "    print (item.strip())"
      ]
    }
  ],
  "metadata": {
    "colab": {
      "provenance": [],
      "toc_visible": true
    },
    "kernelspec": {
      "display_name": "Python 3",
      "language": "python",
      "name": "python3"
    },
    "language_info": {
      "codemirror_mode": {
        "name": "ipython",
        "version": 3
      },
      "file_extension": ".py",
      "mimetype": "text/x-python",
      "name": "python",
      "nbconvert_exporter": "python",
      "pygments_lexer": "ipython3",
      "version": "3.10.8"
    },
    "vscode": {
      "interpreter": {
        "hash": "bf4014decd6db2e7270b0720910deef930124f2ac2cf190091d139b0105c57af"
      }
    }
  },
  "nbformat": 4,
  "nbformat_minor": 0
}

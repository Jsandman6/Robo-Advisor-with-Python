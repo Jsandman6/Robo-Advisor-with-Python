{
  "cells": [
    {
      "cell_type": "markdown",
      "metadata": {
        "id": "9s1UhPveVtwh"
      },
      "source": [
        "# Chapter 13: Performance Reporting"
      ]
    },
    {
      "cell_type": "code",
      "execution_count": 39,
      "metadata": {},
      "outputs": [],
      "source": [
        "import yfinance as yf"
      ]
    },
    {
      "cell_type": "code",
      "execution_count": 40,
      "metadata": {},
      "outputs": [],
      "source": [
        "class Allocation:\n",
        "  def __init__(self, ticker, percentage):\n",
        "    self.ticker = ticker\n",
        "    self.percentage = percentage\n",
        "    self.units = 0.0\n",
        "\n",
        "class Portfolio:\n",
        "\n",
        "  def __init__(self, tickerString: str, expectedReturn: float, portfolioName: str, riskBucket: int):\n",
        "\n",
        "    self.name = portfolioName\n",
        "    self.riskBucket = riskBucket\n",
        "    self.expectedReturn = expectedReturn\n",
        "    self.allocations = []\n",
        "\n",
        "    from pypfopt.efficient_frontier import EfficientFrontier\n",
        "    from pypfopt import risk_models\n",
        "    from pypfopt import expected_returns\n",
        "\n",
        "    df = self.__getDailyPrices(tickerString, \"20y\")\n",
        "\n",
        "    mu = expected_returns.mean_historical_return(df)\n",
        "    S = risk_models.sample_cov(df)\n",
        "\n",
        "    ef = EfficientFrontier(mu, S)\n",
        "\n",
        "    ef.efficient_return(expectedReturn)\n",
        "    self.expectedRisk = ef.portfolio_performance()[1]\n",
        "    portfolioWeights = ef.clean_weights()\n",
        "\n",
        "    for key, value in portfolioWeights.items():\n",
        "      newAllocation = Allocation(key, value)\n",
        "      self.allocations.append(newAllocation)\n",
        "\n",
        "  def __getDailyPrices(self, tickerStringList, period):\n",
        "    data = yf.download(tickerStringList, group_by=\"Ticker\", period=period)\n",
        "    data = data.iloc[:, data.columns.get_level_values(1)==\"Close\"]\n",
        "    data = data.dropna()\n",
        "    data.columns = data.columns.droplevel(1)\n",
        "    return data\n",
        "\n",
        "  def printPortfolio(self):\n",
        "    print(\"Portfolio Name: \" + self.name)\n",
        "    print(\"Risk Bucket: \" + str(self.riskBucket))\n",
        "    print(\"Expected Return: \" + str(self.expectedReturn))\n",
        "    print(\"Expected Risk: \" + str(self.expectedRisk))\n",
        "    print(\"Allocations: \")\n",
        "    for allocation in self.allocations:\n",
        "      print(\"Ticker: \" + allocation.ticker + \", Percentage: \" + str(allocation.percentage))\n",
        "\n",
        "  @staticmethod\n",
        "  def getPortfolioMapping(riskToleranceScore, riskCapacityScore):\n",
        "    import pandas as pd\n",
        "    allocationLookupTable=pd.read_csv('./Data/Risk Mapping Lookup.csv')\n",
        "    matchTol = (allocationLookupTable['Tolerance_min'] <= riskTolScore) & (allocationLookupTable['Tolerance_max'] >= riskTolScore)\n",
        "    matchCap = (allocationLookupTable['Capacity_min'] <= riskCapScore) & (allocationLookupTable['Capacity_max'] >= riskCapScore)\n",
        "    portfolioID = allocationLookupTable['Portfolio'][(matchTol & matchCap)]\n",
        "    return portfolioID.values[0]"
      ]
    },
    {
      "cell_type": "code",
      "execution_count": 41,
      "metadata": {
        "colab": {
          "base_uri": "https://localhost:8080/"
        },
        "id": "Bb3z8RnOCqcy",
        "outputId": "4945927e-0c42-477b-c1dd-96b8d7701506"
      },
      "outputs": [
        {
          "name": "stdout",
          "output_type": "stream",
          "text": [
            "             Value Cashflow\n",
            "Date                       \n",
            "2019-12-30       0        0\n",
            "2019-12-31  100000   100000\n",
            "2020-03-23   77985        0\n",
            "2020-12-31  110828        0\n"
          ]
        }
      ],
      "source": [
        "# Can use for Goal or Acct level\n",
        "# Need date, portfoliovalue, cashflow +/-\n",
        "import pandas as pd\n",
        "history = pd.DataFrame(columns=['Date','Value','Cashflow'])\n",
        "history = history.set_index('Date')\n",
        "new_row = pd.Series({'Value':0,'Cashflow':0}, name=pd.Timestamp('2019-12-30'))\n",
        "history = history.append(new_row)\n",
        "new_row = pd.Series({'Value':100000,'Cashflow':100000}, name=pd.Timestamp('2019-12-31'))\n",
        "history = history.append(new_row)\n",
        "new_row = pd.Series({'Value':77985,'Cashflow':0}, name=pd.Timestamp('2020-03-23'))\n",
        "history = history.append(new_row)\n",
        "new_row = pd.Series({'Value':110828,'Cashflow':0}, name=pd.Timestamp('2020-12-31'))\n",
        "history = history.append(new_row)\n",
        "print(history)"
      ]
    },
    {
      "cell_type": "code",
      "execution_count": 42,
      "metadata": {
        "id": "X9RIzuzzovKG"
      },
      "outputs": [],
      "source": [
        "def calculatePNL_TWRR(history: pd.DataFrame, annualized: bool=False):\n",
        "  twrr = 1.0\n",
        "  beginValue = history.iloc[0]['Value']\n",
        "  for period in range(len(history)-1):\n",
        "    endValue = history.iloc[period+1]['Value']\n",
        "    cashflow = history.iloc[period+1]['Cashflow']\n",
        "    if beginValue > 0.0 or cashflow > 0.0:\n",
        "      periodReturn = (endValue-(beginValue+cashflow))/(beginValue+cashflow)\n",
        "      twrr = (1+periodReturn)*twrr\n",
        "    beginValue = endValue\n",
        "\n",
        "  twrr = twrr - 1\n",
        "\n",
        "  if annualized:\n",
        "    from dateutil import parser\n",
        "    startDateTime = history.iloc[0].name\n",
        "    endDateTime = history.iloc[len(history)-1].name\n",
        "    from dateutil.relativedelta import relativedelta\n",
        "    delta = relativedelta(endDateTime, startDateTime)\n",
        "    return twrr/delta.years\n",
        "  else:\n",
        "    return twrr"
      ]
    },
    {
      "cell_type": "code",
      "execution_count": 43,
      "metadata": {
        "colab": {
          "base_uri": "https://localhost:8080/"
        },
        "id": "ZV3_m9u3Dl6M",
        "outputId": "4b3f6a06-6621-4ef7-ba8a-662e19fff921"
      },
      "outputs": [
        {
          "name": "stdout",
          "output_type": "stream",
          "text": [
            "0.10827999999999993\n",
            "0.10827999999999993\n"
          ]
        }
      ],
      "source": [
        "print(calculatePNL_TWRR(history=history))\n",
        "print(calculatePNL_TWRR(history=history,annualized=True))"
      ]
    },
    {
      "cell_type": "code",
      "execution_count": 44,
      "metadata": {
        "colab": {
          "base_uri": "https://localhost:8080/"
        },
        "id": "ejTle40gD6A6",
        "outputId": "1f933bf2-6fc4-4dab-c0ae-dcba65bb2070"
      },
      "outputs": [
        {
          "name": "stdout",
          "output_type": "stream",
          "text": [
            "             Value Cashflow\n",
            "Date                       \n",
            "2019-12-30       0        0\n",
            "2019-12-31  100000   100000\n",
            "2020-03-23   77985        0\n",
            "2020-03-23   87985    10000\n",
            "2020-12-31  125039        0\n"
          ]
        }
      ],
      "source": [
        "history = pd.DataFrame(columns=['Date','Value','Cashflow'])\n",
        "history = history.set_index('Date')\n",
        "new_row = pd.Series({'Value':0,'Cashflow':0}, name=pd.Timestamp('2019-12-30'))\n",
        "history = history.append(new_row)\n",
        "new_row = pd.Series({'Value':100000,'Cashflow':100000}, name=pd.Timestamp('2019-12-31'))\n",
        "history = history.append(new_row)\n",
        "new_row = pd.Series({'Value':77985,'Cashflow':0}, name=pd.Timestamp('2020-03-23'))\n",
        "history = history.append(new_row)\n",
        "new_row = pd.Series({'Value':87985,'Cashflow':10000}, name=pd.Timestamp('2020-03-23'))\n",
        "history = history.append(new_row)\n",
        "new_row = pd.Series({'Value':125039,'Cashflow':0}, name=pd.Timestamp('2020-12-31'))\n",
        "history = history.append(new_row)\n",
        "print(history)"
      ]
    },
    {
      "cell_type": "code",
      "execution_count": 45,
      "metadata": {
        "colab": {
          "base_uri": "https://localhost:8080/"
        },
        "id": "-wecl6kJD7Sn",
        "outputId": "3a7f263c-21e9-48dd-9804-24c9a763d83b"
      },
      "outputs": [
        {
          "name": "stdout",
          "output_type": "stream",
          "text": [
            "0.10827600329601639\n"
          ]
        }
      ],
      "source": [
        "print(calculatePNL_TWRR(history=history))\n",
        "#print(calculatePNL_TWRR(history=history,annualized=True))"
      ]
    },
    {
      "cell_type": "code",
      "execution_count": 46,
      "metadata": {
        "colab": {
          "base_uri": "https://localhost:8080/"
        },
        "id": "0lAeL9IrMpTP",
        "outputId": "4c06e48f-6cb0-4934-86ee-07a15c342263"
      },
      "outputs": [
        {
          "name": "stdout",
          "output_type": "stream",
          "text": [
            "             Value Cashflow\n",
            "Date                       \n",
            "2019-12-30       0        0\n",
            "2019-12-31  100000   100000\n",
            "2020-03-23   77985        0\n",
            "2020-03-23   67985   -10000\n",
            "2020-12-31   96616        0\n"
          ]
        }
      ],
      "source": [
        "history = pd.DataFrame(columns=['Date','Value','Cashflow'])\n",
        "history = history.set_index('Date')\n",
        "new_row = pd.Series({'Value':0,'Cashflow':0}, name=pd.Timestamp('2019-12-30'))\n",
        "history = history.append(new_row)\n",
        "new_row = pd.Series({'Value':100000,'Cashflow':100000}, name=pd.Timestamp('2019-12-31'))\n",
        "history = history.append(new_row)\n",
        "new_row = pd.Series({'Value':77985,'Cashflow':0}, name=pd.Timestamp('2020-03-23'))\n",
        "history = history.append(new_row)\n",
        "new_row = pd.Series({'Value':67985,'Cashflow':-10000}, name=pd.Timestamp('2020-03-23'))\n",
        "history = history.append(new_row)\n",
        "new_row = pd.Series({'Value':96616,'Cashflow':0}, name=pd.Timestamp('2020-12-31'))\n",
        "history = history.append(new_row)\n",
        "print(history)"
      ]
    },
    {
      "cell_type": "code",
      "execution_count": 47,
      "metadata": {
        "colab": {
          "base_uri": "https://localhost:8080/"
        },
        "id": "KuFuyu1PMs_m",
        "outputId": "3b9d6cbc-f26e-4c78-a917-dacda99d7196"
      },
      "outputs": [
        {
          "name": "stdout",
          "output_type": "stream",
          "text": [
            "0.1082737015518127\n"
          ]
        }
      ],
      "source": [
        "print(calculatePNL_TWRR(history=history))"
      ]
    },
    {
      "cell_type": "code",
      "execution_count": 48,
      "metadata": {
        "id": "wsjZl_JepGFF"
      },
      "outputs": [],
      "source": [
        "# MWRR: just show formula, not relevant for Robo (hedge funds etc.)"
      ]
    },
    {
      "cell_type": "code",
      "execution_count": 49,
      "metadata": {
        "colab": {
          "base_uri": "https://localhost:8080/",
          "height": 473
        },
        "id": "wOaVeYohrf74",
        "outputId": "6a381439-12a2-48b3-a1ad-3588e4dfff4f"
      },
      "outputs": [
        {
          "name": "stdout",
          "output_type": "stream",
          "text": [
            "[*********************100%***********************]  5 of 5 completed\n"
          ]
        },
        {
          "data": {
            "text/html": [
              "<div>\n",
              "<style scoped>\n",
              "    .dataframe tbody tr th:only-of-type {\n",
              "        vertical-align: middle;\n",
              "    }\n",
              "\n",
              "    .dataframe tbody tr th {\n",
              "        vertical-align: top;\n",
              "    }\n",
              "\n",
              "    .dataframe thead th {\n",
              "        text-align: right;\n",
              "    }\n",
              "</style>\n",
              "<table border=\"1\" class=\"dataframe\">\n",
              "  <thead>\n",
              "    <tr style=\"text-align: right;\">\n",
              "      <th></th>\n",
              "      <th>GLD</th>\n",
              "      <th>DBC</th>\n",
              "      <th>IEI</th>\n",
              "      <th>TLT</th>\n",
              "      <th>VTI</th>\n",
              "    </tr>\n",
              "    <tr>\n",
              "      <th>Date</th>\n",
              "      <th></th>\n",
              "      <th></th>\n",
              "      <th></th>\n",
              "      <th></th>\n",
              "      <th></th>\n",
              "    </tr>\n",
              "  </thead>\n",
              "  <tbody>\n",
              "    <tr>\n",
              "      <th>2018-01-26 00:00:00-05:00</th>\n",
              "      <td>128.070007</td>\n",
              "      <td>17.250000</td>\n",
              "      <td>120.980003</td>\n",
              "      <td>123.589996</td>\n",
              "      <td>146.860001</td>\n",
              "    </tr>\n",
              "    <tr>\n",
              "      <th>2018-01-29 00:00:00-05:00</th>\n",
              "      <td>127.349998</td>\n",
              "      <td>17.200001</td>\n",
              "      <td>120.839996</td>\n",
              "      <td>122.730003</td>\n",
              "      <td>145.899994</td>\n",
              "    </tr>\n",
              "    <tr>\n",
              "      <th>2018-01-30 00:00:00-05:00</th>\n",
              "      <td>126.800003</td>\n",
              "      <td>17.080000</td>\n",
              "      <td>120.760002</td>\n",
              "      <td>122.010002</td>\n",
              "      <td>144.380005</td>\n",
              "    </tr>\n",
              "    <tr>\n",
              "      <th>2018-01-31 00:00:00-05:00</th>\n",
              "      <td>127.650002</td>\n",
              "      <td>17.100000</td>\n",
              "      <td>120.669998</td>\n",
              "      <td>122.730003</td>\n",
              "      <td>144.429993</td>\n",
              "    </tr>\n",
              "    <tr>\n",
              "      <th>2018-02-01 00:00:00-05:00</th>\n",
              "      <td>128.070007</td>\n",
              "      <td>17.270000</td>\n",
              "      <td>120.519997</td>\n",
              "      <td>120.699997</td>\n",
              "      <td>144.369995</td>\n",
              "    </tr>\n",
              "    <tr>\n",
              "      <th>...</th>\n",
              "      <td>...</td>\n",
              "      <td>...</td>\n",
              "      <td>...</td>\n",
              "      <td>...</td>\n",
              "      <td>...</td>\n",
              "    </tr>\n",
              "    <tr>\n",
              "      <th>2023-01-19 00:00:00-05:00</th>\n",
              "      <td>179.889999</td>\n",
              "      <td>24.940001</td>\n",
              "      <td>117.800003</td>\n",
              "      <td>107.949997</td>\n",
              "      <td>195.020004</td>\n",
              "    </tr>\n",
              "    <tr>\n",
              "      <th>2023-01-20 00:00:00-05:00</th>\n",
              "      <td>179.289993</td>\n",
              "      <td>25.090000</td>\n",
              "      <td>117.370003</td>\n",
              "      <td>106.199997</td>\n",
              "      <td>198.759995</td>\n",
              "    </tr>\n",
              "    <tr>\n",
              "      <th>2023-01-23 00:00:00-05:00</th>\n",
              "      <td>179.630005</td>\n",
              "      <td>25.150000</td>\n",
              "      <td>117.080002</td>\n",
              "      <td>105.699997</td>\n",
              "      <td>201.279999</td>\n",
              "    </tr>\n",
              "    <tr>\n",
              "      <th>2023-01-24 00:00:00-05:00</th>\n",
              "      <td>180.279999</td>\n",
              "      <td>25.010000</td>\n",
              "      <td>117.370003</td>\n",
              "      <td>107.220001</td>\n",
              "      <td>200.949997</td>\n",
              "    </tr>\n",
              "    <tr>\n",
              "      <th>2023-01-25 00:00:00-05:00</th>\n",
              "      <td>181.110001</td>\n",
              "      <td>24.940001</td>\n",
              "      <td>117.489998</td>\n",
              "      <td>107.480003</td>\n",
              "      <td>201.050003</td>\n",
              "    </tr>\n",
              "  </tbody>\n",
              "</table>\n",
              "<p>1258 rows × 5 columns</p>\n",
              "</div>"
            ],
            "text/plain": [
              "                                  GLD        DBC         IEI         TLT  \\\n",
              "Date                                                                       \n",
              "2018-01-26 00:00:00-05:00  128.070007  17.250000  120.980003  123.589996   \n",
              "2018-01-29 00:00:00-05:00  127.349998  17.200001  120.839996  122.730003   \n",
              "2018-01-30 00:00:00-05:00  126.800003  17.080000  120.760002  122.010002   \n",
              "2018-01-31 00:00:00-05:00  127.650002  17.100000  120.669998  122.730003   \n",
              "2018-02-01 00:00:00-05:00  128.070007  17.270000  120.519997  120.699997   \n",
              "...                               ...        ...         ...         ...   \n",
              "2023-01-19 00:00:00-05:00  179.889999  24.940001  117.800003  107.949997   \n",
              "2023-01-20 00:00:00-05:00  179.289993  25.090000  117.370003  106.199997   \n",
              "2023-01-23 00:00:00-05:00  179.630005  25.150000  117.080002  105.699997   \n",
              "2023-01-24 00:00:00-05:00  180.279999  25.010000  117.370003  107.220001   \n",
              "2023-01-25 00:00:00-05:00  181.110001  24.940001  117.489998  107.480003   \n",
              "\n",
              "                                  VTI  \n",
              "Date                                   \n",
              "2018-01-26 00:00:00-05:00  146.860001  \n",
              "2018-01-29 00:00:00-05:00  145.899994  \n",
              "2018-01-30 00:00:00-05:00  144.380005  \n",
              "2018-01-31 00:00:00-05:00  144.429993  \n",
              "2018-02-01 00:00:00-05:00  144.369995  \n",
              "...                               ...  \n",
              "2023-01-19 00:00:00-05:00  195.020004  \n",
              "2023-01-20 00:00:00-05:00  198.759995  \n",
              "2023-01-23 00:00:00-05:00  201.279999  \n",
              "2023-01-24 00:00:00-05:00  200.949997  \n",
              "2023-01-25 00:00:00-05:00  201.050003  \n",
              "\n",
              "[1258 rows x 5 columns]"
            ]
          },
          "execution_count": 49,
          "metadata": {},
          "output_type": "execute_result"
        }
      ],
      "source": [
        "data = yf.download(\"VTI TLT IEI GLD DBC\", group_by=\"Ticker\", period=\"5y\")\n",
        "data = data.iloc[:, data.columns.get_level_values(1)==\"Close\"]\n",
        "data = data.dropna()\n",
        "data.columns = data.columns.droplevel(1)\n",
        "data"
      ]
    },
    {
      "cell_type": "code",
      "execution_count": 50,
      "metadata": {
        "colab": {
          "base_uri": "https://localhost:8080/"
        },
        "id": "nRJKjm4-3A7q",
        "outputId": "3ec00f91-df6e-4589-82b7-b312488f812d"
      },
      "outputs": [
        {
          "data": {
            "text/plain": [
              "GLD    128.070007\n",
              "DBC     17.250000\n",
              "IEI    120.980003\n",
              "TLT    123.589996\n",
              "VTI    146.860001\n",
              "Name: 2018-01-26 00:00:00-05:00, dtype: float64"
            ]
          },
          "execution_count": 50,
          "metadata": {},
          "output_type": "execute_result"
        }
      ],
      "source": [
        "data.iloc[0]"
      ]
    },
    {
      "cell_type": "code",
      "execution_count": 51,
      "metadata": {},
      "outputs": [
        {
          "name": "stdout",
          "output_type": "stream",
          "text": [
            "[*********************100%***********************]  5 of 5 completed\n"
          ]
        }
      ],
      "source": [
        "myPortfolio = Portfolio(\"VTI TLT IEI GLD DBC\", expectedReturn = 0.05, portfolioName = \"Moderate\", riskBucket = 3)\n",
        "\n",
        "# Manual update using Chapter 12 outputs:\n",
        "myPortfolio.allocations[0].units = 0.0\n",
        "myPortfolio.allocations[1].units = 0.02213974051911262\n",
        "myPortfolio.allocations[2].units = 0.02171626612838836\n",
        "myPortfolio.allocations[3].units = 0.0163863407640173\n",
        "myPortfolio.allocations[4].units = 0.009743440233"
      ]
    },
    {
      "cell_type": "code",
      "execution_count": 52,
      "metadata": {
        "colab": {
          "base_uri": "https://localhost:8080/"
        },
        "id": "uuQ9vUWa3oO2",
        "outputId": "8c59e789-5125-4616-8d70-2adb5377d5c0"
      },
      "outputs": [
        {
          "name": "stdout",
          "output_type": "stream",
          "text": [
            "DBC: 0.0\n",
            "TLT: 2.7362504496789772\n",
            "IEI: 2.627233949112487\n",
            "VTI: 2.4064980146050092\n",
            "GLD: 1.2478424620033977\n",
            "9.01782487539987\n"
          ]
        }
      ],
      "source": [
        "totalValue = 0.0\n",
        "for allocation in myPortfolio.allocations:\n",
        "  price = data.iloc[0][allocation.ticker]\n",
        "  value = allocation.units * price\n",
        "  print(allocation.ticker + \": \" + str(value))\n",
        "  totalValue += value\n",
        "print(totalValue)"
      ]
    },
    {
      "cell_type": "code",
      "execution_count": 53,
      "metadata": {
        "colab": {
          "base_uri": "https://localhost:8080/",
          "height": 112
        },
        "id": "xLfQIJ-zs450",
        "outputId": "f4986291-6107-4e56-befd-43ea598355da"
      },
      "outputs": [
        {
          "data": {
            "text/html": [
              "<div>\n",
              "<style scoped>\n",
              "    .dataframe tbody tr th:only-of-type {\n",
              "        vertical-align: middle;\n",
              "    }\n",
              "\n",
              "    .dataframe tbody tr th {\n",
              "        vertical-align: top;\n",
              "    }\n",
              "\n",
              "    .dataframe thead th {\n",
              "        text-align: right;\n",
              "    }\n",
              "</style>\n",
              "<table border=\"1\" class=\"dataframe\">\n",
              "  <thead>\n",
              "    <tr style=\"text-align: right;\">\n",
              "      <th></th>\n",
              "      <th>Value</th>\n",
              "      <th>Cashflow</th>\n",
              "    </tr>\n",
              "    <tr>\n",
              "      <th>Date</th>\n",
              "      <th></th>\n",
              "      <th></th>\n",
              "    </tr>\n",
              "  </thead>\n",
              "  <tbody>\n",
              "    <tr>\n",
              "      <th>2018-01-26 00:00:00-05:00</th>\n",
              "      <td>9.017825</td>\n",
              "      <td>0.0</td>\n",
              "    </tr>\n",
              "  </tbody>\n",
              "</table>\n",
              "</div>"
            ],
            "text/plain": [
              "                              Value  Cashflow\n",
              "Date                                         \n",
              "2018-01-26 00:00:00-05:00  9.017825       0.0"
            ]
          },
          "execution_count": 53,
          "metadata": {},
          "output_type": "execute_result"
        }
      ],
      "source": [
        "cashInvested = 0\n",
        "history = pd.DataFrame(columns=['Date','Value','Cashflow'])\n",
        "history = history.set_index('Date')\n",
        "new_row = pd.Series({'Value':totalValue,'Cashflow':cashInvested}, name=data.iloc[0].name)\n",
        "history = history.append(new_row)\n",
        "history"
      ]
    },
    {
      "cell_type": "code",
      "execution_count": 54,
      "metadata": {
        "colab": {
          "base_uri": "https://localhost:8080/"
        },
        "id": "CghSVtBo9HhH",
        "outputId": "1b160f6a-e183-4c70-eb1a-df49ad6f74fe"
      },
      "outputs": [
        {
          "name": "stdout",
          "output_type": "stream",
          "text": [
            "DBC: 0.0\n",
            "TLT: 2.379579385315863\n",
            "IEI: 2.5514440610333993\n",
            "VTI: 3.2944738606128214\n",
            "GLD: 1.764634466545554\n",
            "9.990131773507636\n"
          ]
        }
      ],
      "source": [
        "totalValue = 0.0\n",
        "for allocation in myPortfolio.allocations:\n",
        "  price = data.iloc[len(data)-1][allocation.ticker]\n",
        "  value = allocation.units * price\n",
        "  print(allocation.ticker + \": \" + str(value))\n",
        "  totalValue += value\n",
        "print(totalValue)\n"
      ]
    },
    {
      "cell_type": "code",
      "execution_count": 55,
      "metadata": {
        "colab": {
          "base_uri": "https://localhost:8080/",
          "height": 143
        },
        "id": "e9UPq-vB9TrB",
        "outputId": "cac3d6bc-406a-4ffa-8d90-e0a12da775b5"
      },
      "outputs": [
        {
          "data": {
            "text/html": [
              "<div>\n",
              "<style scoped>\n",
              "    .dataframe tbody tr th:only-of-type {\n",
              "        vertical-align: middle;\n",
              "    }\n",
              "\n",
              "    .dataframe tbody tr th {\n",
              "        vertical-align: top;\n",
              "    }\n",
              "\n",
              "    .dataframe thead th {\n",
              "        text-align: right;\n",
              "    }\n",
              "</style>\n",
              "<table border=\"1\" class=\"dataframe\">\n",
              "  <thead>\n",
              "    <tr style=\"text-align: right;\">\n",
              "      <th></th>\n",
              "      <th>Value</th>\n",
              "      <th>Cashflow</th>\n",
              "    </tr>\n",
              "    <tr>\n",
              "      <th>Date</th>\n",
              "      <th></th>\n",
              "      <th></th>\n",
              "    </tr>\n",
              "  </thead>\n",
              "  <tbody>\n",
              "    <tr>\n",
              "      <th>2018-01-26 00:00:00-05:00</th>\n",
              "      <td>9.017825</td>\n",
              "      <td>0.0</td>\n",
              "    </tr>\n",
              "    <tr>\n",
              "      <th>2023-01-25 00:00:00-05:00</th>\n",
              "      <td>9.990132</td>\n",
              "      <td>0.0</td>\n",
              "    </tr>\n",
              "  </tbody>\n",
              "</table>\n",
              "</div>"
            ],
            "text/plain": [
              "                              Value  Cashflow\n",
              "Date                                         \n",
              "2018-01-26 00:00:00-05:00  9.017825       0.0\n",
              "2023-01-25 00:00:00-05:00  9.990132       0.0"
            ]
          },
          "execution_count": 55,
          "metadata": {},
          "output_type": "execute_result"
        }
      ],
      "source": [
        "cashInvested = 0\n",
        "new_row = pd.Series({'Value':totalValue,'Cashflow':cashInvested}, name=data.iloc[len(data)-1].name)\n",
        "history = history.append(new_row)\n",
        "history"
      ]
    },
    {
      "cell_type": "code",
      "execution_count": 56,
      "metadata": {
        "colab": {
          "base_uri": "https://localhost:8080/"
        },
        "id": "M5CrUotl-Ihq",
        "outputId": "f69cc71c-358f-4565-cd67-85ac2b273509"
      },
      "outputs": [
        {
          "name": "stdout",
          "output_type": "stream",
          "text": [
            "0.10782055667993351\n",
            "0.026955139169983378\n"
          ]
        }
      ],
      "source": [
        "print(calculatePNL_TWRR(history=history))\n",
        "print(calculatePNL_TWRR(history=history,annualized=True))"
      ]
    },
    {
      "cell_type": "code",
      "execution_count": 57,
      "metadata": {
        "id": "V0oayfkMOSoS"
      },
      "outputs": [],
      "source": [
        "# Benchmarking with charts and P&L (TWRR)"
      ]
    },
    {
      "cell_type": "code",
      "execution_count": 58,
      "metadata": {
        "colab": {
          "base_uri": "https://localhost:8080/",
          "height": 473
        },
        "id": "36X7D1_SSp6n",
        "outputId": "c2376dcd-fd86-457d-b583-29e4d264282c"
      },
      "outputs": [
        {
          "name": "stdout",
          "output_type": "stream",
          "text": [
            "[*********************100%***********************]  1 of 1 completed\n"
          ]
        },
        {
          "data": {
            "text/html": [
              "<div>\n",
              "<style scoped>\n",
              "    .dataframe tbody tr th:only-of-type {\n",
              "        vertical-align: middle;\n",
              "    }\n",
              "\n",
              "    .dataframe tbody tr th {\n",
              "        vertical-align: top;\n",
              "    }\n",
              "\n",
              "    .dataframe thead th {\n",
              "        text-align: right;\n",
              "    }\n",
              "</style>\n",
              "<table border=\"1\" class=\"dataframe\">\n",
              "  <thead>\n",
              "    <tr style=\"text-align: right;\">\n",
              "      <th></th>\n",
              "      <th>Open</th>\n",
              "      <th>High</th>\n",
              "      <th>Low</th>\n",
              "      <th>Close</th>\n",
              "      <th>Adj Close</th>\n",
              "      <th>Volume</th>\n",
              "    </tr>\n",
              "    <tr>\n",
              "      <th>Date</th>\n",
              "      <th></th>\n",
              "      <th></th>\n",
              "      <th></th>\n",
              "      <th></th>\n",
              "      <th></th>\n",
              "      <th></th>\n",
              "    </tr>\n",
              "  </thead>\n",
              "  <tbody>\n",
              "    <tr>\n",
              "      <th>2018-01-26 00:00:00-05:00</th>\n",
              "      <td>284.250000</td>\n",
              "      <td>286.630005</td>\n",
              "      <td>283.959991</td>\n",
              "      <td>286.579987</td>\n",
              "      <td>263.118591</td>\n",
              "      <td>107743100</td>\n",
              "    </tr>\n",
              "    <tr>\n",
              "      <th>2018-01-29 00:00:00-05:00</th>\n",
              "      <td>285.929993</td>\n",
              "      <td>286.429993</td>\n",
              "      <td>284.500000</td>\n",
              "      <td>284.679993</td>\n",
              "      <td>261.374176</td>\n",
              "      <td>90118300</td>\n",
              "    </tr>\n",
              "    <tr>\n",
              "      <th>2018-01-30 00:00:00-05:00</th>\n",
              "      <td>282.600006</td>\n",
              "      <td>284.739990</td>\n",
              "      <td>281.220001</td>\n",
              "      <td>281.760010</td>\n",
              "      <td>258.693207</td>\n",
              "      <td>131796400</td>\n",
              "    </tr>\n",
              "    <tr>\n",
              "      <th>2018-01-31 00:00:00-05:00</th>\n",
              "      <td>282.730011</td>\n",
              "      <td>283.299988</td>\n",
              "      <td>280.679993</td>\n",
              "      <td>281.899994</td>\n",
              "      <td>258.821777</td>\n",
              "      <td>108364800</td>\n",
              "    </tr>\n",
              "    <tr>\n",
              "      <th>2018-02-01 00:00:00-05:00</th>\n",
              "      <td>281.070007</td>\n",
              "      <td>283.059998</td>\n",
              "      <td>280.679993</td>\n",
              "      <td>281.579987</td>\n",
              "      <td>258.527893</td>\n",
              "      <td>90102500</td>\n",
              "    </tr>\n",
              "    <tr>\n",
              "      <th>...</th>\n",
              "      <td>...</td>\n",
              "      <td>...</td>\n",
              "      <td>...</td>\n",
              "      <td>...</td>\n",
              "      <td>...</td>\n",
              "      <td>...</td>\n",
              "    </tr>\n",
              "    <tr>\n",
              "      <th>2023-01-19 00:00:00-05:00</th>\n",
              "      <td>389.359985</td>\n",
              "      <td>391.079987</td>\n",
              "      <td>387.260010</td>\n",
              "      <td>388.640015</td>\n",
              "      <td>388.640015</td>\n",
              "      <td>86958900</td>\n",
              "    </tr>\n",
              "    <tr>\n",
              "      <th>2023-01-20 00:00:00-05:00</th>\n",
              "      <td>390.100006</td>\n",
              "      <td>396.040009</td>\n",
              "      <td>388.380005</td>\n",
              "      <td>395.880005</td>\n",
              "      <td>395.880005</td>\n",
              "      <td>91544900</td>\n",
              "    </tr>\n",
              "    <tr>\n",
              "      <th>2023-01-23 00:00:00-05:00</th>\n",
              "      <td>396.720001</td>\n",
              "      <td>402.649994</td>\n",
              "      <td>395.720001</td>\n",
              "      <td>400.630005</td>\n",
              "      <td>400.630005</td>\n",
              "      <td>84178800</td>\n",
              "    </tr>\n",
              "    <tr>\n",
              "      <th>2023-01-24 00:00:00-05:00</th>\n",
              "      <td>398.880005</td>\n",
              "      <td>401.149994</td>\n",
              "      <td>397.640015</td>\n",
              "      <td>400.200012</td>\n",
              "      <td>400.200012</td>\n",
              "      <td>59524900</td>\n",
              "    </tr>\n",
              "    <tr>\n",
              "      <th>2023-01-25 00:00:00-05:00</th>\n",
              "      <td>395.950012</td>\n",
              "      <td>400.700012</td>\n",
              "      <td>393.559998</td>\n",
              "      <td>400.350006</td>\n",
              "      <td>400.350006</td>\n",
              "      <td>84539700</td>\n",
              "    </tr>\n",
              "  </tbody>\n",
              "</table>\n",
              "<p>1258 rows × 6 columns</p>\n",
              "</div>"
            ],
            "text/plain": [
              "                                 Open        High         Low       Close  \\\n",
              "Date                                                                        \n",
              "2018-01-26 00:00:00-05:00  284.250000  286.630005  283.959991  286.579987   \n",
              "2018-01-29 00:00:00-05:00  285.929993  286.429993  284.500000  284.679993   \n",
              "2018-01-30 00:00:00-05:00  282.600006  284.739990  281.220001  281.760010   \n",
              "2018-01-31 00:00:00-05:00  282.730011  283.299988  280.679993  281.899994   \n",
              "2018-02-01 00:00:00-05:00  281.070007  283.059998  280.679993  281.579987   \n",
              "...                               ...         ...         ...         ...   \n",
              "2023-01-19 00:00:00-05:00  389.359985  391.079987  387.260010  388.640015   \n",
              "2023-01-20 00:00:00-05:00  390.100006  396.040009  388.380005  395.880005   \n",
              "2023-01-23 00:00:00-05:00  396.720001  402.649994  395.720001  400.630005   \n",
              "2023-01-24 00:00:00-05:00  398.880005  401.149994  397.640015  400.200012   \n",
              "2023-01-25 00:00:00-05:00  395.950012  400.700012  393.559998  400.350006   \n",
              "\n",
              "                            Adj Close     Volume  \n",
              "Date                                              \n",
              "2018-01-26 00:00:00-05:00  263.118591  107743100  \n",
              "2018-01-29 00:00:00-05:00  261.374176   90118300  \n",
              "2018-01-30 00:00:00-05:00  258.693207  131796400  \n",
              "2018-01-31 00:00:00-05:00  258.821777  108364800  \n",
              "2018-02-01 00:00:00-05:00  258.527893   90102500  \n",
              "...                               ...        ...  \n",
              "2023-01-19 00:00:00-05:00  388.640015   86958900  \n",
              "2023-01-20 00:00:00-05:00  395.880005   91544900  \n",
              "2023-01-23 00:00:00-05:00  400.630005   84178800  \n",
              "2023-01-24 00:00:00-05:00  400.200012   59524900  \n",
              "2023-01-25 00:00:00-05:00  400.350006   84539700  \n",
              "\n",
              "[1258 rows x 6 columns]"
            ]
          },
          "execution_count": 58,
          "metadata": {},
          "output_type": "execute_result"
        }
      ],
      "source": [
        "#benchmarkPortfolio(None, \"SPY\", 5)\n",
        "benchmarkTicker = \"SPY\"\n",
        "data = yf.download(benchmarkTicker, group_by=\"Ticker\", period=\"5y\")\n",
        "data"
      ]
    },
    {
      "cell_type": "code",
      "execution_count": 59,
      "metadata": {
        "colab": {
          "base_uri": "https://localhost:8080/",
          "height": 455
        },
        "id": "XLJ-7AOdTLpB",
        "outputId": "1c169669-d533-42c0-9dac-eddfc45a457f"
      },
      "outputs": [
        {
          "data": {
            "text/html": [
              "<div>\n",
              "<style scoped>\n",
              "    .dataframe tbody tr th:only-of-type {\n",
              "        vertical-align: middle;\n",
              "    }\n",
              "\n",
              "    .dataframe tbody tr th {\n",
              "        vertical-align: top;\n",
              "    }\n",
              "\n",
              "    .dataframe thead th {\n",
              "        text-align: right;\n",
              "    }\n",
              "</style>\n",
              "<table border=\"1\" class=\"dataframe\">\n",
              "  <thead>\n",
              "    <tr style=\"text-align: right;\">\n",
              "      <th></th>\n",
              "      <th>SPY</th>\n",
              "    </tr>\n",
              "    <tr>\n",
              "      <th>Date</th>\n",
              "      <th></th>\n",
              "    </tr>\n",
              "  </thead>\n",
              "  <tbody>\n",
              "    <tr>\n",
              "      <th>2018-01-26 00:00:00-05:00</th>\n",
              "      <td>286.579987</td>\n",
              "    </tr>\n",
              "    <tr>\n",
              "      <th>2018-01-29 00:00:00-05:00</th>\n",
              "      <td>284.679993</td>\n",
              "    </tr>\n",
              "    <tr>\n",
              "      <th>2018-01-30 00:00:00-05:00</th>\n",
              "      <td>281.760010</td>\n",
              "    </tr>\n",
              "    <tr>\n",
              "      <th>2018-01-31 00:00:00-05:00</th>\n",
              "      <td>281.899994</td>\n",
              "    </tr>\n",
              "    <tr>\n",
              "      <th>2018-02-01 00:00:00-05:00</th>\n",
              "      <td>281.579987</td>\n",
              "    </tr>\n",
              "    <tr>\n",
              "      <th>...</th>\n",
              "      <td>...</td>\n",
              "    </tr>\n",
              "    <tr>\n",
              "      <th>2023-01-19 00:00:00-05:00</th>\n",
              "      <td>388.640015</td>\n",
              "    </tr>\n",
              "    <tr>\n",
              "      <th>2023-01-20 00:00:00-05:00</th>\n",
              "      <td>395.880005</td>\n",
              "    </tr>\n",
              "    <tr>\n",
              "      <th>2023-01-23 00:00:00-05:00</th>\n",
              "      <td>400.630005</td>\n",
              "    </tr>\n",
              "    <tr>\n",
              "      <th>2023-01-24 00:00:00-05:00</th>\n",
              "      <td>400.200012</td>\n",
              "    </tr>\n",
              "    <tr>\n",
              "      <th>2023-01-25 00:00:00-05:00</th>\n",
              "      <td>400.350006</td>\n",
              "    </tr>\n",
              "  </tbody>\n",
              "</table>\n",
              "<p>1258 rows × 1 columns</p>\n",
              "</div>"
            ],
            "text/plain": [
              "                                  SPY\n",
              "Date                                 \n",
              "2018-01-26 00:00:00-05:00  286.579987\n",
              "2018-01-29 00:00:00-05:00  284.679993\n",
              "2018-01-30 00:00:00-05:00  281.760010\n",
              "2018-01-31 00:00:00-05:00  281.899994\n",
              "2018-02-01 00:00:00-05:00  281.579987\n",
              "...                               ...\n",
              "2023-01-19 00:00:00-05:00  388.640015\n",
              "2023-01-20 00:00:00-05:00  395.880005\n",
              "2023-01-23 00:00:00-05:00  400.630005\n",
              "2023-01-24 00:00:00-05:00  400.200012\n",
              "2023-01-25 00:00:00-05:00  400.350006\n",
              "\n",
              "[1258 rows x 1 columns]"
            ]
          },
          "execution_count": 59,
          "metadata": {},
          "output_type": "execute_result"
        }
      ],
      "source": [
        "data = data.iloc[:, data.columns.get_level_values(0)==\"Close\"]\n",
        "data = data.rename(columns={\"Close\": benchmarkTicker})\n",
        "data = data.dropna()\n",
        "data"
      ]
    },
    {
      "cell_type": "code",
      "execution_count": 60,
      "metadata": {
        "colab": {
          "base_uri": "https://localhost:8080/",
          "height": 455
        },
        "id": "aNjTo_xWUV6w",
        "outputId": "3fc10dd1-fb9c-4fb0-9fa8-4b735d9d7e01"
      },
      "outputs": [
        {
          "data": {
            "text/html": [
              "<div>\n",
              "<style scoped>\n",
              "    .dataframe tbody tr th:only-of-type {\n",
              "        vertical-align: middle;\n",
              "    }\n",
              "\n",
              "    .dataframe tbody tr th {\n",
              "        vertical-align: top;\n",
              "    }\n",
              "\n",
              "    .dataframe thead th {\n",
              "        text-align: right;\n",
              "    }\n",
              "</style>\n",
              "<table border=\"1\" class=\"dataframe\">\n",
              "  <thead>\n",
              "    <tr style=\"text-align: right;\">\n",
              "      <th></th>\n",
              "      <th>SPY</th>\n",
              "    </tr>\n",
              "    <tr>\n",
              "      <th>Date</th>\n",
              "      <th></th>\n",
              "    </tr>\n",
              "  </thead>\n",
              "  <tbody>\n",
              "    <tr>\n",
              "      <th>2018-01-26 00:00:00-05:00</th>\n",
              "      <td>0.000000</td>\n",
              "    </tr>\n",
              "    <tr>\n",
              "      <th>2018-01-29 00:00:00-05:00</th>\n",
              "      <td>-0.662989</td>\n",
              "    </tr>\n",
              "    <tr>\n",
              "      <th>2018-01-30 00:00:00-05:00</th>\n",
              "      <td>-1.681896</td>\n",
              "    </tr>\n",
              "    <tr>\n",
              "      <th>2018-01-31 00:00:00-05:00</th>\n",
              "      <td>-1.633049</td>\n",
              "    </tr>\n",
              "    <tr>\n",
              "      <th>2018-02-01 00:00:00-05:00</th>\n",
              "      <td>-1.744714</td>\n",
              "    </tr>\n",
              "    <tr>\n",
              "      <th>...</th>\n",
              "      <td>...</td>\n",
              "    </tr>\n",
              "    <tr>\n",
              "      <th>2023-01-19 00:00:00-05:00</th>\n",
              "      <td>35.613104</td>\n",
              "    </tr>\n",
              "    <tr>\n",
              "      <th>2023-01-20 00:00:00-05:00</th>\n",
              "      <td>38.139446</td>\n",
              "    </tr>\n",
              "    <tr>\n",
              "      <th>2023-01-23 00:00:00-05:00</th>\n",
              "      <td>39.796924</td>\n",
              "    </tr>\n",
              "    <tr>\n",
              "      <th>2023-01-24 00:00:00-05:00</th>\n",
              "      <td>39.646881</td>\n",
              "    </tr>\n",
              "    <tr>\n",
              "      <th>2023-01-25 00:00:00-05:00</th>\n",
              "      <td>39.699220</td>\n",
              "    </tr>\n",
              "  </tbody>\n",
              "</table>\n",
              "<p>1258 rows × 1 columns</p>\n",
              "</div>"
            ],
            "text/plain": [
              "                                 SPY\n",
              "Date                                \n",
              "2018-01-26 00:00:00-05:00   0.000000\n",
              "2018-01-29 00:00:00-05:00  -0.662989\n",
              "2018-01-30 00:00:00-05:00  -1.681896\n",
              "2018-01-31 00:00:00-05:00  -1.633049\n",
              "2018-02-01 00:00:00-05:00  -1.744714\n",
              "...                              ...\n",
              "2023-01-19 00:00:00-05:00  35.613104\n",
              "2023-01-20 00:00:00-05:00  38.139446\n",
              "2023-01-23 00:00:00-05:00  39.796924\n",
              "2023-01-24 00:00:00-05:00  39.646881\n",
              "2023-01-25 00:00:00-05:00  39.699220\n",
              "\n",
              "[1258 rows x 1 columns]"
            ]
          },
          "execution_count": 60,
          "metadata": {},
          "output_type": "execute_result"
        }
      ],
      "source": [
        "data[benchmarkTicker] = 100*(data[benchmarkTicker] / data.iloc[0][benchmarkTicker])-100\n",
        "data"
      ]
    },
    {
      "cell_type": "code",
      "execution_count": 61,
      "metadata": {
        "colab": {
          "base_uri": "https://localhost:8080/",
          "height": 265
        },
        "id": "Ms3P8XnVUFfv",
        "outputId": "103fd600-c100-4825-c427-898c2945dea1"
      },
      "outputs": [
        {
          "data": {
            "image/png": "[encoded data removed]",
            "text/plain": [
              "<Figure size 640x480 with 1 Axes>"
            ]
          },
          "metadata": {},
          "output_type": "display_data"
        }
      ],
      "source": [
        "import matplotlib.pyplot as plt\n",
        "plt.plot(data)\n",
        "plt.show()"
      ]
    },
    {
      "cell_type": "code",
      "execution_count": 62,
      "metadata": {
        "colab": {
          "base_uri": "https://localhost:8080/"
        },
        "id": "5sMcubLxU0i6",
        "outputId": "ec5c3088-b828-41e8-cc3b-827f8896e339"
      },
      "outputs": [
        {
          "name": "stdout",
          "output_type": "stream",
          "text": [
            "[*********************100%***********************]  5 of 5 completed\n"
          ]
        }
      ],
      "source": [
        "tickerString = \"\"\n",
        "portfolio = myPortfolio\n",
        "years=5\n",
        "\n",
        "for allocation in portfolio.allocations:\n",
        "  tickerString = tickerString + allocation.ticker + \" \"\n",
        "\n",
        "data2 = yf.download(tickerString, group_by=\"Ticker\", period=str(years)+\"y\")\n",
        "data2 = data2.iloc[:, data2.columns.get_level_values(1)==\"Close\"]\n",
        "data2 = data2.dropna()\n",
        "data2.columns = data2.columns.droplevel(1)"
      ]
    },
    {
      "cell_type": "code",
      "execution_count": 63,
      "metadata": {
        "id": "dwneCzGl9Op9"
      },
      "outputs": [],
      "source": [
        "for allocation in portfolio.allocations:\n",
        "  data2[allocation.ticker] = data2[allocation.ticker] * allocation.percentage"
      ]
    },
    {
      "cell_type": "code",
      "execution_count": 64,
      "metadata": {
        "colab": {
          "base_uri": "https://localhost:8080/",
          "height": 455
        },
        "id": "erjV6UVc41_-",
        "outputId": "f75509f6-bd35-43f9-83a5-e29e152e0216"
      },
      "outputs": [
        {
          "data": {
            "text/html": [
              "<div>\n",
              "<style scoped>\n",
              "    .dataframe tbody tr th:only-of-type {\n",
              "        vertical-align: middle;\n",
              "    }\n",
              "\n",
              "    .dataframe tbody tr th {\n",
              "        vertical-align: top;\n",
              "    }\n",
              "\n",
              "    .dataframe thead th {\n",
              "        text-align: right;\n",
              "    }\n",
              "</style>\n",
              "<table border=\"1\" class=\"dataframe\">\n",
              "  <thead>\n",
              "    <tr style=\"text-align: right;\">\n",
              "      <th></th>\n",
              "      <th>DBC</th>\n",
              "      <th>IEI</th>\n",
              "      <th>VTI</th>\n",
              "      <th>TLT</th>\n",
              "      <th>GLD</th>\n",
              "    </tr>\n",
              "    <tr>\n",
              "      <th>Date</th>\n",
              "      <th></th>\n",
              "      <th></th>\n",
              "      <th></th>\n",
              "      <th></th>\n",
              "      <th></th>\n",
              "    </tr>\n",
              "  </thead>\n",
              "  <tbody>\n",
              "    <tr>\n",
              "      <th>2018-01-26 00:00:00-05:00</th>\n",
              "      <td>0.0</td>\n",
              "      <td>31.937511</td>\n",
              "      <td>44.466271</td>\n",
              "      <td>7.991329</td>\n",
              "      <td>47.204043</td>\n",
              "    </tr>\n",
              "    <tr>\n",
              "      <th>2018-01-29 00:00:00-05:00</th>\n",
              "      <td>0.0</td>\n",
              "      <td>31.900551</td>\n",
              "      <td>44.175600</td>\n",
              "      <td>7.935722</td>\n",
              "      <td>46.938662</td>\n",
              "    </tr>\n",
              "    <tr>\n",
              "      <th>2018-01-30 00:00:00-05:00</th>\n",
              "      <td>0.0</td>\n",
              "      <td>31.879433</td>\n",
              "      <td>43.715378</td>\n",
              "      <td>7.889167</td>\n",
              "      <td>46.735945</td>\n",
              "    </tr>\n",
              "    <tr>\n",
              "      <th>2018-01-31 00:00:00-05:00</th>\n",
              "      <td>0.0</td>\n",
              "      <td>31.855673</td>\n",
              "      <td>43.730513</td>\n",
              "      <td>7.935722</td>\n",
              "      <td>47.049238</td>\n",
              "    </tr>\n",
              "    <tr>\n",
              "      <th>2018-02-01 00:00:00-05:00</th>\n",
              "      <td>0.0</td>\n",
              "      <td>31.816074</td>\n",
              "      <td>43.712347</td>\n",
              "      <td>7.804462</td>\n",
              "      <td>47.204043</td>\n",
              "    </tr>\n",
              "    <tr>\n",
              "      <th>...</th>\n",
              "      <td>...</td>\n",
              "      <td>...</td>\n",
              "      <td>...</td>\n",
              "      <td>...</td>\n",
              "      <td>...</td>\n",
              "    </tr>\n",
              "    <tr>\n",
              "      <th>2023-01-19 00:00:00-05:00</th>\n",
              "      <td>0.0</td>\n",
              "      <td>31.098023</td>\n",
              "      <td>59.048157</td>\n",
              "      <td>6.980047</td>\n",
              "      <td>66.303856</td>\n",
              "    </tr>\n",
              "    <tr>\n",
              "      <th>2023-01-20 00:00:00-05:00</th>\n",
              "      <td>0.0</td>\n",
              "      <td>30.984507</td>\n",
              "      <td>60.180551</td>\n",
              "      <td>6.866892</td>\n",
              "      <td>66.082706</td>\n",
              "    </tr>\n",
              "    <tr>\n",
              "      <th>2023-01-23 00:00:00-05:00</th>\n",
              "      <td>0.0</td>\n",
              "      <td>30.907950</td>\n",
              "      <td>60.943558</td>\n",
              "      <td>6.834562</td>\n",
              "      <td>66.208027</td>\n",
              "    </tr>\n",
              "    <tr>\n",
              "      <th>2023-01-24 00:00:00-05:00</th>\n",
              "      <td>0.0</td>\n",
              "      <td>30.984507</td>\n",
              "      <td>60.843640</td>\n",
              "      <td>6.932845</td>\n",
              "      <td>66.447602</td>\n",
              "    </tr>\n",
              "    <tr>\n",
              "      <th>2023-01-25 00:00:00-05:00</th>\n",
              "      <td>0.0</td>\n",
              "      <td>31.016185</td>\n",
              "      <td>60.873920</td>\n",
              "      <td>6.949657</td>\n",
              "      <td>66.753524</td>\n",
              "    </tr>\n",
              "  </tbody>\n",
              "</table>\n",
              "<p>1258 rows × 5 columns</p>\n",
              "</div>"
            ],
            "text/plain": [
              "                           DBC        IEI        VTI       TLT        GLD\n",
              "Date                                                                     \n",
              "2018-01-26 00:00:00-05:00  0.0  31.937511  44.466271  7.991329  47.204043\n",
              "2018-01-29 00:00:00-05:00  0.0  31.900551  44.175600  7.935722  46.938662\n",
              "2018-01-30 00:00:00-05:00  0.0  31.879433  43.715378  7.889167  46.735945\n",
              "2018-01-31 00:00:00-05:00  0.0  31.855673  43.730513  7.935722  47.049238\n",
              "2018-02-01 00:00:00-05:00  0.0  31.816074  43.712347  7.804462  47.204043\n",
              "...                        ...        ...        ...       ...        ...\n",
              "2023-01-19 00:00:00-05:00  0.0  31.098023  59.048157  6.980047  66.303856\n",
              "2023-01-20 00:00:00-05:00  0.0  30.984507  60.180551  6.866892  66.082706\n",
              "2023-01-23 00:00:00-05:00  0.0  30.907950  60.943558  6.834562  66.208027\n",
              "2023-01-24 00:00:00-05:00  0.0  30.984507  60.843640  6.932845  66.447602\n",
              "2023-01-25 00:00:00-05:00  0.0  31.016185  60.873920  6.949657  66.753524\n",
              "\n",
              "[1258 rows x 5 columns]"
            ]
          },
          "execution_count": 64,
          "metadata": {},
          "output_type": "execute_result"
        }
      ],
      "source": [
        "data2"
      ]
    },
    {
      "cell_type": "code",
      "execution_count": 65,
      "metadata": {
        "id": "z3O13Nl39b54"
      },
      "outputs": [],
      "source": [
        "data2[\"Total\"] = data2[list(data2.columns)].sum(axis=1)\n",
        "data2[\"Portfolio\"] = 100*(data2[\"Total\"] / data2.iloc[0][\"Total\"])-100"
      ]
    },
    {
      "cell_type": "code",
      "execution_count": 66,
      "metadata": {
        "colab": {
          "base_uri": "https://localhost:8080/",
          "height": 455
        },
        "id": "VhoortX29cws",
        "outputId": "a002fbf1-a979-4c63-a6ef-b2aa569c0e9f"
      },
      "outputs": [
        {
          "data": {
            "text/html": [
              "<div>\n",
              "<style scoped>\n",
              "    .dataframe tbody tr th:only-of-type {\n",
              "        vertical-align: middle;\n",
              "    }\n",
              "\n",
              "    .dataframe tbody tr th {\n",
              "        vertical-align: top;\n",
              "    }\n",
              "\n",
              "    .dataframe thead th {\n",
              "        text-align: right;\n",
              "    }\n",
              "</style>\n",
              "<table border=\"1\" class=\"dataframe\">\n",
              "  <thead>\n",
              "    <tr style=\"text-align: right;\">\n",
              "      <th></th>\n",
              "      <th>DBC</th>\n",
              "      <th>IEI</th>\n",
              "      <th>VTI</th>\n",
              "      <th>TLT</th>\n",
              "      <th>GLD</th>\n",
              "      <th>Total</th>\n",
              "      <th>Portfolio</th>\n",
              "    </tr>\n",
              "    <tr>\n",
              "      <th>Date</th>\n",
              "      <th></th>\n",
              "      <th></th>\n",
              "      <th></th>\n",
              "      <th></th>\n",
              "      <th></th>\n",
              "      <th></th>\n",
              "      <th></th>\n",
              "    </tr>\n",
              "  </thead>\n",
              "  <tbody>\n",
              "    <tr>\n",
              "      <th>2018-01-26 00:00:00-05:00</th>\n",
              "      <td>0.0</td>\n",
              "      <td>31.937511</td>\n",
              "      <td>44.466271</td>\n",
              "      <td>7.991329</td>\n",
              "      <td>47.204043</td>\n",
              "      <td>131.599155</td>\n",
              "      <td>0.000000</td>\n",
              "    </tr>\n",
              "    <tr>\n",
              "      <th>2018-01-29 00:00:00-05:00</th>\n",
              "      <td>0.0</td>\n",
              "      <td>31.900551</td>\n",
              "      <td>44.175600</td>\n",
              "      <td>7.935722</td>\n",
              "      <td>46.938662</td>\n",
              "      <td>130.950535</td>\n",
              "      <td>-0.492875</td>\n",
              "    </tr>\n",
              "    <tr>\n",
              "      <th>2018-01-30 00:00:00-05:00</th>\n",
              "      <td>0.0</td>\n",
              "      <td>31.879433</td>\n",
              "      <td>43.715378</td>\n",
              "      <td>7.889167</td>\n",
              "      <td>46.735945</td>\n",
              "      <td>130.219923</td>\n",
              "      <td>-1.048055</td>\n",
              "    </tr>\n",
              "    <tr>\n",
              "      <th>2018-01-31 00:00:00-05:00</th>\n",
              "      <td>0.0</td>\n",
              "      <td>31.855673</td>\n",
              "      <td>43.730513</td>\n",
              "      <td>7.935722</td>\n",
              "      <td>47.049238</td>\n",
              "      <td>130.571146</td>\n",
              "      <td>-0.781167</td>\n",
              "    </tr>\n",
              "    <tr>\n",
              "      <th>2018-02-01 00:00:00-05:00</th>\n",
              "      <td>0.0</td>\n",
              "      <td>31.816074</td>\n",
              "      <td>43.712347</td>\n",
              "      <td>7.804462</td>\n",
              "      <td>47.204043</td>\n",
              "      <td>130.536926</td>\n",
              "      <td>-0.807170</td>\n",
              "    </tr>\n",
              "    <tr>\n",
              "      <th>...</th>\n",
              "      <td>...</td>\n",
              "      <td>...</td>\n",
              "      <td>...</td>\n",
              "      <td>...</td>\n",
              "      <td>...</td>\n",
              "      <td>...</td>\n",
              "      <td>...</td>\n",
              "    </tr>\n",
              "    <tr>\n",
              "      <th>2023-01-19 00:00:00-05:00</th>\n",
              "      <td>0.0</td>\n",
              "      <td>31.098023</td>\n",
              "      <td>59.048157</td>\n",
              "      <td>6.980047</td>\n",
              "      <td>66.303856</td>\n",
              "      <td>163.430082</td>\n",
              "      <td>24.187791</td>\n",
              "    </tr>\n",
              "    <tr>\n",
              "      <th>2023-01-20 00:00:00-05:00</th>\n",
              "      <td>0.0</td>\n",
              "      <td>30.984507</td>\n",
              "      <td>60.180551</td>\n",
              "      <td>6.866892</td>\n",
              "      <td>66.082706</td>\n",
              "      <td>164.114656</td>\n",
              "      <td>24.707986</td>\n",
              "    </tr>\n",
              "    <tr>\n",
              "      <th>2023-01-23 00:00:00-05:00</th>\n",
              "      <td>0.0</td>\n",
              "      <td>30.907950</td>\n",
              "      <td>60.943558</td>\n",
              "      <td>6.834562</td>\n",
              "      <td>66.208027</td>\n",
              "      <td>164.894097</td>\n",
              "      <td>25.300271</td>\n",
              "    </tr>\n",
              "    <tr>\n",
              "      <th>2023-01-24 00:00:00-05:00</th>\n",
              "      <td>0.0</td>\n",
              "      <td>30.984507</td>\n",
              "      <td>60.843640</td>\n",
              "      <td>6.932845</td>\n",
              "      <td>66.447602</td>\n",
              "      <td>165.208594</td>\n",
              "      <td>25.539252</td>\n",
              "    </tr>\n",
              "    <tr>\n",
              "      <th>2023-01-25 00:00:00-05:00</th>\n",
              "      <td>0.0</td>\n",
              "      <td>31.016185</td>\n",
              "      <td>60.873920</td>\n",
              "      <td>6.949657</td>\n",
              "      <td>66.753524</td>\n",
              "      <td>165.593286</td>\n",
              "      <td>25.831572</td>\n",
              "    </tr>\n",
              "  </tbody>\n",
              "</table>\n",
              "<p>1258 rows × 7 columns</p>\n",
              "</div>"
            ],
            "text/plain": [
              "                           DBC        IEI        VTI       TLT        GLD  \\\n",
              "Date                                                                        \n",
              "2018-01-26 00:00:00-05:00  0.0  31.937511  44.466271  7.991329  47.204043   \n",
              "2018-01-29 00:00:00-05:00  0.0  31.900551  44.175600  7.935722  46.938662   \n",
              "2018-01-30 00:00:00-05:00  0.0  31.879433  43.715378  7.889167  46.735945   \n",
              "2018-01-31 00:00:00-05:00  0.0  31.855673  43.730513  7.935722  47.049238   \n",
              "2018-02-01 00:00:00-05:00  0.0  31.816074  43.712347  7.804462  47.204043   \n",
              "...                        ...        ...        ...       ...        ...   \n",
              "2023-01-19 00:00:00-05:00  0.0  31.098023  59.048157  6.980047  66.303856   \n",
              "2023-01-20 00:00:00-05:00  0.0  30.984507  60.180551  6.866892  66.082706   \n",
              "2023-01-23 00:00:00-05:00  0.0  30.907950  60.943558  6.834562  66.208027   \n",
              "2023-01-24 00:00:00-05:00  0.0  30.984507  60.843640  6.932845  66.447602   \n",
              "2023-01-25 00:00:00-05:00  0.0  31.016185  60.873920  6.949657  66.753524   \n",
              "\n",
              "                                Total  Portfolio  \n",
              "Date                                              \n",
              "2018-01-26 00:00:00-05:00  131.599155   0.000000  \n",
              "2018-01-29 00:00:00-05:00  130.950535  -0.492875  \n",
              "2018-01-30 00:00:00-05:00  130.219923  -1.048055  \n",
              "2018-01-31 00:00:00-05:00  130.571146  -0.781167  \n",
              "2018-02-01 00:00:00-05:00  130.536926  -0.807170  \n",
              "...                               ...        ...  \n",
              "2023-01-19 00:00:00-05:00  163.430082  24.187791  \n",
              "2023-01-20 00:00:00-05:00  164.114656  24.707986  \n",
              "2023-01-23 00:00:00-05:00  164.894097  25.300271  \n",
              "2023-01-24 00:00:00-05:00  165.208594  25.539252  \n",
              "2023-01-25 00:00:00-05:00  165.593286  25.831572  \n",
              "\n",
              "[1258 rows x 7 columns]"
            ]
          },
          "execution_count": 66,
          "metadata": {},
          "output_type": "execute_result"
        }
      ],
      "source": [
        "data2"
      ]
    },
    {
      "cell_type": "code",
      "execution_count": 67,
      "metadata": {
        "id": "61FrPb3pWPFh"
      },
      "outputs": [],
      "source": [
        "data2 = data2.filter(['Portfolio'])"
      ]
    },
    {
      "cell_type": "code",
      "execution_count": 68,
      "metadata": {
        "colab": {
          "base_uri": "https://localhost:8080/",
          "height": 455
        },
        "id": "gkh_UtjiWVTY",
        "outputId": "e1195b86-48a6-476a-bd42-24cfe4f06be8"
      },
      "outputs": [
        {
          "data": {
            "text/html": [
              "<div>\n",
              "<style scoped>\n",
              "    .dataframe tbody tr th:only-of-type {\n",
              "        vertical-align: middle;\n",
              "    }\n",
              "\n",
              "    .dataframe tbody tr th {\n",
              "        vertical-align: top;\n",
              "    }\n",
              "\n",
              "    .dataframe thead th {\n",
              "        text-align: right;\n",
              "    }\n",
              "</style>\n",
              "<table border=\"1\" class=\"dataframe\">\n",
              "  <thead>\n",
              "    <tr style=\"text-align: right;\">\n",
              "      <th></th>\n",
              "      <th>Portfolio</th>\n",
              "    </tr>\n",
              "    <tr>\n",
              "      <th>Date</th>\n",
              "      <th></th>\n",
              "    </tr>\n",
              "  </thead>\n",
              "  <tbody>\n",
              "    <tr>\n",
              "      <th>2018-01-26 00:00:00-05:00</th>\n",
              "      <td>0.000000</td>\n",
              "    </tr>\n",
              "    <tr>\n",
              "      <th>2018-01-29 00:00:00-05:00</th>\n",
              "      <td>-0.492875</td>\n",
              "    </tr>\n",
              "    <tr>\n",
              "      <th>2018-01-30 00:00:00-05:00</th>\n",
              "      <td>-1.048055</td>\n",
              "    </tr>\n",
              "    <tr>\n",
              "      <th>2018-01-31 00:00:00-05:00</th>\n",
              "      <td>-0.781167</td>\n",
              "    </tr>\n",
              "    <tr>\n",
              "      <th>2018-02-01 00:00:00-05:00</th>\n",
              "      <td>-0.807170</td>\n",
              "    </tr>\n",
              "    <tr>\n",
              "      <th>...</th>\n",
              "      <td>...</td>\n",
              "    </tr>\n",
              "    <tr>\n",
              "      <th>2023-01-19 00:00:00-05:00</th>\n",
              "      <td>24.187791</td>\n",
              "    </tr>\n",
              "    <tr>\n",
              "      <th>2023-01-20 00:00:00-05:00</th>\n",
              "      <td>24.707986</td>\n",
              "    </tr>\n",
              "    <tr>\n",
              "      <th>2023-01-23 00:00:00-05:00</th>\n",
              "      <td>25.300271</td>\n",
              "    </tr>\n",
              "    <tr>\n",
              "      <th>2023-01-24 00:00:00-05:00</th>\n",
              "      <td>25.539252</td>\n",
              "    </tr>\n",
              "    <tr>\n",
              "      <th>2023-01-25 00:00:00-05:00</th>\n",
              "      <td>25.831572</td>\n",
              "    </tr>\n",
              "  </tbody>\n",
              "</table>\n",
              "<p>1258 rows × 1 columns</p>\n",
              "</div>"
            ],
            "text/plain": [
              "                           Portfolio\n",
              "Date                                \n",
              "2018-01-26 00:00:00-05:00   0.000000\n",
              "2018-01-29 00:00:00-05:00  -0.492875\n",
              "2018-01-30 00:00:00-05:00  -1.048055\n",
              "2018-01-31 00:00:00-05:00  -0.781167\n",
              "2018-02-01 00:00:00-05:00  -0.807170\n",
              "...                              ...\n",
              "2023-01-19 00:00:00-05:00  24.187791\n",
              "2023-01-20 00:00:00-05:00  24.707986\n",
              "2023-01-23 00:00:00-05:00  25.300271\n",
              "2023-01-24 00:00:00-05:00  25.539252\n",
              "2023-01-25 00:00:00-05:00  25.831572\n",
              "\n",
              "[1258 rows x 1 columns]"
            ]
          },
          "execution_count": 68,
          "metadata": {},
          "output_type": "execute_result"
        }
      ],
      "source": [
        "data2"
      ]
    },
    {
      "cell_type": "code",
      "execution_count": 69,
      "metadata": {
        "colab": {
          "base_uri": "https://localhost:8080/",
          "height": 265
        },
        "id": "LR5Vn9UfWrVn",
        "outputId": "9b3ebb7f-0e98-4142-83ce-1c14c34f2a2a"
      },
      "outputs": [
        {
          "data": {
            "image/png": "[encoded data removed]",
            "text/plain": [
              "<Figure size 640x480 with 1 Axes>"
            ]
          },
          "metadata": {},
          "output_type": "display_data"
        }
      ],
      "source": [
        "#plt.plot(data)\n",
        "#plt.plot(data2)\n",
        "plt.plot(data, label=benchmarkTicker)\n",
        "plt.plot(data2, label=\"Portfolio\")\n",
        "plt.legend(loc=\"upper left\")\n",
        "plt.show()"
      ]
    },
    {
      "cell_type": "code",
      "execution_count": 70,
      "metadata": {
        "id": "TCpwkzug_syN"
      },
      "outputs": [],
      "source": [
        "profitBenchmark = data.iloc[len(data)-1][benchmarkTicker]/100\n",
        "profitPortfolio = data2.iloc[len(data2)-1][\"Portfolio\"]/100"
      ]
    },
    {
      "cell_type": "code",
      "execution_count": 71,
      "metadata": {
        "colab": {
          "base_uri": "https://localhost:8080/",
          "height": 265
        },
        "id": "fgDjO1phXl5Y",
        "outputId": "0cbe5099-e0c7-40f7-9988-f506ddc72d5d"
      },
      "outputs": [
        {
          "data": {
            "image/png": "[encoded data removed]",
            "text/plain": [
              "<Figure size 640x480 with 1 Axes>"
            ]
          },
          "metadata": {},
          "output_type": "display_data"
        }
      ],
      "source": [
        "plt.plot(data, label=benchmarkTicker + \": \" + '{0:.2f}'.format(profitBenchmark*100) + \"%\")\n",
        "plt.plot(data2, label=\"Portfolio: \" + '{0:.2f}'.format(profitPortfolio*100) + \"%\")\n",
        "plt.legend(loc=\"upper left\")\n",
        "plt.show()"
      ]
    },
    {
      "cell_type": "code",
      "execution_count": 72,
      "metadata": {
        "id": "baUR4PahQZFM"
      },
      "outputs": [],
      "source": [
        "def benchmarkPortfolio(portfolio: Portfolio, benchmarkTicker: str, years: int):\n",
        "  import matplotlib.pyplot as plt \n",
        "\n",
        "  # Get Benchmark data\n",
        "  data = yf.download(benchmarkTicker, group_by=\"Ticker\", period=str(years)+\"y\")\n",
        "  data = data.iloc[:, data.columns.get_level_values(0)==\"Close\"]\n",
        "  data = data.rename(columns={\"Close\": benchmarkTicker})\n",
        "  data = data.dropna()\n",
        "  data[benchmarkTicker] = 100*(data[benchmarkTicker] / data.iloc[0][benchmarkTicker])-100\n",
        "\n",
        "  # Get Portfolio data\n",
        "  tickerString=\"\"\n",
        "  for allocation in portfolio.allocations:\n",
        "    tickerString = tickerString + allocation.ticker + \" \"\n",
        "  data2 = yf.download(tickerString, group_by=\"Ticker\", period=str(years)+\"y\")\n",
        "  data2 = data2.iloc[:, data2.columns.get_level_values(1)==\"Close\"]\n",
        "  data2 = data2.dropna()\n",
        "  data2.columns = data2.columns.droplevel(1)\n",
        "  for allocation in portfolio.allocations:\n",
        "    data2[allocation.ticker] = data2[allocation.ticker] * allocation.percentage\n",
        "  data2[\"Total\"] = data2[list(data2.columns)].sum(axis=1)\n",
        "  data2[\"Portfolio\"] = 100*(data2[\"Total\"] / data2.iloc[0][\"Total\"])-100\n",
        "  data2 = data2.filter(['Portfolio'])\n",
        "\n",
        "  # Calculate PNL\n",
        "  profitBenchmark = data.iloc[len(data)-1][benchmarkTicker]/100\n",
        "  profitPortfolio = data2.iloc[len(data2)-1][\"Portfolio\"]/100\n",
        "\n",
        "  # Plot\n",
        "  plt.plot(data, label=benchmarkTicker + \": \" + '{0:.2f}'.format(profitBenchmark*100) + \"%\")\n",
        "  plt.plot(data2, label=\"Portfolio: \" + '{0:.2f}'.format(profitPortfolio*100) + \"%\")\n",
        "  plt.legend(loc=\"upper left\")\n",
        "  plt.show()"
      ]
    },
    {
      "cell_type": "code",
      "execution_count": 73,
      "metadata": {
        "colab": {
          "base_uri": "https://localhost:8080/",
          "height": 301
        },
        "id": "avmVqB6Mcg5S",
        "outputId": "667f34e1-c9ea-47ac-98b8-2704b4886fd0"
      },
      "outputs": [
        {
          "name": "stdout",
          "output_type": "stream",
          "text": [
            "[*********************100%***********************]  1 of 1 completed\n",
            "[*********************100%***********************]  5 of 5 completed\n"
          ]
        },
        {
          "data": {
            "image/png": "[encoded data removed]",
            "text/plain": [
              "<Figure size 640x480 with 1 Axes>"
            ]
          },
          "metadata": {},
          "output_type": "display_data"
        }
      ],
      "source": [
        "benchmarkPortfolio(portfolio=myPortfolio, benchmarkTicker=\"SPY\", years=5)"
      ]
    }
  ],
  "metadata": {
    "colab": {
      "provenance": [],
      "toc_visible": true
    },
    "kernelspec": {
      "display_name": "Python 3",
      "language": "python",
      "name": "python3"
    },
    "language_info": {
      "codemirror_mode": {
        "name": "ipython",
        "version": 3
      },
      "file_extension": ".py",
      "mimetype": "text/x-python",
      "name": "python",
      "nbconvert_exporter": "python",
      "pygments_lexer": "ipython3",
      "version": "3.10.8 | packaged by conda-forge | (main, Nov 22 2022, 08:25:29) [Clang 14.0.6 ]"
    },
    "vscode": {
      "interpreter": {
        "hash": "bf4014decd6db2e7270b0720910deef930124f2ac2cf190091d139b0105c57af"
      }
    }
  },
  "nbformat": 4,
  "nbformat_minor": 0
}

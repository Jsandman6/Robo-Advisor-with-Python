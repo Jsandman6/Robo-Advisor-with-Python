{
  "cells": [
    {
      "cell_type": "markdown",
      "metadata": {
        "id": "FHVzSolan7k_"
      },
      "source": [
        "# Chapter 6: Goal-based Investing"
      ]
    },
    {
      "cell_type": "code",
      "execution_count": 1,
      "metadata": {
        "id": "ES_V8TqoluVJ"
      },
      "outputs": [],
      "source": [
        "goalName = \"Retirement\"\n",
        "goalTarget = 3000000"
      ]
    },
    {
      "cell_type": "code",
      "execution_count": 2,
      "metadata": {
        "id": "okc6jcWFpTjD"
      },
      "outputs": [],
      "source": [
        "class Goal: \n",
        "  def __init__(self, name, target): \n",
        "    self.name = name \n",
        "    self.target= target "
      ]
    },
    {
      "cell_type": "code",
      "execution_count": 3,
      "metadata": {
        "id": "RXHU4xwYpHmH"
      },
      "outputs": [],
      "source": [
        "myGoal = Goal(\"Retirement\", 3000000)"
      ]
    },
    {
      "cell_type": "code",
      "execution_count": 4,
      "metadata": {
        "colab": {
          "base_uri": "https://localhost:8080/"
        },
        "id": "G2swfuMcr0Gj",
        "outputId": "b7ff3be9-5f8d-4af8-d6c9-ebe63690eeda"
      },
      "outputs": [
        {
          "name": "stdout",
          "output_type": "stream",
          "text": [
            "Retirement\n",
            "3000000\n"
          ]
        }
      ],
      "source": [
        "print(myGoal.name)\n",
        "print(myGoal.target)"
      ]
    },
    {
      "cell_type": "code",
      "execution_count": 5,
      "metadata": {
        "colab": {
          "base_uri": "https://localhost:8080/"
        },
        "id": "KJsT_UDwr7Um",
        "outputId": "a9f6e060-fea0-4d33-e959-69b73d720ef1"
      },
      "outputs": [
        {
          "name": "stdout",
          "output_type": "stream",
          "text": [
            "1000000\n"
          ]
        }
      ],
      "source": [
        "myGoal.target = 1000000\n",
        "print(myGoal.target)"
      ]
    },
    {
      "cell_type": "code",
      "execution_count": 6,
      "metadata": {
        "id": "4fYnX-K8EbWn"
      },
      "outputs": [],
      "source": [
        "class Goal:\n",
        "  def __init__(self, name, targetYear, targetValue, initialContribution=0, monthlyContribution=0):\n",
        "    self.name = name\n",
        "    self.targetYear = targetYear\n",
        "    self.targetValue = targetValue\n",
        "    self.initialContribution = initialContribution\n",
        "    self.monthlyContribution = monthlyContribution"
      ]
    },
    {
      "cell_type": "code",
      "execution_count": 7,
      "metadata": {
        "id": "U0h16DmpxRZc"
      },
      "outputs": [],
      "source": [
        "myGoal = Goal(\"Retirement\", 2060, 3000000)\n",
        "myGoal.initialContribution = 10000"
      ]
    },
    {
      "cell_type": "code",
      "execution_count": 8,
      "metadata": {
        "colab": {
          "base_uri": "https://localhost:8080/"
        },
        "id": "Y3PgcOrjy4D0",
        "outputId": "7e2c851f-e0a8-4c3b-acc3-2bc281590e2c"
      },
      "outputs": [
        {
          "name": "stdout",
          "output_type": "stream",
          "text": [
            "2047\n"
          ]
        }
      ],
      "source": [
        "from datetime import date\n",
        "\n",
        "retirementAge = 65\n",
        "startingAge = 41\n",
        "targetYear = date.today().year + (retirementAge-startingAge)\n",
        "\n",
        "myGoal.targetYear = targetYear\n",
        "print(myGoal.targetYear)"
      ]
    },
    {
      "cell_type": "code",
      "execution_count": 9,
      "metadata": {
        "id": "LGtYzshGFfy2"
      },
      "outputs": [],
      "source": [
        "class RetirementGoal(Goal):\n",
        "  def __init__(self, name, targetValue, startingAge, retirementAge):\n",
        "    targetYear = date.today().year + (retirementAge-startingAge)\n",
        "    super().__init__(name, targetYear, targetValue)\n",
        "    self.retirementAge = retirementAge"
      ]
    },
    {
      "cell_type": "code",
      "execution_count": 10,
      "metadata": {
        "colab": {
          "base_uri": "https://localhost:8080/"
        },
        "id": "RwdSIu2dHYmo",
        "outputId": "65cf2c4c-bfeb-43ae-9d2f-7d2e0a40d8c5"
      },
      "outputs": [
        {
          "name": "stdout",
          "output_type": "stream",
          "text": [
            "2042\n"
          ]
        }
      ],
      "source": [
        "myRetirement = RetirementGoal(\"Honolulu\", 3000000, 41, 60)\n",
        "print(myRetirement.targetYear)"
      ]
    },
    {
      "cell_type": "code",
      "execution_count": 11,
      "metadata": {
        "id": "xg50MUpeJaMb"
      },
      "outputs": [],
      "source": [
        "class GrowWealthGoal(Goal):\n",
        "  def __init__(self, initialContribution, monthlyContribution):\n",
        "    targetYear = date.today().year + 10\n",
        "    targetAmount = 1000000\n",
        "    super().__init__(\"Grow My Wealth\", targetYear, targetAmount, initialContribution, monthlyContribution)\n",
        "\n",
        "class EducationGoal(Goal):\n",
        "  def __init__(self, name, startYear, degreeLengthYears, annualTuitionFees, degreeType, schoolName):\n",
        "    targetValue = degreeLengthYears * annualTuitionFees\n",
        "    super().__init__(name, startYear, targetValue)\n",
        "    self.degreeType = degreeType\n",
        "    self.schoolName = schoolName\n",
        "\n",
        "class RealEstateGoal(Goal):\n",
        "  def __init__(self, name, targetYear, homeValue, downPayment, mortgagePayment, interestRate):\n",
        "    targetValue = downPayment\n",
        "    super().__init__(name, targetYear, targetValue)\n",
        "    self.homeValue = homeValue\n",
        "    self.downPayment = downPayment\n",
        "    self.mortgagePayment = mortgagePayment\n",
        "    self.interestRate = interestRate\n",
        "\n",
        "class StartupGoal(Goal):\n",
        "  def __init__(self, companyName, startYear, seedFunding):\n",
        "    super().__init__(companyName, startYear, seedFunding)"
      ]
    },
    {
      "cell_type": "code",
      "execution_count": 12,
      "metadata": {
        "id": "Et_yDfmtJTNF"
      },
      "outputs": [],
      "source": [
        "class SavingsGoal:\n",
        "  def __init__(self, name, targetDate, targetValue, initialContribution, monthlyContribution):\n",
        "    from dateutil import parser\n",
        "    targetDateTime = parser.parse(targetDate)\n",
        "    from dateutil.relativedelta import relativedelta\n",
        "    delta = relativedelta(targetDateTime, date.today())\n",
        "    difference_in_months = delta.months + delta.years * 12\n",
        "    value = initialContribution + (monthlyContribution * difference_in_months)\n",
        "    print(value)\n",
        "    if not (value >= targetValue):\n",
        "            raise ValueError('Target value too high to be achieved.')\n",
        "    self.name = name\n",
        "    self.targetDate = targetDateTime\n",
        "    self.targetValue = targetValue\n",
        "    self.initialContribution = initialContribution\n",
        "    self.monthlyContribution = monthlyContribution"
      ]
    },
    {
      "cell_type": "code",
      "execution_count": 14,
      "metadata": {
        "colab": {
          "base_uri": "https://localhost:8080/",
          "height": 312
        },
        "id": "C7x3m8Aiw6wL",
        "outputId": "4252089b-e7ea-49f1-df55-e541b65ac9b2"
      },
      "outputs": [
        {
          "name": "stdout",
          "output_type": "stream",
          "text": [
            "1800\n"
          ]
        },
        {
          "ename": "ValueError",
          "evalue": "Target value too high to be achieved.",
          "output_type": "error",
          "traceback": [
            "\u001b[0;31m---------------------------------------------------------------------------\u001b[0m",
            "\u001b[0;31mValueError\u001b[0m                                Traceback (most recent call last)",
            "Cell \u001b[0;32mIn[14], line 1\u001b[0m\n\u001b[0;32m----> 1\u001b[0m saver \u001b[39m=\u001b[39m SavingsGoal(\u001b[39m\"\u001b[39;49m\u001b[39mRainy Day\u001b[39;49m\u001b[39m\"\u001b[39;49m, \u001b[39m\"\u001b[39;49m\u001b[39mOct 5 2023\u001b[39;49m\u001b[39m\"\u001b[39;49m, \u001b[39m10000\u001b[39;49m, \u001b[39m1000\u001b[39;49m, \u001b[39m100\u001b[39;49m)\n",
            "Cell \u001b[0;32mIn[12], line 11\u001b[0m, in \u001b[0;36mSavingsGoal.__init__\u001b[0;34m(self, name, targetDate, targetValue, initialContribution, monthlyContribution)\u001b[0m\n\u001b[1;32m      9\u001b[0m \u001b[39mprint\u001b[39m(value)\n\u001b[1;32m     10\u001b[0m \u001b[39mif\u001b[39;00m \u001b[39mnot\u001b[39;00m (value \u001b[39m>\u001b[39m\u001b[39m=\u001b[39m targetValue):\n\u001b[0;32m---> 11\u001b[0m         \u001b[39mraise\u001b[39;00m \u001b[39mValueError\u001b[39;00m(\u001b[39m'\u001b[39m\u001b[39mTarget value too high to be achieved.\u001b[39m\u001b[39m'\u001b[39m)\n\u001b[1;32m     12\u001b[0m \u001b[39mself\u001b[39m\u001b[39m.\u001b[39mname \u001b[39m=\u001b[39m name\n\u001b[1;32m     13\u001b[0m \u001b[39mself\u001b[39m\u001b[39m.\u001b[39mtargetDate \u001b[39m=\u001b[39m targetDateTime\n",
            "\u001b[0;31mValueError\u001b[0m: Target value too high to be achieved."
          ]
        }
      ],
      "source": [
        "saver = SavingsGoal(\"Rainy Day\", \"Oct 5 2023\", 10000, 1000, 100)"
      ]
    },
    {
      "cell_type": "code",
      "execution_count": 15,
      "metadata": {
        "colab": {
          "base_uri": "https://localhost:8080/"
        },
        "id": "S8s4mi4XyRj4",
        "outputId": "8c86efe5-c318-4b2e-f6ee-593a66af50fa"
      },
      "outputs": [
        {
          "name": "stdout",
          "output_type": "stream",
          "text": [
            "9000\n"
          ]
        },
        {
          "ename": "ValueError",
          "evalue": "Target value too high to be achieved.",
          "output_type": "error",
          "traceback": [
            "\u001b[0;31m---------------------------------------------------------------------------\u001b[0m",
            "\u001b[0;31mValueError\u001b[0m                                Traceback (most recent call last)",
            "Cell \u001b[0;32mIn[15], line 1\u001b[0m\n\u001b[0;32m----> 1\u001b[0m saver \u001b[39m=\u001b[39m SavingsGoal(\u001b[39m\"\u001b[39;49m\u001b[39mRainy Day\u001b[39;49m\u001b[39m\"\u001b[39;49m, \u001b[39m\"\u001b[39;49m\u001b[39mOct 5 2023\u001b[39;49m\u001b[39m\"\u001b[39;49m, \u001b[39m10000\u001b[39;49m, \u001b[39m1000\u001b[39;49m, \u001b[39m1000\u001b[39;49m)\n",
            "Cell \u001b[0;32mIn[12], line 11\u001b[0m, in \u001b[0;36mSavingsGoal.__init__\u001b[0;34m(self, name, targetDate, targetValue, initialContribution, monthlyContribution)\u001b[0m\n\u001b[1;32m      9\u001b[0m \u001b[39mprint\u001b[39m(value)\n\u001b[1;32m     10\u001b[0m \u001b[39mif\u001b[39;00m \u001b[39mnot\u001b[39;00m (value \u001b[39m>\u001b[39m\u001b[39m=\u001b[39m targetValue):\n\u001b[0;32m---> 11\u001b[0m         \u001b[39mraise\u001b[39;00m \u001b[39mValueError\u001b[39;00m(\u001b[39m'\u001b[39m\u001b[39mTarget value too high to be achieved.\u001b[39m\u001b[39m'\u001b[39m)\n\u001b[1;32m     12\u001b[0m \u001b[39mself\u001b[39m\u001b[39m.\u001b[39mname \u001b[39m=\u001b[39m name\n\u001b[1;32m     13\u001b[0m \u001b[39mself\u001b[39m\u001b[39m.\u001b[39mtargetDate \u001b[39m=\u001b[39m targetDateTime\n",
            "\u001b[0;31mValueError\u001b[0m: Target value too high to be achieved."
          ]
        }
      ],
      "source": [
        "saver = SavingsGoal(\"Rainy Day\", \"Oct 5 2023\", 10000, 1000, 1000)"
      ]
    },
    {
      "cell_type": "code",
      "execution_count": 16,
      "metadata": {
        "id": "rMGt_E2zw6AI"
      },
      "outputs": [],
      "source": [
        "class WeddingGoal(SavingsGoal):\n",
        "  def __init__(self, name, weddingDate, budget, initialContribution, monthlyContribution):\n",
        "    super().__init__(name, weddingDate, budget, initialContribution, monthlyContribution)\n",
        "    self.weddingDate = weddingDate\n",
        "\n",
        "class TravelGoal(SavingsGoal):\n",
        "  def __init__(self, destination, tripDate, tripDuration, budget, initialContribution, monthlyContribution):\n",
        "    super().__init__(destination, tripDate, budget, initialContribution, monthlyContribution)\n",
        "    self.tripDuration = tripDuration\n",
        "\n",
        "class SplurgeGoal(SavingsGoal):\n",
        "  def __init__(self, itemName, storeName, targetPurchaseDate, budget, initialContribution, monthlyContribution):\n",
        "    super().__init__(itemName + \" @ \" + storeName, targetPurchaseDate, budget, initialContribution, monthlyContribution)"
      ]
    },
    {
      "cell_type": "code",
      "execution_count": 17,
      "metadata": {
        "colab": {
          "base_uri": "https://localhost:8080/",
          "height": 53
        },
        "id": "xPuH33sqKPrm",
        "outputId": "f210c1f1-f8d3-44ab-934e-d0729995ddd0"
      },
      "outputs": [
        {
          "name": "stdout",
          "output_type": "stream",
          "text": [
            "500\n"
          ]
        },
        {
          "ename": "ValueError",
          "evalue": "Target value too high to be achieved.",
          "output_type": "error",
          "traceback": [
            "\u001b[0;31m---------------------------------------------------------------------------\u001b[0m",
            "\u001b[0;31mValueError\u001b[0m                                Traceback (most recent call last)",
            "Cell \u001b[0;32mIn[17], line 1\u001b[0m\n\u001b[0;32m----> 1\u001b[0m goal \u001b[39m=\u001b[39m SplurgeGoal(\u001b[39m\"\u001b[39;49m\u001b[39mMacBook\u001b[39;49m\u001b[39m\"\u001b[39;49m, \u001b[39m\"\u001b[39;49m\u001b[39mApple\u001b[39;49m\u001b[39m\"\u001b[39;49m, \u001b[39m\"\u001b[39;49m\u001b[39mJan 15, 2023\u001b[39;49m\u001b[39m\"\u001b[39;49m, \u001b[39m1500\u001b[39;49m, \u001b[39m500\u001b[39;49m, \u001b[39m500\u001b[39;49m)\n\u001b[1;32m      2\u001b[0m goal\u001b[39m.\u001b[39mname\n",
            "Cell \u001b[0;32mIn[16], line 13\u001b[0m, in \u001b[0;36mSplurgeGoal.__init__\u001b[0;34m(self, itemName, storeName, targetPurchaseDate, budget, initialContribution, monthlyContribution)\u001b[0m\n\u001b[1;32m     12\u001b[0m \u001b[39mdef\u001b[39;00m \u001b[39m__init__\u001b[39m(\u001b[39mself\u001b[39m, itemName, storeName, targetPurchaseDate, budget, initialContribution, monthlyContribution):\n\u001b[0;32m---> 13\u001b[0m   \u001b[39msuper\u001b[39;49m()\u001b[39m.\u001b[39;49m\u001b[39m__init__\u001b[39;49m(itemName \u001b[39m+\u001b[39;49m \u001b[39m\"\u001b[39;49m\u001b[39m @ \u001b[39;49m\u001b[39m\"\u001b[39;49m \u001b[39m+\u001b[39;49m storeName, targetPurchaseDate, budget, initialContribution, monthlyContribution)\n",
            "Cell \u001b[0;32mIn[12], line 11\u001b[0m, in \u001b[0;36mSavingsGoal.__init__\u001b[0;34m(self, name, targetDate, targetValue, initialContribution, monthlyContribution)\u001b[0m\n\u001b[1;32m      9\u001b[0m \u001b[39mprint\u001b[39m(value)\n\u001b[1;32m     10\u001b[0m \u001b[39mif\u001b[39;00m \u001b[39mnot\u001b[39;00m (value \u001b[39m>\u001b[39m\u001b[39m=\u001b[39m targetValue):\n\u001b[0;32m---> 11\u001b[0m         \u001b[39mraise\u001b[39;00m \u001b[39mValueError\u001b[39;00m(\u001b[39m'\u001b[39m\u001b[39mTarget value too high to be achieved.\u001b[39m\u001b[39m'\u001b[39m)\n\u001b[1;32m     12\u001b[0m \u001b[39mself\u001b[39m\u001b[39m.\u001b[39mname \u001b[39m=\u001b[39m name\n\u001b[1;32m     13\u001b[0m \u001b[39mself\u001b[39m\u001b[39m.\u001b[39mtargetDate \u001b[39m=\u001b[39m targetDateTime\n",
            "\u001b[0;31mValueError\u001b[0m: Target value too high to be achieved."
          ]
        }
      ],
      "source": [
        "goal = SplurgeGoal(\"MacBook\", \"Apple\", \"Jan 15, 2023\", 1500, 500, 500)\n",
        "goal.name"
      ]
    },
    {
      "cell_type": "code",
      "execution_count": 18,
      "metadata": {
        "id": "IE2IK8Fep5Mg"
      },
      "outputs": [],
      "source": [
        "class IncomeGoal:\n",
        "  def __init__(self, durationYears, startingValue, monthlyDividend):\n",
        "    self.durationYears = durationYears\n",
        "    self.startingValue = startingValue\n",
        "    self.monthlyDividend = monthlyDividend\n",
        "\n",
        "class RetirementIncome(IncomeGoal):\n",
        "  def __init__(self, retirementSavings, currentAge, retirementAge, retirementIncome):\n",
        "    lifeExpectancy = 79\n",
        "    durationYears = lifeExpectancy - retirementAge\n",
        "    super().__init__(durationYears, retirementSavings, retirementIncome)\n",
        "    self.retirementYear = date.today().year + (retirementAge-currentAge)"
      ]
    },
    {
      "cell_type": "code",
      "execution_count": 19,
      "metadata": {
        "id": "XyyVSb6tpr6F"
      },
      "outputs": [],
      "source": [
        "class Goal:\n",
        "  def __init__(self, name, targetYear, targetValue, initialContribution=0, monthlyContribution=0, priority=\"\"):\n",
        "    self.name = name\n",
        "    self.targetYear = targetYear\n",
        "    self.targetValue = targetValue\n",
        "    self.initialContribution = initialContribution\n",
        "    self.monthlyContribution = monthlyContribution\n",
        "    if not (priority == \"\") and not (priority in [\"Dreams\", \"Wishes\", \"Wants\", \"Needs\"]):\n",
        "            raise ValueError('Wrong value set for Priority.')\n",
        "    self.priority = priority"
      ]
    },
    {
      "cell_type": "code",
      "execution_count": 20,
      "metadata": {
        "colab": {
          "base_uri": "https://localhost:8080/",
          "height": 35
        },
        "id": "EOc8OWnmxZtz",
        "outputId": "c5a48bad-7f09-4a3e-d6b7-71f5ec469173"
      },
      "outputs": [
        {
          "data": {
            "text/plain": [
              "'Dreams'"
            ]
          },
          "execution_count": 20,
          "metadata": {},
          "output_type": "execute_result"
        }
      ],
      "source": [
        "myGoal = Goal(\"Vacation\", 2027, 10000, priority=\"Dreams\")\n",
        "myGoal.priority"
      ]
    },
    {
      "cell_type": "code",
      "execution_count": 21,
      "metadata": {
        "id": "NpOS1yBjsmSO"
      },
      "outputs": [],
      "source": [
        "def getGoalProbabilities(priority):\n",
        "  import pandas as pd\n",
        "  lookupTable=pd.read_csv('./Data/Goal Probability Table.csv')\n",
        "  match = (lookupTable['Realize'] == priority)\n",
        "  minProb = lookupTable['MinP'][(match)]\n",
        "  maxProb = lookupTable['MaxP'][(match)]\n",
        "  return minProb.values[0], maxProb.values[0]"
      ]
    },
    {
      "cell_type": "code",
      "execution_count": 22,
      "metadata": {
        "colab": {
          "base_uri": "https://localhost:8080/"
        },
        "id": "pE9LaUOttrD9",
        "outputId": "464114ac-d481-48cf-b6f8-4f5cc7cf6164"
      },
      "outputs": [
        {
          "name": "stdout",
          "output_type": "stream",
          "text": [
            "0.5\n",
            "0.64\n"
          ]
        }
      ],
      "source": [
        "minP, maxP = getGoalProbabilities(myGoal.priority)\n",
        "print(minP)\n",
        "print(maxP)"
      ]
    },
    {
      "cell_type": "code",
      "execution_count": 23,
      "metadata": {
        "id": "V80sY1610HYl"
      },
      "outputs": [],
      "source": [
        "class Goal:\n",
        "  def __init__(self, name, targetYear, targetValue, initialContribution=0, monthlyContribution=0, priority=\"\"):\n",
        "    self.name = name\n",
        "    self.targetYear = targetYear\n",
        "    self.targetValue = targetValue\n",
        "    self.initialContribution = initialContribution\n",
        "    self.monthlyContribution = monthlyContribution\n",
        "    if not (priority == \"\") and not (priority in [\"Dreams\", \"Wishes\", \"Wants\", \"Needs\"]):\n",
        "            raise ValueError('Wrong value set for Priority.')\n",
        "    self.priority = priority\n",
        "\n",
        "  def getGoalProbabilities(self):\n",
        "    if (self.priority == \"\"):\n",
        "            raise ValueError('No value set for Priority.')\n",
        "    import pandas as pd\n",
        "    lookupTable=pd.read_csv('./Data/Goal Probability Table.csv')\n",
        "    match = (lookupTable['Realize'] == self.priority)\n",
        "    minProb = lookupTable['MinP'][(match)]\n",
        "    maxProb = lookupTable['MaxP'][(match)]\n",
        "    return minProb.values[0], maxProb.values[0]"
      ]
    },
    {
      "cell_type": "code",
      "execution_count": 24,
      "metadata": {
        "colab": {
          "base_uri": "https://localhost:8080/"
        },
        "id": "WlSEihXY0Mei",
        "outputId": "424489c3-079a-4b82-c584-a900fa345fee"
      },
      "outputs": [
        {
          "name": "stdout",
          "output_type": "stream",
          "text": [
            "0.5\n",
            "0.64\n"
          ]
        }
      ],
      "source": [
        "myGoal = Goal(\"Vacation\", 2027, 10000, priority=\"Dreams\")\n",
        "minP, maxP = myGoal.getGoalProbabilities()\n",
        "print(minP)\n",
        "print(maxP)"
      ]
    }
  ],
  "metadata": {
    "colab": {
      "provenance": [],
      "toc_visible": true
    },
    "kernelspec": {
      "display_name": "Python 3",
      "language": "python",
      "name": "python3"
    },
    "language_info": {
      "codemirror_mode": {
        "name": "ipython",
        "version": 3
      },
      "file_extension": ".py",
      "mimetype": "text/x-python",
      "name": "python",
      "nbconvert_exporter": "python",
      "pygments_lexer": "ipython3",
      "version": "3.10.8"
    },
    "vscode": {
      "interpreter": {
        "hash": "bf4014decd6db2e7270b0720910deef930124f2ac2cf190091d139b0105c57af"
      }
    }
  },
  "nbformat": 4,
  "nbformat_minor": 0
}

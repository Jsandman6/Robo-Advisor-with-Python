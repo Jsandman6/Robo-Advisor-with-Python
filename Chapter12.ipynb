{
  "cells": [
    {
      "attachments": {},
      "cell_type": "markdown",
      "metadata": {
        "id": "CB2igcSLonpW"
      },
      "source": [
        "# Chapter 12: Order Management and Execution"
      ]
    },
    {
      "cell_type": "code",
      "execution_count": null,
      "metadata": {},
      "outputs": [],
      "source": [
        "import yfinance as yf\n",
        "import pandas as pd"
      ]
    },
    {
      "cell_type": "code",
      "execution_count": null,
      "metadata": {
        "id": "gDVjTN_tamDz"
      },
      "outputs": [],
      "source": [
        "class Allocation:\n",
        "  def __init__(self, ticker, percentage):\n",
        "    self.ticker = ticker\n",
        "    self.percentage = percentage\n",
        "    self.units = 0.0\n",
        "\n",
        "class Portfolio:\n",
        "\n",
        "  def __init__(self, tickerString: str, expectedReturn: float, portfolioName: str, riskBucket: int):\n",
        "\n",
        "    self.name = portfolioName\n",
        "    self.riskBucket = riskBucket\n",
        "    self.expectedReturn = expectedReturn\n",
        "    self.allocations = []\n",
        "\n",
        "    from pypfopt.efficient_frontier import EfficientFrontier\n",
        "    from pypfopt import risk_models\n",
        "    from pypfopt import expected_returns\n",
        "\n",
        "    df = self.__getDailyPrices(tickerString, \"20y\")\n",
        "\n",
        "    mu = expected_returns.mean_historical_return(df)\n",
        "    S = risk_models.sample_cov(df)\n",
        "\n",
        "    ef = EfficientFrontier(mu, S)\n",
        "\n",
        "    ef.efficient_return(expectedReturn)\n",
        "    self.expectedRisk = ef.portfolio_performance()[1]\n",
        "    portfolioWeights = ef.clean_weights()\n",
        "\n",
        "    for key, value in portfolioWeights.items():\n",
        "      newAllocation = Allocation(key, value)\n",
        "      self.allocations.append(newAllocation)\n",
        "\n",
        "  def __getDailyPrices(self, tickerStringList, period):\n",
        "    data = yf.download(tickerStringList, group_by=\"Ticker\", period=period)\n",
        "    data = data.iloc[:, data.columns.get_level_values(1)==\"Close\"]\n",
        "    data = data.dropna()\n",
        "    data.columns = data.columns.droplevel(1)\n",
        "    return data\n",
        "\n",
        "  def printPortfolio(self):\n",
        "    print(\"Portfolio Name: \" + self.name)\n",
        "    print(\"Risk Bucket: \" + str(self.riskBucket))\n",
        "    print(\"Expected Return: \" + str(self.expectedReturn))\n",
        "    print(\"Expected Risk: \" + str(self.expectedRisk))\n",
        "    print(\"Allocations: \")\n",
        "    for allocation in self.allocations:\n",
        "      print(\"Ticker: \" + allocation.ticker + \", Percentage: \" + str(allocation.percentage))\n",
        "\n",
        "  @staticmethod\n",
        "  def getPortfolioMapping(riskToleranceScore, riskCapacityScore):\n",
        "    import pandas as pd\n",
        "    allocationLookupTable=pd.read_csv('./Data/Risk Mapping Lookup.csv')\n",
        "    matchTol = (allocationLookupTable['Tolerance_min'] <= riskToleranceScore) & (allocationLookupTable['Tolerance_max'] >= riskToleranceScore)\n",
        "    matchCap = (allocationLookupTable['Capacity_min'] <= riskCapacityScore) & (allocationLookupTable['Capacity_max'] >= riskCapacityScore)\n",
        "    portfolioID = allocationLookupTable['Portfolio'][(matchTol & matchCap)]\n",
        "    return portfolioID.values[0]\n",
        "\n",
        "class Goal:\n",
        "  def __init__(self, name, targetYear, targetValue, initialContribution=0, monthlyContribution=0, priority=\"\"):\n",
        "    self.name = name\n",
        "    self.targetYear = targetYear\n",
        "    self.targetValue = targetValue\n",
        "    self.initialContribution = initialContribution\n",
        "    self.monthlyContribution = monthlyContribution\n",
        "    if not (priority == \"\") and not (priority in [\"Dreams\", \"Wishes\", \"Wants\", \"Needs\"]):\n",
        "            raise ValueError('Wrong value set for Priority.')\n",
        "    self.priority = priority\n",
        "\n",
        "  def getGoalProbabilities(self):\n",
        "    if (self.priority == \"\"):\n",
        "            raise ValueError('No value set for Priority.')\n",
        "    lookupTable=pd.read_csv('./Data/Goal Probability Table.csv')\n",
        "    match = (lookupTable['Realize'] == self.priority)\n",
        "    minProb = lookupTable['MinP'][(match)]\n",
        "    maxProb = lookupTable['MaxP'][(match)]\n",
        "    return minProb.values[0], maxProb.values[0]"
      ]
    },
    {
      "cell_type": "code",
      "execution_count": null,
      "metadata": {
        "id": "GpPFh25AC3Uw"
      },
      "outputs": [],
      "source": [
        "class AccountType():\n",
        "  def __init__(self, value: str):\n",
        "    if not value in(\"Taxable\", \"Roth IRA\", \"Traditional IRA\"):\n",
        "      raise ValueError(\"Allowed types: Taxable, Roth IRA, Traditional IRA\")\n",
        "    self.value = value\n",
        "  def __eq__(self, other):\n",
        "      return self.value == other.value\n",
        "\n",
        "class AccountStatus():\n",
        "  def __init__(self, value: str):\n",
        "    if not value in(\"PENDING\", \"IN_REVIEW\", \"APPROVED\", \"REJECTED\", \"SUSPENDED\"):\n",
        "      raise ValueError(\"Allowed statuses: PENDING, IN_REVIEW, APPROVED, REJECTED, SUSPENDED\")\n",
        "    self.value = value\n",
        "  def __eq__(self, other):\n",
        "      return self.value == other.value\n",
        "\n",
        "class Account():\n",
        "  def __init__(self, number: str, accountType: AccountType, accountStatus: AccountStatus, cashBalance: float=0.0):\n",
        "    self.goals = []\n",
        "    self.number = number\n",
        "    self.cashBalance = cashBalance\n",
        "    self.accountType = accountType\n",
        "    self.accountStatus = accountStatus"
      ]
    },
    {
      "cell_type": "code",
      "execution_count": null,
      "metadata": {
        "id": "ts4n53XrFoWX"
      },
      "outputs": [],
      "source": [
        "class Goal:\n",
        "  def __init__(self, name: str, targetYear: int, targetValue: float, portfolio: Portfolio=None, initialContribution: float=0, monthlyContribution: float=0, priority: str=\"\"):\n",
        "    self.name = name\n",
        "    self.targetYear = targetYear\n",
        "    self.targetValue = targetValue\n",
        "    self.initialContribution = initialContribution\n",
        "    self.monthlyContribution = monthlyContribution\n",
        "    if not (priority == \"\") and not (priority in [\"Dreams\", \"Wishes\", \"Wants\", \"Needs\"]):\n",
        "            raise ValueError(\"Wrong value set for Priority.\")\n",
        "    self.priority = priority\n",
        "    self.portfolio = portfolio\n",
        "\n",
        "  def getGoalProbabilities(self):\n",
        "    if (self.priority == \"\"):\n",
        "            raise ValueError(\"No value set for Priority.\")\n",
        "    lookupTable=pd.read_csv(\"./Data/Goal Probability Table.csv\")\n",
        "    match = (lookupTable[\"Realize\"] == self.priority)\n",
        "    minProb = lookupTable[\"MinP\"][(match)]\n",
        "    maxProb = lookupTable[\"MaxP\"][(match)]\n",
        "    return minProb.values[0], maxProb.values[0]"
      ]
    },
    {
      "cell_type": "code",
      "execution_count": null,
      "metadata": {
        "id": "FYgpvO2E0ZHq"
      },
      "outputs": [],
      "source": [
        "class TransactionType():\n",
        "  def __init__(self, value: str):\n",
        "    if not value in(\"BUY\", \"SELL\"):\n",
        "      raise ValueError(\"Allowed types: BUY, SELL.\")\n",
        "    self.value = value\n",
        "  def __eq__(self, other):\n",
        "      return self.value == other.value\n",
        "\n",
        "class OrderStatus():\n",
        "  def __init__(self, value: str):\n",
        "    if not value in(\"NEW\", \"PENDING\", \"FILLED\", \"REJECTED\"):\n",
        "      raise ValueError(\"Allowed statuses: NEW, PENDING, FILLED, REJECTED.\")\n",
        "    self.value = value\n",
        "  def __eq__(self, other):\n",
        "      return self.value == other.value"
      ]
    },
    {
      "cell_type": "code",
      "execution_count": null,
      "metadata": {
        "id": "mcrGFlTGPi4n"
      },
      "outputs": [],
      "source": [
        "class Order:\n",
        "  def __init__(self, account: Account, goal: Goal, transactionType: TransactionType, status: OrderStatus=OrderStatus(\"NEW\"), dollarAmount: float=0.0):\n",
        "    \n",
        "    self.account = account\n",
        "    self.transactionType = transactionType\n",
        "    self.dollarAmount = dollarAmount\n",
        "    self.goal = goal\n",
        "    self.status = status"
      ]
    },
    {
      "cell_type": "code",
      "execution_count": null,
      "metadata": {
        "colab": {
          "base_uri": "https://localhost:8080/"
        },
        "id": "lg2EPtePhVE-",
        "outputId": "878be89f-44f0-4687-a5fd-681ed8ce464e"
      },
      "outputs": [],
      "source": [
        "pip install pandas_market_calendars"
      ]
    },
    {
      "cell_type": "code",
      "execution_count": null,
      "metadata": {
        "id": "RuBDd-gghOFJ"
      },
      "outputs": [],
      "source": [
        "def isMarketOpen():\n",
        "  from datetime import datetime, timedelta\n",
        "  import pandas_market_calendars as mcal\n",
        "  \n",
        "  previousday = datetime.now() - timedelta(5)\n",
        "  nextday = datetime.now() + timedelta(5)\n",
        "  nyse = mcal.get_calendar('NYSE')\n",
        "  sched = nyse.schedule(start_date=previousday, end_date=nextday)\n",
        "  \n",
        "  return nyse.is_open_now(sched)"
      ]
    },
    {
      "cell_type": "code",
      "execution_count": null,
      "metadata": {
        "colab": {
          "base_uri": "https://localhost:8080/"
        },
        "id": "ubUwyMJ6knYf",
        "outputId": "6420875c-4b31-4044-cad6-0cc3f4cf8e9e"
      },
      "outputs": [],
      "source": [
        "isMarketOpen()"
      ]
    },
    {
      "cell_type": "code",
      "execution_count": null,
      "metadata": {
        "id": "jvWs0QDZuIhu"
      },
      "outputs": [],
      "source": [
        "class Order:\n",
        "  def __init__(self, account: Account, goal: Goal, transactionType: TransactionType, status: OrderStatus=OrderStatus(\"NEW\"), dollarAmount: float=0.0):\n",
        "    \n",
        "    self.account = account\n",
        "    self.transactionType = transactionType\n",
        "    self.dollarAmount = dollarAmount\n",
        "    self.goal = goal\n",
        "    self.status = status\n",
        "\n",
        "  def checkAccountStatus(self) -> bool:\n",
        "    if self.account.accountStatus == AccountStatus(\"APPROVED\"):\n",
        "      return True\n",
        "    else:\n",
        "      return False\n",
        "\n",
        "  def checkOrderSize(self) -> bool:\n",
        "    if self.dollarAmount > 1.00:\n",
        "      return True\n",
        "    else:\n",
        "      return False\n",
        "\n",
        "  def checkBuyPower(self) -> bool:\n",
        "    if self.transactionType == TransactionType(\"BUY\") and self.account.cashBalance >= self.dollarAmount:\n",
        "      return True\n",
        "    elif self.transactionType == TransactionType(\"SELL\"):\n",
        "      return True\n",
        "    else:\n",
        "      return False\n",
        "\n",
        "  def checkOrderViability(self) -> bool:\n",
        "    if self.checkAccountStatus() and self.checkOrderSize() and self.checkBuyPower() and isMarketOpen():\n",
        "      return True\n",
        "    else:\n",
        "      return False"
      ]
    },
    {
      "cell_type": "code",
      "execution_count": null,
      "metadata": {
        "colab": {
          "base_uri": "https://localhost:8080/"
        },
        "id": "CaKDZPEhFf5o",
        "outputId": "d2295f03-5af5-49df-8493-f6373d8d4953"
      },
      "outputs": [],
      "source": [
        "!python --version"
      ]
    },
    {
      "cell_type": "code",
      "execution_count": null,
      "metadata": {
        "id": "MSiE9MctGUBR"
      },
      "outputs": [],
      "source": [
        "#pip install fastapi"
      ]
    },
    {
      "cell_type": "code",
      "execution_count": null,
      "metadata": {
        "colab": {
          "base_uri": "https://localhost:8080/",
          "height": 35
        },
        "id": "4oCA6KOsG-d3",
        "outputId": "3a61d972-21e0-4d40-926b-384948d0421e"
      },
      "outputs": [],
      "source": [
        "'''from fastapi import FastAPI\n",
        "app = FastAPI()\n",
        "\n",
        "@app.get(\"/my-first-api\")\n",
        "def hello():\n",
        "  return {\"Hello world!\"}'''"
      ]
    },
    {
      "cell_type": "code",
      "execution_count": null,
      "metadata": {
        "colab": {
          "base_uri": "https://localhost:8080/"
        },
        "id": "F3nW-SFRuoUg",
        "outputId": "1cbefd4d-4a01-4419-9c01-21ae019820aa"
      },
      "outputs": [],
      "source": [
        "myPortfolio = Portfolio(\"VTI TLT IEI GLD DBC\", expectedReturn = 0.05, portfolioName = \"Moderate\", riskBucket = 3)\n",
        "myGoal = Goal(name=\"Vacation\", targetYear=2027, targetValue=10000, priority=\"Dreams\", portfolio=myPortfolio)\n",
        "myAccount=Account(number=\"123456789\", accountType=\"Taxable\", accountStatus=AccountStatus(\"APPROVED\"), cashBalance=11.0)\n",
        "myAccount.goals.append(myGoal)\n",
        "\n",
        "newOrder = Order(account=myAccount, goal=myGoal, transactionType=TransactionType(\"BUY\"), dollarAmount=10.0)\n",
        "print(newOrder.checkOrderViability())"
      ]
    },
    {
      "cell_type": "code",
      "execution_count": null,
      "metadata": {
        "colab": {
          "base_uri": "https://localhost:8080/"
        },
        "id": "kIfhYa-sIieR",
        "outputId": "5ce17a42-e820-476a-ad2e-c9a5815daa75"
      },
      "outputs": [],
      "source": [
        "newOrder.goal.portfolio.printPortfolio()"
      ]
    },
    {
      "cell_type": "code",
      "execution_count": null,
      "metadata": {
        "colab": {
          "base_uri": "https://localhost:8080/"
        },
        "id": "0htJOym6Makt",
        "outputId": "161b1b8b-0ccf-46aa-f38d-41ff8966bb9b"
      },
      "outputs": [],
      "source": [
        "for allocation in newOrder.goal.portfolio.allocations:\n",
        "  print(newOrder.transactionType.value + \": \" + allocation.ticker + \", $\" + str(allocation.percentage * newOrder.dollarAmount))"
      ]
    },
    {
      "cell_type": "code",
      "execution_count": null,
      "metadata": {
        "id": "L2zdCLQiNcog"
      },
      "outputs": [],
      "source": [
        "class SplitOrder:\n",
        "  def __init__(self, originalOrder: Order, ticker: str, dollarAmount: float):\n",
        "    \n",
        "    self.originalOrder = originalOrder\n",
        "    self.ticker = ticker\n",
        "    self.dollarAmount = dollarAmount\n",
        "    self.units = 0"
      ]
    },
    {
      "cell_type": "code",
      "execution_count": null,
      "metadata": {
        "id": "F6twSJg6P6rA"
      },
      "outputs": [],
      "source": [
        "class Order:\n",
        "  def __init__(self, account: Account, goal: Goal, transactionType: TransactionType, status: OrderStatus=OrderStatus(\"NEW\"), dollarAmount: float=0.0):\n",
        "    \n",
        "    self.account = account\n",
        "    self.transactionType = transactionType\n",
        "    self.dollarAmount = dollarAmount\n",
        "    self.goal = goal\n",
        "    self.status = status\n",
        "\n",
        "  def checkAccountStatus(self) -> bool:\n",
        "    if self.account.accountStatus == AccountStatus(\"APPROVED\"):\n",
        "      return True\n",
        "    else:\n",
        "      return False\n",
        "\n",
        "  def checkOrderSize(self) -> bool:\n",
        "    if self.dollarAmount > 1.00:\n",
        "      return True\n",
        "    else:\n",
        "      return False\n",
        "\n",
        "  def checkBalances(self) -> bool:\n",
        "    if self.transactionType == TransactionType(\"BUY\") and self.account.cashBalance >= self.dollarAmount:\n",
        "      return True\n",
        "    elif self.transactionType == TransactionType(\"SELL\"):\n",
        "      goalValue = 0.0\n",
        "      for allocation in self.goal.portfolio.allocations:\n",
        "        price = float(yf.Ticker(allocation.ticker).info[\"previousClose\"])\n",
        "        goalValue += allocation.units * price\n",
        "      if self.dollarAmount <= goalValue:\n",
        "        return True\n",
        "      else:\n",
        "        return False\n",
        "    else:\n",
        "      return False\n",
        "\n",
        "  def checkOrderViability(self) -> bool:\n",
        "    if self.checkAccountStatus() and self.checkOrderSize() and self.checkBalances() and isMarketOpen():\n",
        "      return True\n",
        "    else:\n",
        "      return False\n",
        "\n",
        "  def split(self) -> list:\n",
        "    splits = []\n",
        "    for allocation in self.goal.portfolio.allocations:\n",
        "      if (allocation.percentage > 0):\n",
        "        splits.append(SplitOrder(originalOrder=self, ticker=allocation.ticker, dollarAmount=allocation.percentage * self.dollarAmount))\n",
        "    return splits"
      ]
    },
    {
      "cell_type": "code",
      "execution_count": null,
      "metadata": {
        "colab": {
          "base_uri": "https://localhost:8080/"
        },
        "id": "aoFY5CY8r-BY",
        "outputId": "39d5891f-3df9-4138-b122-375069592f4f"
      },
      "outputs": [],
      "source": [
        "goalValue = 0.0\n",
        "for allocation in myGoal.portfolio.allocations:\n",
        "  price = float(yf.Ticker(allocation.ticker).info[\"previousClose\"])\n",
        "  goalValue += allocation.units * price\n",
        "print(goalValue)"
      ]
    },
    {
      "cell_type": "code",
      "execution_count": null,
      "metadata": {
        "id": "W2lK_1LURHKD"
      },
      "outputs": [],
      "source": [
        "newOrder = Order(account=myAccount, goal=myGoal, transactionType=TransactionType(\"BUY\"), dollarAmount=10.0)\n",
        "splitOrders = newOrder.split()"
      ]
    },
    {
      "cell_type": "code",
      "execution_count": null,
      "metadata": {
        "colab": {
          "base_uri": "https://localhost:8080/"
        },
        "id": "WedIAu-fQ4CK",
        "outputId": "0f68dd78-46ae-49be-9c03-85f4c83c3160"
      },
      "outputs": [],
      "source": [
        "for split in splitOrders:\n",
        "  print(split.ticker + \", $\" + str(split.dollarAmount))"
      ]
    },
    {
      "cell_type": "code",
      "execution_count": null,
      "metadata": {
        "id": "L1PenkpVStsW"
      },
      "outputs": [],
      "source": [
        "# Master Order class that maintains ref. to split to original.\n",
        "# Some ID to track back to splitOrders?\n",
        "# Update status of originalOrder(s)\n",
        "class MasterOrder:\n",
        "  def __init__(self, status: OrderStatus=OrderStatus(\"NEW\")):\n",
        "    \n",
        "    self.splitOrders = []\n",
        "    self.masterTable = pd.DataFrame(columns=['Account','Symbol','Type','DollarAmount'])\n",
        "    self.status = status\n",
        "\n",
        "  def addSplitOrder(self, splitOrder: SplitOrder):\n",
        "    self.splitOrders.append(splitOrder)\n",
        "\n",
        "  def aggregate(self) -> pd.DataFrame:\n",
        "    for split in self.splitOrders:\n",
        "      new_row = {'Account':split.originalOrder.account.number,'Symbol':split.ticker,'Type':split.originalOrder.transactionType.value,'DollarAmount':split.dollarAmount}\n",
        "      self.masterTable = self.masterTable.append(new_row, ignore_index=True)\n",
        "    \n",
        "    return self.masterTable.groupby(['Symbol','Type']).sum().reset_index()\n",
        "    \n",
        "  def orderSent(self):\n",
        "    newStatus = OrderStatus(\"PENDING\")\n",
        "    self.status = newStatus\n",
        "    for split in self.splitOrders:\n",
        "      split.originalOrder.status = newStatus\n",
        "\n",
        "  def allocateAccounts(self, filledMasterOrderFile: pd.DataFrame) -> pd.DataFrame:\n",
        "    accountTable = pd.DataFrame(columns=['Account','Symbol','Type','Units'], index=self.masterTable.index)\n",
        "    for index, row in filledMasterOrderFile.iterrows():\n",
        "      ordersToAllocate = self.masterTable[(self.masterTable['Symbol'] == row['Symbol']) & (self.masterTable['Type'] == row['Type'])]\n",
        "      totalValue = float(ordersToAllocate.groupby(['Symbol','Type'])['DollarAmount'].sum()[0])\n",
        "      for index2, row2 in ordersToAllocate.iterrows():\n",
        "        unitsAllocated = (row2['DollarAmount'] / totalValue) * row['Units']\n",
        "        new_row = {'Account':row2['Account'],'Symbol':row2['Symbol'],'Type':row2['Type'],'Units':unitsAllocated}\n",
        "        accountTable.iloc[index2] = new_row\n",
        "        self.splitOrders[index2].units = unitsAllocated\n",
        "        self.splitOrders[index2].originalOrder.account.cashBalance -= unitsAllocated * row['Price']\n",
        "        #print(self.splitOrders[index2].originalOrder.account.number)\n",
        "    return accountTable\n",
        "\n",
        "  def allocateGoals(self):\n",
        "    for order in self.splitOrders:\n",
        "      portfolioAllocations = order.originalOrder.goal.portfolio.allocations\n",
        "      #print(order.originalOrder.goal.portfolio.name)\n",
        "      for idx, item in enumerate(portfolioAllocations):\n",
        "        if item.ticker == order.ticker and order.originalOrder.transactionType == TransactionType(\"BUY\"):\n",
        "          order.originalOrder.goal.portfolio.allocations[idx].units += order.units\n",
        "          #print(item.ticker + \": \" + str(order.units))\n",
        "        elif item.ticker == order.ticker and order.originalOrder.transactionType == TransactionType(\"SELL\"):\n",
        "          order.originalOrder.goal.portfolio.allocations[idx].units -= order.units    \n",
        "\n",
        "  def orderFilled(self):\n",
        "    newStatus = OrderStatus(\"FILLED\")\n",
        "    self.status = newStatus\n",
        "    for split in self.splitOrders:\n",
        "      split.originalOrder.status = newStatus  "
      ]
    },
    {
      "cell_type": "code",
      "execution_count": null,
      "metadata": {
        "id": "no6F6CTiRBwI"
      },
      "outputs": [],
      "source": [
        "newMasterOrder = MasterOrder()\n",
        "for split in splitOrders:\n",
        "  newMasterOrder.addSplitOrder(split)"
      ]
    },
    {
      "cell_type": "code",
      "execution_count": null,
      "metadata": {
        "colab": {
          "base_uri": "https://localhost:8080/"
        },
        "id": "FWpKWx46SG4o",
        "outputId": "24352bdf-8845-4934-b5c5-d4b4497ed27f"
      },
      "outputs": [],
      "source": [
        "# Create second order for second account\n",
        "\n",
        "myPortfolio2 = Portfolio(\"VTI TLT IEI GLD DBC\", expectedReturn = 0.03, portfolioName = \"Conservative\", riskBucket = 2)\n",
        "myGoal2 = Goal(name=\"Car\", targetYear=2025, targetValue=5000, priority=\"Dreams\", portfolio=myPortfolio2)\n",
        "myAccount2=Account(number=\"987654321\", accountType=\"Taxable\", accountStatus=AccountStatus(\"APPROVED\"), cashBalance=21.0)\n",
        "myAccount2.goals.append(myGoal2)"
      ]
    },
    {
      "cell_type": "code",
      "execution_count": null,
      "metadata": {
        "colab": {
          "base_uri": "https://localhost:8080/"
        },
        "id": "QuCrkw79WKG2",
        "outputId": "ac9f2e37-1ff5-4914-a950-5486c4a656f1"
      },
      "outputs": [],
      "source": [
        "newOrder2 = Order(account=myAccount2, goal=myGoal2, transactionType=TransactionType(\"BUY\"), dollarAmount=20.0)\n",
        "print(newOrder2.checkOrderViability())\n",
        "splitOrders2 = newOrder2.split()"
      ]
    },
    {
      "cell_type": "code",
      "execution_count": null,
      "metadata": {
        "colab": {
          "base_uri": "https://localhost:8080/"
        },
        "id": "-W0nc1-CeEum",
        "outputId": "68b6f6b0-c8e4-4b24-9717-25d94e5b3d6e"
      },
      "outputs": [],
      "source": [
        "newOrder2.goal.portfolio.printPortfolio()"
      ]
    },
    {
      "cell_type": "code",
      "execution_count": null,
      "metadata": {
        "colab": {
          "base_uri": "https://localhost:8080/"
        },
        "id": "dPZTkwfgeG5_",
        "outputId": "fdfb6480-854f-4eba-e028-264417bcde62"
      },
      "outputs": [],
      "source": [
        "for allocation in newOrder2.goal.portfolio.allocations:\n",
        "  print(newOrder2.transactionType.value + \": \" + allocation.ticker + \", $\" + str(allocation.percentage * newOrder2.dollarAmount))"
      ]
    },
    {
      "cell_type": "code",
      "execution_count": null,
      "metadata": {
        "colab": {
          "base_uri": "https://localhost:8080/"
        },
        "id": "uqFNnUyweCU8",
        "outputId": "3f598024-c348-4d8e-ddf8-a311e9f939cd"
      },
      "outputs": [],
      "source": [
        "for split in splitOrders2:\n",
        "  print(split.ticker + \", $\" + str(split.dollarAmount))"
      ]
    },
    {
      "cell_type": "code",
      "execution_count": null,
      "metadata": {
        "colab": {
          "base_uri": "https://localhost:8080/"
        },
        "id": "gG3DGklRVV-E",
        "outputId": "d0e4a377-0f0e-4469-ac0c-1baf505ff707"
      },
      "outputs": [],
      "source": [
        "# Aggregate second order\n",
        "for split in splitOrders2:\n",
        "  newMasterOrder.addSplitOrder(split)\n",
        "newMasterTable = newMasterOrder.aggregate()\n",
        "print(newMasterTable)"
      ]
    },
    {
      "cell_type": "code",
      "execution_count": null,
      "metadata": {
        "id": "hIJwo6WtUo0V"
      },
      "outputs": [],
      "source": [
        "newMasterTable.to_csv('./Data/MasterOrder.csv')"
      ]
    },
    {
      "cell_type": "code",
      "execution_count": null,
      "metadata": {
        "colab": {
          "base_uri": "https://localhost:8080/"
        },
        "id": "1_oxg4cHYOlB",
        "outputId": "ef409d56-c0a1-4d09-92c1-d20c8cf2af36"
      },
      "outputs": [],
      "source": [
        "# Send to broker via file/JSON/FTP\n",
        "newMasterOrder.orderSent()\n",
        "print(newMasterOrder.splitOrders[0].originalOrder.status.value)"
      ]
    },
    {
      "cell_type": "code",
      "execution_count": null,
      "metadata": {
        "colab": {
          "base_uri": "https://localhost:8080/"
        },
        "id": "jN-ZoqWWYPmv",
        "outputId": "5709d399-697d-4559-8872-c53ac3b09d5e"
      },
      "outputs": [],
      "source": [
        "# Receive filled orders, read from CSV\n",
        "filledMasterOrder = pd.read_csv('./Data/MasterOrder_Filled.csv')\n",
        "filledMasterOrder = filledMasterOrder.set_index(filledMasterOrder.columns[0])\n",
        "print(filledMasterOrder)"
      ]
    },
    {
      "cell_type": "code",
      "execution_count": null,
      "metadata": {
        "colab": {
          "base_uri": "https://localhost:8080/"
        },
        "id": "q3_k3XePb8jD",
        "outputId": "538324c2-f9cc-46b6-d6c3-eea45bb045ed"
      },
      "outputs": [],
      "source": [
        "# Allocate back units from master to split to order\n",
        "print(newMasterOrder.masterTable)\n",
        "accountAllocations = newMasterOrder.allocateAccounts(filledMasterOrder)\n",
        "print(accountAllocations)\n",
        "# Send accountAllocations to custodian somehow\n",
        "# NOTE: Any difference must be processed by rules set by broker (decimal places)"
      ]
    },
    {
      "cell_type": "code",
      "execution_count": null,
      "metadata": {
        "colab": {
          "base_uri": "https://localhost:8080/"
        },
        "id": "qgRJc5amv-rE",
        "outputId": "239f4f38-a742-4a5b-eac0-f86f6e1dc3a5"
      },
      "outputs": [],
      "source": [
        "# Update cash balances for acct\n",
        "print(myAccount.cashBalance)\n",
        "print(myAccount2.cashBalance)"
      ]
    },
    {
      "cell_type": "code",
      "execution_count": null,
      "metadata": {
        "id": "kjFoYQh1t7fV"
      },
      "outputs": [],
      "source": [
        "# UPDATE CUSTODIAN on individual account allocations\n",
        "accountAllocations.to_csv('./Data/Account_Allocations.csv')"
      ]
    },
    {
      "cell_type": "code",
      "execution_count": null,
      "metadata": {
        "id": "asJLjErgx7bL"
      },
      "outputs": [],
      "source": [
        "# Reconciliation from SOD file: updated cash positions vs. allocations"
      ]
    },
    {
      "cell_type": "code",
      "execution_count": null,
      "metadata": {
        "colab": {
          "base_uri": "https://localhost:8080/"
        },
        "id": "coS_Es0QF3cR",
        "outputId": "2d60d8e4-dc5b-4652-e8f4-c11b0bd1bfad"
      },
      "outputs": [],
      "source": [
        "for split in newMasterOrder.splitOrders:\n",
        "  print(str(split.originalOrder.account.number) + \", \" + str(split.ticker) + \", \" + str(split.originalOrder.transactionType.value) + \", \" + str(split.dollarAmount) + \", \" + str(split.units))"
      ]
    },
    {
      "cell_type": "code",
      "execution_count": null,
      "metadata": {
        "id": "f0a4RcyZKhLe"
      },
      "outputs": [],
      "source": [
        "newMasterOrder.allocateGoals()"
      ]
    },
    {
      "cell_type": "code",
      "execution_count": null,
      "metadata": {
        "colab": {
          "base_uri": "https://localhost:8080/"
        },
        "id": "Zz1m1qb0tPMc",
        "outputId": "26c67e7e-8053-4430-d4e2-5d926a569840"
      },
      "outputs": [],
      "source": [
        "print(str(myGoal2.portfolio.allocations[0].ticker) + \": \" + str(myGoal2.portfolio.allocations[0].units))"
      ]
    },
    {
      "cell_type": "code",
      "execution_count": null,
      "metadata": {
        "id": "endlOcKYHQhV"
      },
      "outputs": [],
      "source": [
        "newMasterOrder.orderFilled()"
      ]
    }
  ],
  "metadata": {
    "colab": {
      "provenance": [],
      "toc_visible": true
    },
    "kernelspec": {
      "display_name": "Python 3",
      "language": "python",
      "name": "python3"
    },
    "language_info": {
      "codemirror_mode": {
        "name": "ipython",
        "version": 3
      },
      "file_extension": ".py",
      "mimetype": "text/x-python",
      "name": "python",
      "nbconvert_exporter": "python",
      "pygments_lexer": "ipython3",
      "version": "3.10.8 | packaged by conda-forge | (main, Nov 22 2022, 08:25:29) [Clang 14.0.6 ]"
    },
    "vscode": {
      "interpreter": {
        "hash": "bf4014decd6db2e7270b0720910deef930124f2ac2cf190091d139b0105c57af"
      }
    }
  },
  "nbformat": 4,
  "nbformat_minor": 0
}

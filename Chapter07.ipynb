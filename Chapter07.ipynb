{
  "cells": [
    {
      "cell_type": "markdown",
      "metadata": {
        "id": "8gOHbgRVoLwx"
      },
      "source": [
        "# Chapter 7: Risk Profiling"
      ]
    },
    {
      "cell_type": "code",
      "execution_count": 1,
      "metadata": {
        "id": "BTGk_kQ9pryP"
      },
      "outputs": [],
      "source": [
        "#HEADING 2: Creating a Risk Questionnaire\n",
        "class RiskQuestion:\n",
        "  def __init__(self, questionText, weight=1):\n",
        "    self.questionText = questionText\n",
        "    self.weight = weight\n",
        "    self.answers = []\n",
        "\n",
        "class RiskQuestionAnswer:\n",
        "  def __init__(self, answerText, score, selected=False):\n",
        "    self.answerText = answerText\n",
        "    self.score = score\n",
        "    self.selected = selected\n",
        "\n",
        "class RiskQuestionnaire:\n",
        "  def __init__(self):\n",
        "    self.questions = []"
      ]
    },
    {
      "cell_type": "code",
      "execution_count": 2,
      "metadata": {
        "id": "SBDhK8HCv_SG"
      },
      "outputs": [],
      "source": [
        "# Initialize a Risk Tolerance Questionnaire\n",
        "# Using https://pfp.missouri.edu/research/investment-risk-tolerance-assessment/\n",
        "# Risk Tolerance Quiz Source: Grable, J. E., & Lytton, R. H. (1999). Financial risk tolerance revisited: The development of a risk assessment instrument. Financial Services Review, 8, 163-181.\n",
        "toleranceQuestionnaire = RiskQuestionnaire()\n",
        "\n",
        "question1 = RiskQuestion(\"In general, how would your best friend describe you as a risk taker?\", 2)\n",
        "question1.answers.append(RiskQuestionAnswer(\"A real gambler\",4))\n",
        "question1.answers.append(RiskQuestionAnswer(\"Willing to take risks after completing adequate research\",3))\n",
        "question1.answers.append(RiskQuestionAnswer(\"Cautious\",2))\n",
        "question1.answers.append(RiskQuestionAnswer(\"A real risk avoider\",1))\n",
        "\n",
        "question2 = RiskQuestion(\"You are on a TV game show and can choose one of the following. Which would you take?\")\n",
        "question2.answers.append(RiskQuestionAnswer(\"$1,000 in cash\",1))\n",
        "question2.answers.append(RiskQuestionAnswer(\"A 50% chance at winning $5,000\",2))\n",
        "question2.answers.append(RiskQuestionAnswer(\"A 25% chance at winning $10,000\",3))\n",
        "question2.answers.append(RiskQuestionAnswer(\"A 5% chance at winning $100,000\",4))\n",
        "\n",
        "question3 = RiskQuestion(\"When you think of the word risk which of the following words comes to mind first?\")\n",
        "question3.answers.append(RiskQuestionAnswer(\"Loss\",1))\n",
        "question3.answers.append(RiskQuestionAnswer(\"Uncertainty\",2))\n",
        "question3.answers.append(RiskQuestionAnswer(\"Opportunity\",3))\n",
        "question3.answers.append(RiskQuestionAnswer(\"Thrill\",4))\n",
        "\n",
        "toleranceQuestionnaire.questions.append(question1)\n",
        "toleranceQuestionnaire.questions.append(question2)\n",
        "toleranceQuestionnaire.questions.append(question3)"
      ]
    },
    {
      "cell_type": "code",
      "execution_count": 3,
      "metadata": {
        "id": "rg5HJmpD6B78"
      },
      "outputs": [],
      "source": [
        "\n",
        "# Initialize a Risk Capacity Questionnaire\n",
        "# https://www.rbcgam.com/en/ca/learn-plan/investment-basics/whats-your-risk-capacity/detail\n",
        "capacityQuestionnaire = RiskQuestionnaire()\n",
        "\n",
        "question4 = RiskQuestion(\"You are able to save money regularly.\")\n",
        "question4.answers.append(RiskQuestionAnswer(\"Completely false\",1))\n",
        "question4.answers.append(RiskQuestionAnswer(\"Somewhat true\",2))\n",
        "question4.answers.append(RiskQuestionAnswer(\"Completely true\",3))\n",
        "\n",
        "question5 = RiskQuestion(\"You can pay all your monthly bills on time -- including any credit card or other debt.\")\n",
        "question5.answers.append(RiskQuestionAnswer(\"Completely false\",1))\n",
        "question5.answers.append(RiskQuestionAnswer(\"Somewhat true\",2))\n",
        "question5.answers.append(RiskQuestionAnswer(\"Completely true\",3))\n",
        "\n",
        "question6 = RiskQuestion(\"If you lose money investing today, your current lifestyle would not be impacted.\")\n",
        "question6.answers.append(RiskQuestionAnswer(\"Completely false\",1))\n",
        "question6.answers.append(RiskQuestionAnswer(\"Somewhat true\",2))\n",
        "question6.answers.append(RiskQuestionAnswer(\"Completely true\",3))\n",
        "\n",
        "question7 = RiskQuestion(\"You do not need to draw down more than 5% of your investment portfolio for any major financial goal in the next five years.\")\n",
        "question7.answers.append(RiskQuestionAnswer(\"Completely false\",1))\n",
        "question7.answers.append(RiskQuestionAnswer(\"Somewhat true\",2))\n",
        "question7.answers.append(RiskQuestionAnswer(\"Completely true\",3))\n",
        "\n",
        "capacityQuestionnaire.questions.append(question4)\n",
        "capacityQuestionnaire.questions.append(question5)\n",
        "capacityQuestionnaire.questions.append(question6)\n",
        "capacityQuestionnaire.questions.append(question7)"
      ]
    },
    {
      "cell_type": "code",
      "execution_count": 4,
      "metadata": {
        "colab": {
          "base_uri": "https://localhost:8080/"
        },
        "id": "R9C33x2Ay84Z",
        "outputId": "65e72d86-9e30-4e34-ad1e-34962dfc5585"
      },
      "outputs": [
        {
          "name": "stdout",
          "output_type": "stream",
          "text": [
            "Risk Tolerance: \n",
            "\n",
            "In general, how would your best friend describe you as a risk taker?\n",
            " -A real gambler\n",
            " -Willing to take risks after completing adequate research\n",
            " -Cautious\n",
            " -A real risk avoider\n",
            "\n",
            "\n",
            "You are on a TV game show and can choose one of the following. Which would you take?\n",
            " -$1,000 in cash\n",
            " -A 50% chance at winning $5,000\n",
            " -A 25% chance at winning $10,000\n",
            " -A 5% chance at winning $100,000\n",
            "\n",
            "\n",
            "When you think of the word risk which of the following words comes to mind first?\n",
            " -Loss\n",
            " -Uncertainty\n",
            " -Opportunity\n",
            " -Thrill\n",
            "\n",
            "\n",
            "Risk Capacity: \n",
            "\n",
            "You are able to save money regularly.\n",
            " -Completely false\n",
            " -Somewhat true\n",
            " -Completely true\n",
            "\n",
            "\n",
            "You can pay all your monthly bills on time -- including any credit card or other debt.\n",
            " -Completely false\n",
            " -Somewhat true\n",
            " -Completely true\n",
            "\n",
            "\n",
            "If you lose money investing today, your current lifestyle would not be impacted.\n",
            " -Completely false\n",
            " -Somewhat true\n",
            " -Completely true\n",
            "\n",
            "\n",
            "You do not need to draw down more than 5% of your investment portfolio for any major financial goal in the next five years.\n",
            " -Completely false\n",
            " -Somewhat true\n",
            " -Completely true\n",
            "\n",
            "\n"
          ]
        }
      ],
      "source": [
        "# Answer Risk Questionnaires\n",
        "print(\"Risk Tolerance: \\n\")\n",
        "for question in toleranceQuestionnaire.questions:\n",
        "  print(question.questionText)\n",
        "  for answer in question.answers:\n",
        "    print(\" -\" + answer.answerText)\n",
        "  print(\"\\n\")\n",
        "\n",
        "print(\"Risk Capacity: \\n\")\n",
        "for question in capacityQuestionnaire.questions:\n",
        "  print(question.questionText)\n",
        "  for answer in question.answers:\n",
        "    print(\" -\" + answer.answerText)\n",
        "  print(\"\\n\")"
      ]
    },
    {
      "cell_type": "code",
      "execution_count": 5,
      "metadata": {
        "id": "6ofQeYWFD7U5"
      },
      "outputs": [],
      "source": [
        "class RiskQuestionnaire:\n",
        "  def __init__(self):\n",
        "    self.questions = []\n",
        "\n",
        "  def loadQuestionnaire(self, riskQuestionsFileName, riskAnswersFileName, type):\n",
        "\n",
        "    if not (type in [\"Tolerance\", \"Capacity\"]):\n",
        "            raise ValueError('Type must be Tolerance or Capacity.')\n",
        "\n",
        "    import pandas as pd\n",
        "    riskQuestions = pd.read_csv(riskQuestionsFileName).reset_index()\n",
        "    riskAnswers = pd.read_csv(riskAnswersFileName).reset_index()\n",
        "\n",
        "    if (type == \"Tolerance\"):\n",
        "      toleranceQuestions = riskQuestions[(riskQuestions['QuestionType'] == 'Tolerance')].reset_index()\n",
        "      for index, row in toleranceQuestions.iterrows():\n",
        "          self.questions.append(RiskQuestion(row['QuestionText'], row['QuestionWeight']))\n",
        "          answers = riskAnswers[(riskAnswers['QuestionID'] == row['QuestionID'])]\n",
        "          for indexA, rowA in answers.iterrows():\n",
        "                self.questions[index].answers.append(RiskQuestionAnswer(rowA['AnswerText'],rowA['AnswerValue']))\n",
        "    else:\n",
        "      capacityQuestions = riskQuestions[(riskQuestions['QuestionType'] == 'Capacity')].reset_index()\n",
        "      for index, row in capacityQuestions.iterrows():\n",
        "          self.questions.append(RiskQuestion(row['QuestionText'], row['QuestionWeight']))\n",
        "          answers = riskAnswers[(riskAnswers['QuestionID'] == row['QuestionID'])]\n",
        "          for indexA, rowA in answers.iterrows():\n",
        "                self.questions[index].answers.append(RiskQuestionAnswer(rowA['AnswerText'],rowA['AnswerValue']))\n",
        "    "
      ]
    },
    {
      "cell_type": "code",
      "execution_count": 6,
      "metadata": {
        "id": "NYO-g9M2Q1tF"
      },
      "outputs": [],
      "source": [
        "questionsFileName = './Data/Risk Questions.csv'\n",
        "answersFileName = './Data/Risk Answers.csv'\n",
        "\n",
        "toleranceQuestionnaire = RiskQuestionnaire()\n",
        "toleranceQuestionnaire.loadQuestionnaire(questionsFileName, answersFileName, \"Tolerance\")\n",
        "\n",
        "capacityQuestionnaire = RiskQuestionnaire()\n",
        "capacityQuestionnaire.loadQuestionnaire(questionsFileName, answersFileName, \"Capacity\")"
      ]
    },
    {
      "cell_type": "code",
      "execution_count": 7,
      "metadata": {
        "colab": {
          "base_uri": "https://localhost:8080/"
        },
        "id": "BqpgbuEXIdcU",
        "outputId": "c93b0056-c996-4b64-e160-dc23b1d719b7"
      },
      "outputs": [
        {
          "name": "stdout",
          "output_type": "stream",
          "text": [
            "Risk Tolerance: \n",
            "\n",
            "In general, how would your best friend describe you as a risk taker?\n",
            " -A real gambler\n",
            " -Willing to take risks after completing adequate research\n",
            " -Cautious\n",
            " -A real risk avoider\n",
            "\n",
            "\n",
            "You are on a TV game show and can choose one of the following. Which would you take?\n",
            " -$1,000 in cash\n",
            " -A 50% chance at winning $5,000\n",
            " -A 25% chance at winning $10,000\n",
            " -A 5% chance at winning $100,000\n",
            "\n",
            "\n",
            "When you think of the word risk which of the following words comes to mind first?\n",
            " -Loss\n",
            " -Uncertainty\n",
            " -Opportunity\n",
            " -Thrill\n",
            "\n",
            "\n",
            "Risk Capacity: \n",
            "\n",
            "You are able to save money regularly.\n",
            " -Completely false\n",
            " -Somewhat true\n",
            " -Completely true\n",
            "\n",
            "\n",
            "You can pay all your monthly bills on time -- including any credit card or other debt.\n",
            " -Completely false\n",
            " -Somewhat true\n",
            " -Completely true\n",
            "\n",
            "\n",
            "If you lose money investing today, your current lifestyle would not be impacted.\n",
            " -Completely false\n",
            " -Somewhat true\n",
            " -Completely true\n",
            "\n",
            "\n",
            "You do not need to draw down more than 5% of your investment portfolio for any major financial goal in the next five years.\n",
            " -Completely false\n",
            " -Somewhat true\n",
            " -Completely true\n",
            "\n",
            "\n"
          ]
        }
      ],
      "source": [
        "# Print again to confirm\n",
        "print(\"Risk Tolerance: \\n\")\n",
        "for question in toleranceQuestionnaire.questions:\n",
        "  print(question.questionText)\n",
        "  for answer in question.answers:\n",
        "    print(\" -\" + answer.answerText)\n",
        "  print(\"\\n\")\n",
        "\n",
        "print(\"Risk Capacity: \\n\")\n",
        "for question in capacityQuestionnaire.questions:\n",
        "  print(question.questionText)\n",
        "  for answer in question.answers:\n",
        "    print(\" -\" + answer.answerText)\n",
        "  print(\"\\n\")"
      ]
    },
    {
      "cell_type": "code",
      "execution_count": 8,
      "metadata": {
        "id": "pC6Lmlzd1SEI"
      },
      "outputs": [],
      "source": [
        "# Set selected for each question\n",
        "toleranceQuestionnaire.questions[0].answers[1].selected = True\n",
        "toleranceQuestionnaire.questions[1].answers[0].selected = True\n",
        "toleranceQuestionnaire.questions[2].answers[2].selected = True\n",
        "\n",
        "capacityQuestionnaire.questions[0].answers[1].selected = True\n",
        "capacityQuestionnaire.questions[1].answers[1].selected = True\n",
        "capacityQuestionnaire.questions[2].answers[2].selected = True\n",
        "capacityQuestionnaire.questions[3].answers[1].selected = True"
      ]
    },
    {
      "cell_type": "code",
      "execution_count": 9,
      "metadata": {
        "id": "0JoR-SiW9SMI"
      },
      "outputs": [],
      "source": [
        "# Interactive questionnaire\n",
        "\n",
        "class RiskQuestionnaire:\n",
        "  def __init__(self):\n",
        "    self.questions = []\n",
        "\n",
        "  def loadQuestionnaire(self, riskQuestionsFileName, riskAnswersFileName, type):\n",
        "\n",
        "    if not (type in [\"Tolerance\", \"Capacity\"]):\n",
        "            raise ValueError('Type must be Tolerance or Capacity.')\n",
        "\n",
        "    import pandas as pd\n",
        "    riskQuestions = pd.read_csv(riskQuestionsFileName).reset_index()\n",
        "    riskAnswers = pd.read_csv(riskAnswersFileName).reset_index()\n",
        "\n",
        "    if (type == \"Tolerance\"):\n",
        "      toleranceQuestions = riskQuestions[(riskQuestions['QuestionType'] == 'Tolerance')].reset_index()\n",
        "      for index, row in toleranceQuestions.iterrows():\n",
        "          self.questions.append(RiskQuestion(row['QuestionText'], row['QuestionWeight']))\n",
        "          answers = riskAnswers[(riskAnswers['QuestionID'] == row['QuestionID'])]\n",
        "          for indexA, rowA in answers.iterrows():\n",
        "                self.questions[index].answers.append(RiskQuestionAnswer(rowA['AnswerText'],rowA['AnswerValue']))\n",
        "    else:\n",
        "      capacityQuestions = riskQuestions[(riskQuestions['QuestionType'] == 'Capacity')].reset_index()\n",
        "      for index, row in capacityQuestions.iterrows():\n",
        "          self.questions.append(RiskQuestion(row['QuestionText'], row['QuestionWeight']))\n",
        "          answers = riskAnswers[(riskAnswers['QuestionID'] == row['QuestionID'])]\n",
        "          for indexA, rowA in answers.iterrows():\n",
        "                self.questions[index].answers.append(RiskQuestionAnswer(rowA['AnswerText'],rowA['AnswerValue']))\n",
        "    \n",
        "\n",
        "  def answerQuestionnaire(self):\n",
        "    for i in range(len(self.questions)):\n",
        "      question = self.questions[i]\n",
        "      print(question.questionText)\n",
        "      for n in range(len(question.answers)):\n",
        "        answer = question.answers[n]\n",
        "        print(str(n) + \": \" + answer.answerText)\n",
        "      nChosen = int(input(\"Choose your answer between 0 and \" + str(len(question.answers)-1) + \": \"))\n",
        "      self.questions[i].answers[nChosen].selected = True\n",
        "      print(\"\\n\")"
      ]
    },
    {
      "cell_type": "code",
      "execution_count": 10,
      "metadata": {
        "colab": {
          "base_uri": "https://localhost:8080/"
        },
        "id": "zzqT54s0V0w3",
        "outputId": "fa7e50f9-c66d-4517-9c92-bc52ba117092"
      },
      "outputs": [
        {
          "name": "stdout",
          "output_type": "stream",
          "text": [
            "In general, how would your best friend describe you as a risk taker?\n",
            "0: A real gambler\n",
            "1: Willing to take risks after completing adequate research\n",
            "2: Cautious\n",
            "3: A real risk avoider\n",
            "\n",
            "\n",
            "You are on a TV game show and can choose one of the following. Which would you take?\n",
            "0: $1,000 in cash\n",
            "1: A 50% chance at winning $5,000\n",
            "2: A 25% chance at winning $10,000\n",
            "3: A 5% chance at winning $100,000\n",
            "\n",
            "\n",
            "When you think of the word risk which of the following words comes to mind first?\n",
            "0: Loss\n",
            "1: Uncertainty\n",
            "2: Opportunity\n",
            "3: Thrill\n",
            "\n",
            "\n",
            "You are able to save money regularly.\n",
            "0: Completely false\n",
            "1: Somewhat true\n",
            "2: Completely true\n",
            "\n",
            "\n",
            "You can pay all your monthly bills on time -- including any credit card or other debt.\n",
            "0: Completely false\n",
            "1: Somewhat true\n",
            "2: Completely true\n",
            "\n",
            "\n",
            "If you lose money investing today, your current lifestyle would not be impacted.\n",
            "0: Completely false\n",
            "1: Somewhat true\n",
            "2: Completely true\n",
            "\n",
            "\n",
            "You do not need to draw down more than 5% of your investment portfolio for any major financial goal in the next five years.\n",
            "0: Completely false\n",
            "1: Somewhat true\n",
            "2: Completely true\n",
            "\n",
            "\n"
          ]
        }
      ],
      "source": [
        "questionsFileName = './Data/Risk Questions.csv'\n",
        "answersFileName = './Data/Risk Answers.csv'\n",
        "\n",
        "toleranceQuestionnaire = RiskQuestionnaire()\n",
        "toleranceQuestionnaire.loadQuestionnaire(questionsFileName, answersFileName, \"Tolerance\")\n",
        "\n",
        "capacityQuestionnaire = RiskQuestionnaire()\n",
        "capacityQuestionnaire.loadQuestionnaire(questionsFileName, answersFileName, \"Capacity\")\n",
        "\n",
        "toleranceQuestionnaire.answerQuestionnaire()\n",
        "capacityQuestionnaire.answerQuestionnaire()"
      ]
    },
    {
      "cell_type": "code",
      "execution_count": 11,
      "metadata": {
        "colab": {
          "base_uri": "https://localhost:8080/"
        },
        "id": "VEb5eotjDp1j",
        "outputId": "15fb38e8-56ea-4fbf-f8a2-aa7a86a57ca6"
      },
      "outputs": [
        {
          "name": "stdout",
          "output_type": "stream",
          "text": [
            "False\n",
            "False\n"
          ]
        }
      ],
      "source": [
        "print(toleranceQuestionnaire.questions[0].answers[1].selected)\n",
        "print(capacityQuestionnaire.questions[2].answers[2].selected)"
      ]
    },
    {
      "cell_type": "code",
      "execution_count": 12,
      "metadata": {
        "id": "46Ka-bxNrQga"
      },
      "outputs": [],
      "source": [
        "# Add goal-based risk tolerance: can you afford a delay or change in amount? Goal priority: essential/important/aspirational?\n",
        "tolerranceQuestionnaireGoals = RiskQuestionnaire()\n",
        "\n",
        "question1 = RiskQuestion(\"How flexible are you in the target amount and timeline for your Goal?\", 2)\n",
        "question1.answers.append(RiskQuestionAnswer(\"Above 10% flexible on amount and time\",4))\n",
        "question1.answers.append(RiskQuestionAnswer(\"Above 10% flexible on one dimension\",3))\n",
        "question1.answers.append(RiskQuestionAnswer(\"Below 10% flexible on one dimension\",2))\n",
        "question1.answers.append(RiskQuestionAnswer(\"Below 10% flexible on amount and time\",1))\n",
        "\n",
        "question2 = RiskQuestion(\"What negative emotions will achieving this Goal help you avoid?\")\n",
        "question2.answers.append(RiskQuestionAnswer(\"Nightmares\",1))\n",
        "question2.answers.append(RiskQuestionAnswer(\"Fears\",2))\n",
        "question2.answers.append(RiskQuestionAnswer(\"Worries\",3))\n",
        "question2.answers.append(RiskQuestionAnswer(\"Concerns\",4))\n",
        "\n",
        "question3 = RiskQuestion(\"What are you hoping to realize through this Goal?\")\n",
        "question3.answers.append(RiskQuestionAnswer(\"Needs\",1))\n",
        "question3.answers.append(RiskQuestionAnswer(\"Wants\",2))\n",
        "question3.answers.append(RiskQuestionAnswer(\"Wishes\",3))\n",
        "question3.answers.append(RiskQuestionAnswer(\"Dreams\",4))\n",
        "\n",
        "tolerranceQuestionnaireGoals.questions.append(question1)\n",
        "tolerranceQuestionnaireGoals.questions.append(question2)\n",
        "tolerranceQuestionnaireGoals.questions.append(question3)\n"
      ]
    },
    {
      "cell_type": "code",
      "execution_count": 13,
      "metadata": {
        "id": "MsbeWo3fpr39"
      },
      "outputs": [],
      "source": [
        "#HEADING 3: Calculating a Risk Score\n",
        "\n",
        "# Interactive questionnaire\n",
        "\n",
        "class RiskQuestionnaire:\n",
        "  def __init__(self):\n",
        "    self.questions = []\n",
        "    self.score = 0\n",
        "\n",
        "  def loadQuestionnaire(self, riskQuestionsFileName, riskAnswersFileName, type):\n",
        "\n",
        "    if not (type in [\"Tolerance\", \"Capacity\"]):\n",
        "            raise ValueError('Type must be Tolerance or Capacity.')\n",
        "\n",
        "    import pandas as pd\n",
        "    riskQuestions = pd.read_csv(riskQuestionsFileName).reset_index()\n",
        "    riskAnswers = pd.read_csv(riskAnswersFileName).reset_index()\n",
        "\n",
        "    if (type == \"Tolerance\"):\n",
        "      toleranceQuestions = riskQuestions[(riskQuestions['QuestionType'] == 'Tolerance')].reset_index()\n",
        "      for index, row in toleranceQuestions.iterrows():\n",
        "          self.questions.append(RiskQuestion(row['QuestionText'], row['QuestionWeight']))\n",
        "          answers = riskAnswers[(riskAnswers['QuestionID'] == row['QuestionID'])]\n",
        "          for indexA, rowA in answers.iterrows():\n",
        "                self.questions[index].answers.append(RiskQuestionAnswer(rowA['AnswerText'],rowA['AnswerValue']))\n",
        "    else:\n",
        "      capacityQuestions = riskQuestions[(riskQuestions['QuestionType'] == 'Capacity')].reset_index()\n",
        "      for index, row in capacityQuestions.iterrows():\n",
        "          self.questions.append(RiskQuestion(row['QuestionText'], row['QuestionWeight']))\n",
        "          answers = riskAnswers[(riskAnswers['QuestionID'] == row['QuestionID'])]\n",
        "          for indexA, rowA in answers.iterrows():\n",
        "                self.questions[index].answers.append(RiskQuestionAnswer(rowA['AnswerText'],rowA['AnswerValue']))\n",
        "    \n",
        "\n",
        "  def answerQuestionnaire(self):\n",
        "    for i in range(len(self.questions)):\n",
        "      question = self.questions[i]\n",
        "      print(question.questionText)\n",
        "      for n in range(len(question.answers)):\n",
        "        answer = question.answers[n]\n",
        "        print(str(n) + \": \" + answer.answerText)\n",
        "      nChosen = int(input(\"Choose your answer between 0 and \" + str(len(question.answers)-1) + \": \"))\n",
        "      self.questions[i].answers[nChosen].selected = True\n",
        "      print(\"\\n\")\n",
        "\n",
        "  def calculateScore(self):\n",
        "    print(\"Risk Score:\")\n",
        "    myTotalScore = 0\n",
        "    for question in self.questions:\n",
        "      for answer in question.answers:\n",
        "        if (answer.selected == True):\n",
        "          myTotalScore = myTotalScore + (answer.score * question.weight)\n",
        "          print(answer.answerText + \": \" + str(answer.score * question.weight))\n",
        "    print(\"Total Risk Score: \" + str(myTotalScore) + \"\\n\")\n",
        "    self.score = myTotalScore"
      ]
    },
    {
      "cell_type": "code",
      "execution_count": 14,
      "metadata": {
        "colab": {
          "base_uri": "https://localhost:8080/"
        },
        "id": "4HCErUXmiiiS",
        "outputId": "b910e3a7-f4b3-449e-eaeb-a1b586dfcf92"
      },
      "outputs": [
        {
          "name": "stdout",
          "output_type": "stream",
          "text": [
            "In general, how would your best friend describe you as a risk taker?\n",
            "0: A real gambler\n",
            "1: Willing to take risks after completing adequate research\n",
            "2: Cautious\n",
            "3: A real risk avoider\n",
            "\n",
            "\n",
            "You are on a TV game show and can choose one of the following. Which would you take?\n",
            "0: $1,000 in cash\n",
            "1: A 50% chance at winning $5,000\n",
            "2: A 25% chance at winning $10,000\n",
            "3: A 5% chance at winning $100,000\n",
            "\n",
            "\n",
            "When you think of the word risk which of the following words comes to mind first?\n",
            "0: Loss\n",
            "1: Uncertainty\n",
            "2: Opportunity\n",
            "3: Thrill\n",
            "\n",
            "\n",
            "You are able to save money regularly.\n",
            "0: Completely false\n",
            "1: Somewhat true\n",
            "2: Completely true\n",
            "\n",
            "\n",
            "You can pay all your monthly bills on time -- including any credit card or other debt.\n",
            "0: Completely false\n",
            "1: Somewhat true\n",
            "2: Completely true\n",
            "\n",
            "\n",
            "If you lose money investing today, your current lifestyle would not be impacted.\n",
            "0: Completely false\n",
            "1: Somewhat true\n",
            "2: Completely true\n",
            "\n",
            "\n",
            "You do not need to draw down more than 5% of your investment portfolio for any major financial goal in the next five years.\n",
            "0: Completely false\n",
            "1: Somewhat true\n",
            "2: Completely true\n",
            "\n",
            "\n"
          ]
        }
      ],
      "source": [
        "questionsFileName = './Data/Risk Questions.csv'\n",
        "answersFileName = './Data/Risk Answers.csv'\n",
        "\n",
        "toleranceQuestionnaire = RiskQuestionnaire()\n",
        "toleranceQuestionnaire.loadQuestionnaire(questionsFileName, answersFileName, \"Tolerance\")\n",
        "\n",
        "capacityQuestionnaire = RiskQuestionnaire()\n",
        "capacityQuestionnaire.loadQuestionnaire(questionsFileName, answersFileName, \"Capacity\")\n",
        "\n",
        "toleranceQuestionnaire.answerQuestionnaire()\n",
        "capacityQuestionnaire.answerQuestionnaire()"
      ]
    },
    {
      "cell_type": "code",
      "execution_count": 15,
      "metadata": {
        "colab": {
          "base_uri": "https://localhost:8080/"
        },
        "id": "KDyP_vE6ipTV",
        "outputId": "22bf1eec-002b-40a2-d69b-673cbb552711"
      },
      "outputs": [
        {
          "name": "stdout",
          "output_type": "stream",
          "text": [
            "Risk Score:\n",
            "A real gambler: 8\n",
            "$1,000 in cash: 1\n",
            "Loss: 1\n",
            "Total Risk Score: 10\n",
            "\n",
            "Risk Score:\n",
            "Completely false: 1\n",
            "Completely false: 1\n",
            "Completely false: 1\n",
            "Completely false: 1\n",
            "Total Risk Score: 4\n",
            "\n"
          ]
        }
      ],
      "source": [
        "toleranceQuestionnaire.calculateScore()\n",
        "capacityQuestionnaire.calculateScore()"
      ]
    }
  ],
  "metadata": {
    "colab": {
      "provenance": [],
      "toc_visible": true
    },
    "kernelspec": {
      "display_name": "Python 3",
      "language": "python",
      "name": "python3"
    },
    "language_info": {
      "codemirror_mode": {
        "name": "ipython",
        "version": 3
      },
      "file_extension": ".py",
      "mimetype": "text/x-python",
      "name": "python",
      "nbconvert_exporter": "python",
      "pygments_lexer": "ipython3",
      "version": "3.10.8 | packaged by conda-forge | (main, Nov 22 2022, 08:25:29) [Clang 14.0.6 ]"
    },
    "vscode": {
      "interpreter": {
        "hash": "bf4014decd6db2e7270b0720910deef930124f2ac2cf190091d139b0105c57af"
      }
    }
  },
  "nbformat": 4,
  "nbformat_minor": 0
}

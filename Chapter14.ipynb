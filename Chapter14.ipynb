{
  "cells": [
    {
      "attachments": {},
      "cell_type": "markdown",
      "metadata": {
        "id": "DNdSh44KF-UH"
      },
      "source": [
        "# Chapter 14: Rebalancing and Tax Loss Harvesting"
      ]
    },
    {
      "cell_type": "code",
      "execution_count": 5,
      "metadata": {
        "id": "QTkVOzVRGExY"
      },
      "outputs": [],
      "source": [
        "# Learn how to calculate Portfolio Drift "
      ]
    },
    {
      "cell_type": "code",
      "execution_count": 6,
      "metadata": {},
      "outputs": [],
      "source": [
        "import yfinance as yf\n",
        "import pandas as pd"
      ]
    },
    {
      "cell_type": "code",
      "execution_count": 7,
      "metadata": {},
      "outputs": [],
      "source": [
        "class Allocation:\n",
        "  def __init__(self, ticker, percentage):\n",
        "    self.ticker = ticker\n",
        "    self.percentage = percentage\n",
        "    self.units = 0.0\n",
        "\n",
        "class Portfolio:\n",
        "\n",
        "  def __init__(self, tickerString: str, expectedReturn: float, portfolioName: str, riskBucket: int):\n",
        "\n",
        "    self.name = portfolioName\n",
        "    self.riskBucket = riskBucket\n",
        "    self.expectedReturn = expectedReturn\n",
        "    self.allocations = []\n",
        "\n",
        "    from pypfopt.efficient_frontier import EfficientFrontier\n",
        "    from pypfopt import risk_models\n",
        "    from pypfopt import expected_returns\n",
        "\n",
        "    df = self.__getDailyPrices(tickerString, \"20y\")\n",
        "\n",
        "    mu = expected_returns.mean_historical_return(df)\n",
        "    S = risk_models.sample_cov(df)\n",
        "\n",
        "    ef = EfficientFrontier(mu, S)\n",
        "\n",
        "    ef.efficient_return(expectedReturn)\n",
        "    self.expectedRisk = ef.portfolio_performance()[1]\n",
        "    portfolioWeights = ef.clean_weights()\n",
        "\n",
        "    for key, value in portfolioWeights.items():\n",
        "      newAllocation = Allocation(key, value)\n",
        "      self.allocations.append(newAllocation)\n",
        "\n",
        "  def __getDailyPrices(self, tickerStringList, period):\n",
        "    data = yf.download(tickerStringList, group_by=\"Ticker\", period=period)\n",
        "    data = data.iloc[:, data.columns.get_level_values(1)==\"Close\"]\n",
        "    data = data.dropna()\n",
        "    data.columns = data.columns.droplevel(1)\n",
        "    return data\n",
        "\n",
        "  def printPortfolio(self):\n",
        "    print(\"Portfolio Name: \" + self.name)\n",
        "    print(\"Risk Bucket: \" + str(self.riskBucket))\n",
        "    print(\"Expected Return: \" + str(self.expectedReturn))\n",
        "    print(\"Expected Risk: \" + str(self.expectedRisk))\n",
        "    print(\"Allocations: \")\n",
        "    for allocation in self.allocations:\n",
        "      print(\"Ticker: \" + allocation.ticker + \", Percentage: \" + str(allocation.percentage))\n",
        "\n",
        "  @staticmethod\n",
        "  def getPortfolioMapping(riskToleranceScore, riskCapacityScore):\n",
        "    allocationLookupTable=pd.read_csv('./Data/Risk Mapping Lookup.csv')\n",
        "    matchTol = (allocationLookupTable['Tolerance_min'] <= riskToleranceScore) & (allocationLookupTable['Tolerance_max'] >= riskToleranceScore)\n",
        "    matchCap = (allocationLookupTable['Capacity_min'] <= riskCapacityScore) & (allocationLookupTable['Capacity_max'] >= riskCapacityScore)\n",
        "    portfolioID = allocationLookupTable['Portfolio'][(matchTol & matchCap)]\n",
        "    return portfolioID.values[0]\n",
        "\n",
        "class Goal:\n",
        "  def __init__(self, name: str, targetYear: int, targetValue: float, portfolio: Portfolio=None, initialContribution: float=0, monthlyContribution: float=0, priority: str=\"\"):\n",
        "    self.name = name\n",
        "    self.targetYear = targetYear\n",
        "    self.targetValue = targetValue\n",
        "    self.initialContribution = initialContribution\n",
        "    self.monthlyContribution = monthlyContribution\n",
        "    if not (priority == \"\") and not (priority in [\"Dreams\", \"Wishes\", \"Wants\", \"Needs\"]):\n",
        "            raise ValueError(\"Wrong value set for Priority.\")\n",
        "    self.priority = priority\n",
        "    self.portfolio = portfolio\n",
        "\n",
        "  def getGoalProbabilities(self):\n",
        "    if (self.priority == \"\"):\n",
        "            raise ValueError(\"No value set for Priority.\")\n",
        "    lookupTable=pd.read_csv(\"./Data/Goal Probability Table.csv\")\n",
        "    match = (lookupTable[\"Realize\"] == self.priority)\n",
        "    minProb = lookupTable[\"MinP\"][(match)]\n",
        "    maxProb = lookupTable[\"MaxP\"][(match)]\n",
        "    return minProb.values[0], maxProb.values[0]\n",
        "\n",
        "class AccountType():\n",
        "  def __init__(self, value: str):\n",
        "    if not value in(\"Taxable\", \"Roth IRA\", \"Traditional IRA\"):\n",
        "      raise ValueError(\"Allowed types: Taxable, Roth IRA, Traditional IRA\")\n",
        "    self.value = value\n",
        "  def __eq__(self, other):\n",
        "      return self.value == other.value\n",
        "\n",
        "class AccountStatus():\n",
        "  def __init__(self, value: str):\n",
        "    if not value in(\"PENDING\", \"IN_REVIEW\", \"APPROVED\", \"REJECTED\", \"SUSPENDED\"):\n",
        "      raise ValueError(\"Allowed statuses: PENDING, IN_REVIEW, APPROVED, REJECTED, SUSPENDED\")\n",
        "    self.value = value\n",
        "  def __eq__(self, other):\n",
        "      return self.value == other.value\n",
        "\n",
        "class Account():\n",
        "  def __init__(self, number: str, accountType: AccountType, accountStatus: AccountStatus, cashBalance: float=0.0):\n",
        "    self.goals = []\n",
        "    self.number = number\n",
        "    self.cashBalance = cashBalance\n",
        "    self.accountType = accountType\n",
        "    self.accountStatus = accountStatus\n",
        "\n",
        "class TransactionType():\n",
        "  def __init__(self, value: str):\n",
        "    if not value in(\"BUY\", \"SELL\"):\n",
        "      raise ValueError(\"Allowed types: BUY, SELL.\")\n",
        "    self.value = value\n",
        "  def __eq__(self, other):\n",
        "      return self.value == other.value\n",
        "\n",
        "class OrderStatus():\n",
        "  def __init__(self, value: str):\n",
        "    if not value in(\"NEW\", \"PENDING\", \"FILLED\", \"REJECTED\"):\n",
        "      raise ValueError(\"Allowed statuses: NEW, PENDING, FILLED, REJECTED.\")\n",
        "    self.value = value\n",
        "  def __eq__(self, other):\n",
        "      return self.value == other.value\n",
        "\n",
        "class Order:\n",
        "  def __init__(self, account: Account, goal: Goal, transactionType: TransactionType, status: OrderStatus=OrderStatus(\"NEW\"), dollarAmount: float=0.0):\n",
        "    \n",
        "    self.account = account\n",
        "    self.transactionType = transactionType\n",
        "    self.dollarAmount = dollarAmount\n",
        "    self.goal = goal\n",
        "    self.status = status\n",
        "\n",
        "  def checkAccountStatus(self) -> bool:\n",
        "    if self.account.accountStatus == AccountStatus(\"APPROVED\"):\n",
        "      return True\n",
        "    else:\n",
        "      return False\n",
        "\n",
        "  def checkOrderSize(self) -> bool:\n",
        "    if self.dollarAmount > 1.00:\n",
        "      return True\n",
        "    else:\n",
        "      return False\n",
        "\n",
        "  def checkBalances(self) -> bool:\n",
        "    if self.transactionType == TransactionType(\"BUY\") and self.account.cashBalance >= self.dollarAmount:\n",
        "      return True\n",
        "    elif self.transactionType == TransactionType(\"SELL\"):\n",
        "      goalValue = 0.0\n",
        "      for allocation in goal.portfolio.allocations:\n",
        "        price = float(yf.Ticker(allocation.ticker).info[\"previousClose\"])\n",
        "        goalValue += allocation.units * price\n",
        "      if self.dollarAmount <= goalValue:\n",
        "        return True\n",
        "      else:\n",
        "        return False\n",
        "    else:\n",
        "      return False\n",
        "\n",
        "  def checkOrderViability(self) -> bool:\n",
        "    if self.checkAccountStatus() and self.checkOrderSize() and self.checkBalances() and isMarketOpen():\n",
        "      return True\n",
        "    else:\n",
        "      return False\n",
        "\n",
        "  def split(self) -> list:\n",
        "    splits = []\n",
        "    for allocation in self.goal.portfolio.allocations:\n",
        "      if (allocation.percentage > 0):\n",
        "        splits.append(SplitOrder(originalOrder=self, ticker=allocation.ticker, dollarAmount=allocation.percentage * self.dollarAmount))\n",
        "    return splits"
      ]
    },
    {
      "cell_type": "code",
      "execution_count": 8,
      "metadata": {},
      "outputs": [
        {
          "name": "stdout",
          "output_type": "stream",
          "text": [
            "[*********************100%***********************]  5 of 5 completed\n"
          ]
        }
      ],
      "source": [
        "myPortfolio = Portfolio(\"VTI TLT IEI GLD DBC\", expectedReturn = 0.05, portfolioName = \"Moderate\", riskBucket = 3)\n",
        "myGoal = Goal(name=\"Vacation\", targetYear=2027, targetValue=10000, priority=\"Dreams\", portfolio=myPortfolio)\n",
        "myAccount=Account(number=\"123456789\", accountType=\"Taxable\", accountStatus=AccountStatus(\"APPROVED\"), cashBalance=11.0)\n",
        "myAccount.goals.append(myGoal)\n",
        "\n",
        "# Manual update using Chapter 12 outputs:\n",
        "myPortfolio.allocations[0].units = 0.0\n",
        "myPortfolio.allocations[1].units = 0.02213974051911262\n",
        "myPortfolio.allocations[2].units = 0.02171626612838836\n",
        "myPortfolio.allocations[3].units = 0.0163863407640173\n",
        "myPortfolio.allocations[4].units = 0.009743440233"
      ]
    },
    {
      "cell_type": "code",
      "execution_count": 9,
      "metadata": {},
      "outputs": [
        {
          "name": "stdout",
          "output_type": "stream",
          "text": [
            "[*********************100%***********************]  5 of 5 completed\n"
          ]
        }
      ],
      "source": [
        "myPortfolio2 = Portfolio(\"VTI TLT IEI GLD DBC\", expectedReturn = 0.03, portfolioName = \"Conservative\", riskBucket = 2)\n",
        "myGoal2 = Goal(name=\"Car\", targetYear=2025, targetValue=5000, priority=\"Dreams\", portfolio=myPortfolio2)\n",
        "myAccount2=Account(number=\"987654321\", accountType=\"Taxable\", accountStatus=AccountStatus(\"APPROVED\"), cashBalance=21.0)\n",
        "myAccount2.goals.append(myGoal2)\n",
        "\n",
        "# Manual update using Chapter 12 outputs:\n",
        "myPortfolio2.allocations[0].units = 0.019070282760887385\n",
        "myPortfolio2.allocations[1].units = 0.0\n",
        "myPortfolio2.allocations[2].units = 0.10911027337161164\n",
        "myPortfolio2.allocations[3].units = 0.019273081685982695\n",
        "myPortfolio2.allocations[4].units = 0.0"
      ]
    },
    {
      "cell_type": "code",
      "execution_count": 10,
      "metadata": {
        "colab": {
          "base_uri": "https://localhost:8080/"
        },
        "id": "b1M77yHivqZc",
        "outputId": "9c820f88-27e1-4915-e94b-cef5631e2490"
      },
      "outputs": [
        {
          "data": {
            "text/plain": [
              "[0.0, 0.15874, 0.66319, 0.0, 0.17806]"
            ]
          },
          "execution_count": 10,
          "metadata": {},
          "output_type": "execute_result"
        }
      ],
      "source": [
        "allocations = [obj.percentage for obj in myPortfolio2.allocations]\n",
        "allocations"
      ]
    },
    {
      "cell_type": "code",
      "execution_count": 11,
      "metadata": {
        "colab": {
          "base_uri": "https://localhost:8080/"
        },
        "id": "NYAfItmwwxMj",
        "outputId": "ad8af41a-5779-4b4d-f58c-a3e2404a50a3"
      },
      "outputs": [
        {
          "data": {
            "text/plain": [
              "[0.019070282760887385, 0.0, 0.10911027337161164, 0.019273081685982695, 0.0]"
            ]
          },
          "execution_count": 11,
          "metadata": {},
          "output_type": "execute_result"
        }
      ],
      "source": [
        "holdings = [obj.units for obj in myPortfolio2.allocations]\n",
        "holdings"
      ]
    },
    {
      "cell_type": "code",
      "execution_count": 13,
      "metadata": {
        "colab": {
          "base_uri": "https://localhost:8080/"
        },
        "id": "3KlTViC6xHPI",
        "outputId": "c6560ff2-48d6-46d4-a47a-e25c46f50160"
      },
      "outputs": [
        {
          "data": {
            "text/plain": [
              "[180.27999877929688,\n",
              " 117.37000274658203,\n",
              " 200.9499969482422,\n",
              " 25.010000228881836,\n",
              " 107.22000122070312]"
            ]
          },
          "execution_count": 13,
          "metadata": {},
          "output_type": "execute_result"
        }
      ],
      "source": [
        "# Get Portfolio data\n",
        "market_values = []\n",
        "for allocation in myPortfolio.allocations:\n",
        "  price = float(yf.Ticker(allocation.ticker).basic_info[\"previous_close\"])\n",
        "  market_values.append(price)\n",
        "market_values"
      ]
    },
    {
      "cell_type": "code",
      "execution_count": 15,
      "metadata": {
        "id": "SLPq9fDM0Fit"
      },
      "outputs": [],
      "source": [
        "# Define the model portfolio allocations\n",
        "#allocations = [0.3, 0.2, 0.4, 0.1]\n",
        "allocations = [obj.percentage for obj in myPortfolio.allocations]\n",
        "\n",
        "# Define the current holdings and market values of the assets in the portfolio\n",
        "#holdings = [100, 200, 150, 50]\n",
        "holdings = [obj.units for obj in myPortfolio.allocations]\n",
        "\n",
        "#market_values = [10, 20, 30, 40]\n",
        "market_values = []\n",
        "for allocation in myPortfolio.allocations:\n",
        "  price = float(yf.Ticker(allocation.ticker).basic_info[\"previous_close\"])\n",
        "  market_values.append(price)"
      ]
    },
    {
      "cell_type": "code",
      "execution_count": 16,
      "metadata": {
        "colab": {
          "base_uri": "https://localhost:8080/"
        },
        "id": "Vqvy1O39GWdH",
        "outputId": "e9b6f68c-3f38-4171-ec27-164c6a05c0ea"
      },
      "outputs": [
        {
          "name": "stdout",
          "output_type": "stream",
          "text": [
            "[0.0, 0.3087276005622959, 0.5184644408071606, 0.048690192773816796, 0.12411776585672678]\n",
            "Portfolio Drift: 36.86%\n"
          ]
        }
      ],
      "source": [
        "# Calculate the current allocation of assets in the portfolio\n",
        "import numpy as np\n",
        "current_allocation = []\n",
        "for i in range(len(holdings)):\n",
        "    current_allocation.append(holdings[i] * market_values[i])\n",
        "current_allocation = [x / sum(current_allocation) for x in current_allocation]\n",
        "print(current_allocation)\n",
        "\n",
        "# Determine the difference between the model portfolio allocations and the current allocation of assets\n",
        "diff = [x1 - x2 for (x1, x2) in zip(allocations, current_allocation)]\n",
        "\n",
        "print(\"Portfolio Drift: \" + '{0:.2f}'.format((np.abs(diff).sum()/2)*100) + \"%\")"
      ]
    },
    {
      "cell_type": "code",
      "execution_count": 45,
      "metadata": {
        "id": "KFm7qJd68SnY"
      },
      "outputs": [],
      "source": [
        "class Portfolio:\n",
        "\n",
        "  def __init__(self, tickerString: str, expectedReturn: float, portfolioName: str, riskBucket: int):\n",
        "\n",
        "    self.name = portfolioName\n",
        "    self.riskBucket = riskBucket\n",
        "    self.expectedReturn = expectedReturn\n",
        "    self.allocations = []\n",
        "    self.needRebalancing = False\n",
        "\n",
        "    from pypfopt.efficient_frontier import EfficientFrontier\n",
        "    from pypfopt import risk_models\n",
        "    from pypfopt import expected_returns\n",
        "\n",
        "    df = self.__getDailyPrices(tickerString, \"20y\")\n",
        "\n",
        "    mu = expected_returns.mean_historical_return(df)\n",
        "    S = risk_models.sample_cov(df)\n",
        "\n",
        "    ef = EfficientFrontier(mu, S)\n",
        "\n",
        "    ef.efficient_return(expectedReturn)\n",
        "    self.expectedRisk = ef.portfolio_performance()[1]\n",
        "    portfolioWeights = ef.clean_weights()\n",
        "\n",
        "    for key, value in portfolioWeights.items():\n",
        "      newAllocation = Allocation(key, value)\n",
        "      self.allocations.append(newAllocation)\n",
        "\n",
        "  def __getDailyPrices(self, tickerStringList, period):\n",
        "    data = yf.download(tickerStringList, group_by=\"Ticker\", period=period)\n",
        "    data = data.iloc[:, data.columns.get_level_values(1)==\"Close\"]\n",
        "    data = data.dropna()\n",
        "    data.columns = data.columns.droplevel(1)\n",
        "    return data\n",
        "\n",
        "  def printPortfolio(self):\n",
        "    print(\"Portfolio Name: \" + self.name)\n",
        "    print(\"Risk Bucket: \" + str(self.riskBucket))\n",
        "    print(\"Expected Return: \" + str(self.expectedReturn))\n",
        "    print(\"Expected Risk: \" + str(self.expectedRisk))\n",
        "    print(\"Allocations: \")\n",
        "    for allocation in self.allocations:\n",
        "      print(\"Ticker: \" + allocation.ticker + \", Percentage: \" + str(allocation.percentage))\n",
        "\n",
        "  @staticmethod\n",
        "  def getPortfolioMapping(riskToleranceScore, riskCapacityScore):\n",
        "    allocationLookupTable=pd.read_csv('./Data/Risk Mapping Lookup.csv')\n",
        "    matchTol = (allocationLookupTable['Tolerance_min'] <= riskToleranceScore) & (allocationLookupTable['Tolerance_max'] >= riskToleranceScore)\n",
        "    matchCap = (allocationLookupTable['Capacity_min'] <= riskCapacityScore) & (allocationLookupTable['Capacity_max'] >= riskCapacityScore)\n",
        "    portfolioID = allocationLookupTable['Portfolio'][(matchTol & matchCap)]\n",
        "    return portfolioID.values[0]\n",
        "\n",
        "  def calculateDiffsToModel(self) -> list:\n",
        "    allocations = [obj.percentage for obj in self.allocations]\n",
        "    holdings = [obj.units for obj in self.allocations]\n",
        "    if sum(holdings) == 0.0:\n",
        "      return []\n",
        "    market_values = []\n",
        "    for allocation in self.allocations:\n",
        "      price = float(yf.Ticker(allocation.ticker).basic_info[\"previous_close\"])\n",
        "      market_values.append(price)\n",
        "    \n",
        "    current_allocation = []\n",
        "    for i in range(len(holdings)):\n",
        "        current_allocation.append(holdings[i] * market_values[i])\n",
        "    current_allocation = [x / sum(current_allocation) for x in current_allocation]\n",
        "    \n",
        "    diff = [x1 - x2 for (x1, x2) in zip(allocations, current_allocation)]\n",
        "    return diff\n",
        "\n",
        "  def checkNeedRebalancing(self, thres: float, diff: list=[]):\n",
        "    if diff == []:\n",
        "      diff = self.calculateDiffsToModel()\n",
        "    drift = self.calculateDrift(diff)\n",
        "    \n",
        "    if drift >= thres:\n",
        "      self.needRebalancing = True\n",
        "    else:\n",
        "      self.needRebalancing = False\n",
        "\n",
        "  def calculateDrift(self, diff: list=[]) -> float:\n",
        "    if diff == []:\n",
        "      diff = self.calculateDiffsToModel()\n",
        "    return(np.abs(diff).sum()/2)\n",
        "\n",
        "  def rebalance(self, diff: list=[]) -> list:\n",
        "    if diff == []:\n",
        "      diff = self.calculateDiffsToModel()\n",
        "\n",
        "    if not self.needRebalancing:\n",
        "      return []\n",
        "\n",
        "    splitOrders = []\n",
        "    for i in range(len(diff)):\n",
        "        if diff[i] > 0:\n",
        "            diffValue = diff[i] * holdings[i] * market_values[i]\n",
        "            newOrder = Order(account = myAccount, \n",
        "                                goal = myGoal, \n",
        "                                transactionType = TransactionType('BUY'), \n",
        "                                dollarAmount = diffValue)\n",
        "            splitOrders.append(SplitOrder(originalOrder = newOrder,\n",
        "                                          ticker = myPortfolio.allocations[i].ticker, \n",
        "                                          dollarAmount = diffValue))\n",
        "        elif diff[i] < 0:\n",
        "            diffValue = abs(diff[i]) * holdings[i] * market_values[i]\n",
        "            newOrder = Order(account = myAccount, \n",
        "                                goal = myGoal, \n",
        "                                transactionType = TransactionType('SELL'), \n",
        "                                dollarAmount = diffValue)\n",
        "            splitOrders.append(SplitOrder(originalOrder = newOrder,\n",
        "                                          ticker = myPortfolio.allocations[i].ticker, \n",
        "                                          dollarAmount = diffValue))\n",
        "    return splitOrders\n",
        "\n",
        "class SplitOrder:\n",
        "  def __init__(self, originalOrder: Order, ticker: str, dollarAmount: float):\n",
        "    \n",
        "    self.originalOrder = originalOrder\n",
        "    self.ticker = ticker\n",
        "    self.dollarAmount = dollarAmount\n",
        "    self.units = 0\n",
        "    "
      ]
    },
    {
      "cell_type": "code",
      "execution_count": 56,
      "metadata": {},
      "outputs": [
        {
          "name": "stdout",
          "output_type": "stream",
          "text": [
            "[*********************100%***********************]  5 of 5 completed\n"
          ]
        }
      ],
      "source": [
        "myPortfolio = Portfolio(\"VTI TLT IEI GLD DBC\", expectedReturn = 0.05, portfolioName = \"Moderate\", riskBucket = 3)\n",
        "myGoal = Goal(name=\"Vacation\", targetYear=2027, targetValue=10000, priority=\"Dreams\", portfolio=myPortfolio)\n",
        "myAccount=Account(number=\"123456789\", accountType=\"Taxable\", accountStatus=AccountStatus(\"APPROVED\"), cashBalance=11.0)\n",
        "myAccount.goals.append(myGoal)\n",
        "\n",
        "# Manual update using Chapter 12 outputs:\n",
        "myPortfolio.allocations[0].units = 0.0\n",
        "myPortfolio.allocations[1].units = 0.02213974051911262\n",
        "myPortfolio.allocations[2].units = 0.02171626612838836\n",
        "myPortfolio.allocations[3].units = 0.0163863407640173\n",
        "myPortfolio.allocations[4].units = 0.009743440233"
      ]
    },
    {
      "cell_type": "code",
      "execution_count": 57,
      "metadata": {
        "id": "2LmsIBDI81kQ"
      },
      "outputs": [
        {
          "name": "stdout",
          "output_type": "stream",
          "text": [
            "[*********************100%***********************]  5 of 5 completed\n"
          ]
        }
      ],
      "source": [
        "myPortfolio2 = Portfolio(\"VTI TLT IEI GLD DBC\", expectedReturn = 0.03, portfolioName = \"Conservative\", riskBucket = 2)\n",
        "myGoal2 = Goal(name=\"Car\", targetYear=2025, targetValue=5000, priority=\"Dreams\", portfolio=myPortfolio2)\n",
        "myAccount2=Account(number=\"987654321\", accountType=\"Taxable\", accountStatus=AccountStatus(\"APPROVED\"), cashBalance=21.0)\n",
        "myAccount2.goals.append(myGoal2)\n",
        "\n",
        "# Manual update using Chapter 12 outputs:\n",
        "myPortfolio2.allocations[0].units = 0.019070282760887385\n",
        "myPortfolio2.allocations[1].units = 0.0\n",
        "myPortfolio2.allocations[2].units = 0.10911027337161164\n",
        "myPortfolio2.allocations[3].units = 0.019273081685982695\n",
        "myPortfolio2.allocations[4].units = 0.0"
      ]
    },
    {
      "cell_type": "code",
      "execution_count": 58,
      "metadata": {
        "colab": {
          "base_uri": "https://localhost:8080/"
        },
        "id": "F9v0PKiQ8_Xe",
        "outputId": "822b8014-6861-4798-8bd7-fe8709c18af8"
      },
      "outputs": [
        {
          "data": {
            "text/plain": [
              "0.03138460411794584"
            ]
          },
          "execution_count": 58,
          "metadata": {},
          "output_type": "execute_result"
        }
      ],
      "source": [
        "myPortfolio.calculateDrift()"
      ]
    },
    {
      "cell_type": "code",
      "execution_count": 59,
      "metadata": {},
      "outputs": [
        {
          "data": {
            "text/plain": [
              "[0.0,\n",
              " 0.0016507772916259378,\n",
              " 0.029672622624120265,\n",
              " 6.620420219966006e-05,\n",
              " -0.03137960411794581]"
            ]
          },
          "execution_count": 59,
          "metadata": {},
          "output_type": "execute_result"
        }
      ],
      "source": [
        "myPortfolio.calculateDiffsToModel()"
      ]
    },
    {
      "cell_type": "code",
      "execution_count": 60,
      "metadata": {
        "colab": {
          "base_uri": "https://localhost:8080/"
        },
        "id": "Jngp7ltlGvvt",
        "outputId": "af719375-2a08-4d3b-ac57-4c7ddae26d3b"
      },
      "outputs": [
        {
          "data": {
            "text/plain": [
              "[0.36858,\n",
              " -0.04473760056229592,\n",
              " -0.2156844408071606,\n",
              " -0.048690192773816796,\n",
              " -0.05945776585672678]"
            ]
          },
          "execution_count": 60,
          "metadata": {},
          "output_type": "execute_result"
        }
      ],
      "source": [
        "diff"
      ]
    },
    {
      "cell_type": "code",
      "execution_count": 61,
      "metadata": {
        "id": "jdkygG6RGMGR"
      },
      "outputs": [],
      "source": [
        "# Learn how to implement Time-based Rebalancing "
      ]
    },
    {
      "cell_type": "code",
      "execution_count": 62,
      "metadata": {
        "id": "WMjORD832XOx"
      },
      "outputs": [],
      "source": [
        "splitOrders = []\n",
        "for i in range(len(diff)):\n",
        "    if diff[i] > 0:\n",
        "        diffValue = diff[i] * holdings[i] * market_values[i]\n",
        "        newOrder = Order(account = myAccount, \n",
        "                            goal = myGoal, \n",
        "                            transactionType = TransactionType('BUY'), \n",
        "                            dollarAmount = diffValue)\n",
        "        splitOrders.append(SplitOrder(originalOrder = newOrder,\n",
        "                                      ticker = myPortfolio.allocations[i].ticker, \n",
        "                                      dollarAmount = diffValue))\n",
        "    elif diff[i] < 0:\n",
        "        diffValue = abs(diff[i]) * holdings[i] * market_values[i]\n",
        "        newOrder = Order(account = myAccount, \n",
        "                            goal = myGoal, \n",
        "                            transactionType = TransactionType('SELL'), \n",
        "                            dollarAmount = diffValue)\n",
        "        splitOrders.append(SplitOrder(originalOrder = newOrder,\n",
        "                                      ticker = myPortfolio.allocations[i].ticker, \n",
        "                                      dollarAmount = diffValue))"
      ]
    },
    {
      "cell_type": "code",
      "execution_count": 63,
      "metadata": {
        "id": "lteF2870yl9v"
      },
      "outputs": [],
      "source": [
        "splits = myPortfolio.rebalance()"
      ]
    },
    {
      "cell_type": "code",
      "execution_count": 64,
      "metadata": {
        "id": "Cm0eenHyE07Q"
      },
      "outputs": [],
      "source": [
        "for split in splits:\n",
        "  print(split.ticker + \": \" + split.originalOrder.transactionType.value + \" \" + '${0:.2f}'.format(split.dollarAmount))"
      ]
    },
    {
      "cell_type": "code",
      "execution_count": 65,
      "metadata": {
        "id": "tZQxxsuWGTXH"
      },
      "outputs": [],
      "source": [
        "# Learn how to implement Threshold-based Rebalancing "
      ]
    },
    {
      "cell_type": "code",
      "execution_count": 66,
      "metadata": {
        "id": "ZoB6Kop6KpgC"
      },
      "outputs": [],
      "source": [
        "threshold = 0.003\n",
        "accounts = [myAccount, myAccount2]\n",
        "for account in accounts:\n",
        "  for goal in account.goals:\n",
        "    diffs = goal.portfolio.calculateDiffsToModel()\n",
        "    goal.portfolio.checkNeedRebalancing(diff=diffs, thres=threshold)"
      ]
    },
    {
      "cell_type": "code",
      "execution_count": 67,
      "metadata": {
        "colab": {
          "base_uri": "https://localhost:8080/"
        },
        "id": "IdCt21qVNVSw",
        "outputId": "b5af9abc-0bc3-4b0b-bb53-f1374d8f3dbb"
      },
      "outputs": [
        {
          "name": "stdout",
          "output_type": "stream",
          "text": [
            "True\n",
            "0.03138460411794584\n",
            "True\n",
            "0.15874500000000002\n"
          ]
        }
      ],
      "source": [
        "print(myAccount.goals[0].portfolio.needRebalancing)\n",
        "print(myAccount.goals[0].portfolio.calculateDrift())\n",
        "\n",
        "print(myAccount2.goals[0].portfolio.needRebalancing)\n",
        "print(myAccount2.goals[0].portfolio.calculateDrift())"
      ]
    }
  ],
  "metadata": {
    "colab": {
      "provenance": [],
      "toc_visible": true
    },
    "kernelspec": {
      "display_name": "Python 3",
      "language": "python",
      "name": "python3"
    },
    "language_info": {
      "codemirror_mode": {
        "name": "ipython",
        "version": 3
      },
      "file_extension": ".py",
      "mimetype": "text/x-python",
      "name": "python",
      "nbconvert_exporter": "python",
      "pygments_lexer": "ipython3",
      "version": "3.10.8 | packaged by conda-forge | (main, Nov 22 2022, 08:25:29) [Clang 14.0.6 ]"
    },
    "vscode": {
      "interpreter": {
        "hash": "bf4014decd6db2e7270b0720910deef930124f2ac2cf190091d139b0105c57af"
      }
    }
  },
  "nbformat": 4,
  "nbformat_minor": 0
}

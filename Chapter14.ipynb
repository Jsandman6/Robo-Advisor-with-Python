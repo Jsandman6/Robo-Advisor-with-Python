{
  "cells": [
    {
      "attachments": {},
      "cell_type": "markdown",
      "metadata": {
        "id": "DNdSh44KF-UH"
      },
      "source": [
        "# Chapter 14: Rebalancing and Tax Loss Harvesting"
      ]
    },
    {
      "cell_type": "code",
      "execution_count": null,
      "metadata": {
        "id": "QTkVOzVRGExY"
      },
      "outputs": [],
      "source": [
        "# Learn how to calculate Portfolio Drift "
      ]
    },
    {
      "cell_type": "code",
      "execution_count": null,
      "metadata": {},
      "outputs": [],
      "source": [
        "import yfinance as yf\n",
        "import pandas as pd"
      ]
    },
    {
      "cell_type": "code",
      "execution_count": null,
      "metadata": {},
      "outputs": [],
      "source": [
        "class Allocation:\n",
        "  def __init__(self, ticker, percentage):\n",
        "    self.ticker = ticker\n",
        "    self.percentage = percentage\n",
        "    self.units = 0.0\n",
        "\n",
        "class Portfolio:\n",
        "\n",
        "  def __init__(self, tickerString: str, expectedReturn: float, portfolioName: str, riskBucket: int):\n",
        "\n",
        "    self.name = portfolioName\n",
        "    self.riskBucket = riskBucket\n",
        "    self.expectedReturn = expectedReturn\n",
        "    self.allocations = []\n",
        "\n",
        "    from pypfopt.efficient_frontier import EfficientFrontier\n",
        "    from pypfopt import risk_models\n",
        "    from pypfopt import expected_returns\n",
        "\n",
        "    df = self.__getDailyPrices(tickerString, \"20y\")\n",
        "\n",
        "    mu = expected_returns.mean_historical_return(df)\n",
        "    S = risk_models.sample_cov(df)\n",
        "\n",
        "    ef = EfficientFrontier(mu, S)\n",
        "\n",
        "    ef.efficient_return(expectedReturn)\n",
        "    self.expectedRisk = ef.portfolio_performance()[1]\n",
        "    portfolioWeights = ef.clean_weights()\n",
        "\n",
        "    for key, value in portfolioWeights.items():\n",
        "      newAllocation = Allocation(key, value)\n",
        "      self.allocations.append(newAllocation)\n",
        "\n",
        "  def __getDailyPrices(self, tickerStringList, period):\n",
        "    data = yf.download(tickerStringList, group_by=\"Ticker\", period=period)\n",
        "    data = data.iloc[:, data.columns.get_level_values(1)==\"Close\"]\n",
        "    data = data.dropna()\n",
        "    data.columns = data.columns.droplevel(1)\n",
        "    return data\n",
        "\n",
        "  def printPortfolio(self):\n",
        "    print(\"Portfolio Name: \" + self.name)\n",
        "    print(\"Risk Bucket: \" + str(self.riskBucket))\n",
        "    print(\"Expected Return: \" + str(self.expectedReturn))\n",
        "    print(\"Expected Risk: \" + str(self.expectedRisk))\n",
        "    print(\"Allocations: \")\n",
        "    for allocation in self.allocations:\n",
        "      print(\"Ticker: \" + allocation.ticker + \", Percentage: \" + str(allocation.percentage))\n",
        "\n",
        "  @staticmethod\n",
        "  def getPortfolioMapping(riskToleranceScore, riskCapacityScore):\n",
        "    allocationLookupTable=pd.read_csv('./Data/Risk Mapping Lookup.csv')\n",
        "    matchTol = (allocationLookupTable['Tolerance_min'] <= riskToleranceScore) & (allocationLookupTable['Tolerance_max'] >= riskToleranceScore)\n",
        "    matchCap = (allocationLookupTable['Capacity_min'] <= riskCapacityScore) & (allocationLookupTable['Capacity_max'] >= riskCapacityScore)\n",
        "    portfolioID = allocationLookupTable['Portfolio'][(matchTol & matchCap)]\n",
        "    return portfolioID.values[0]\n",
        "\n",
        "class Goal:\n",
        "  def __init__(self, name, targetYear, targetValue, initialContribution=0, monthlyContribution=0, priority=\"\"):\n",
        "    self.name = name\n",
        "    self.targetYear = targetYear\n",
        "    self.targetValue = targetValue\n",
        "    self.initialContribution = initialContribution\n",
        "    self.monthlyContribution = monthlyContribution\n",
        "    if not (priority == \"\") and not (priority in [\"Dreams\", \"Wishes\", \"Wants\", \"Needs\"]):\n",
        "            raise ValueError('Wrong value set for Priority.')\n",
        "    self.priority = priority\n",
        "\n",
        "  def getGoalProbabilities(self):\n",
        "    if (self.priority == \"\"):\n",
        "            raise ValueError('No value set for Priority.')\n",
        "    lookupTable=pd.read_csv('./Data/Goal Probability Table.csv')\n",
        "    match = (lookupTable['Realize'] == self.priority)\n",
        "    minProb = lookupTable['MinP'][(match)]\n",
        "    maxProb = lookupTable['MaxP'][(match)]\n",
        "    return minProb.values[0], maxProb.values[0]\n",
        "\n",
        "class AccountType():\n",
        "  def __init__(self, value: str):\n",
        "    if not value in(\"Taxable\", \"Roth IRA\", \"Traditional IRA\"):\n",
        "      raise ValueError(\"Allowed types: Taxable, Roth IRA, Traditional IRA\")\n",
        "    self.value = value\n",
        "  def __eq__(self, other):\n",
        "      return self.value == other.value\n",
        "\n",
        "class AccountStatus():\n",
        "  def __init__(self, value: str):\n",
        "    if not value in(\"PENDING\", \"IN_REVIEW\", \"APPROVED\", \"REJECTED\", \"SUSPENDED\"):\n",
        "      raise ValueError(\"Allowed statuses: PENDING, IN_REVIEW, APPROVED, REJECTED, SUSPENDED\")\n",
        "    self.value = value\n",
        "  def __eq__(self, other):\n",
        "      return self.value == other.value\n",
        "\n",
        "class Account():\n",
        "  def __init__(self, number: str, accountType: AccountType, accountStatus: AccountStatus, cashBalance: float=0.0):\n",
        "    self.goals = []\n",
        "    self.number = number\n",
        "    self.cashBalance = cashBalance\n",
        "    self.accountType = accountType\n",
        "    self.accountStatus = accountStatus\n",
        "\n",
        "class TransactionType():\n",
        "  def __init__(self, value: str):\n",
        "    if not value in(\"BUY\", \"SELL\"):\n",
        "      raise ValueError(\"Allowed types: BUY, SELL.\")\n",
        "    self.value = value\n",
        "  def __eq__(self, other):\n",
        "      return self.value == other.value\n",
        "\n",
        "class OrderStatus():\n",
        "  def __init__(self, value: str):\n",
        "    if not value in(\"NEW\", \"PENDING\", \"FILLED\", \"REJECTED\"):\n",
        "      raise ValueError(\"Allowed statuses: NEW, PENDING, FILLED, REJECTED.\")\n",
        "    self.value = value\n",
        "  def __eq__(self, other):\n",
        "      return self.value == other.value\n",
        "\n",
        "class Order:\n",
        "  def __init__(self, account: Account, goal: Goal, transactionType: TransactionType, status: OrderStatus=OrderStatus(\"NEW\"), dollarAmount: float=0.0):\n",
        "    \n",
        "    self.account = account\n",
        "    self.transactionType = transactionType\n",
        "    self.dollarAmount = dollarAmount\n",
        "    self.goal = goal\n",
        "    self.status = status\n",
        "\n",
        "  def checkAccountStatus(self) -> bool:\n",
        "    if self.account.accountStatus == AccountStatus(\"APPROVED\"):\n",
        "      return True\n",
        "    else:\n",
        "      return False\n",
        "\n",
        "  def checkOrderSize(self) -> bool:\n",
        "    if self.dollarAmount > 1.00:\n",
        "      return True\n",
        "    else:\n",
        "      return False\n",
        "\n",
        "  def checkBalances(self) -> bool:\n",
        "    if self.transactionType == TransactionType(\"BUY\") and self.account.cashBalance >= self.dollarAmount:\n",
        "      return True\n",
        "    elif self.transactionType == TransactionType(\"SELL\"):\n",
        "      goalValue = 0.0\n",
        "      for allocation in goal.portfolio.allocations:\n",
        "        price = float(yf.Ticker(allocation.ticker).info[\"previousClose\"])\n",
        "        goalValue += allocation.units * price\n",
        "      if self.dollarAmount <= goalValue:\n",
        "        return True\n",
        "      else:\n",
        "        return False\n",
        "    else:\n",
        "      return False\n",
        "\n",
        "  def checkOrderViability(self) -> bool:\n",
        "    if self.checkAccountStatus() and self.checkOrderSize() and self.checkBalances() and isMarketOpen():\n",
        "      return True\n",
        "    else:\n",
        "      return False\n",
        "\n",
        "  def split(self) -> list:\n",
        "    splits = []\n",
        "    for allocation in self.goal.portfolio.allocations:\n",
        "      if (allocation.percentage > 0):\n",
        "        splits.append(SplitOrder(originalOrder=self, ticker=allocation.ticker, dollarAmount=allocation.percentage * self.dollarAmount))\n",
        "    return splits"
      ]
    },
    {
      "cell_type": "code",
      "execution_count": null,
      "metadata": {},
      "outputs": [],
      "source": [
        "myPortfolio = Portfolio(\"VTI TLT IEI GLD DBC\", expectedReturn = 0.05, portfolioName = \"Moderate\", riskBucket = 3)\n",
        "myGoal = Goal(name=\"Vacation\", targetYear=2027, targetValue=10000, priority=\"Dreams\", portfolio=myPortfolio)\n",
        "myAccount=Account(number=\"123456789\", accountType=\"Taxable\", accountStatus=AccountStatus(\"APPROVED\"), cashBalance=11.0)\n",
        "myAccount.goals.append(myGoal)"
      ]
    },
    {
      "cell_type": "code",
      "execution_count": null,
      "metadata": {},
      "outputs": [],
      "source": [
        "myPortfolio2 = Portfolio(\"VTI TLT IEI GLD DBC\", expectedReturn = 0.03, portfolioName = \"Conservative\", riskBucket = 2)\n",
        "myGoal2 = Goal(name=\"Car\", targetYear=2025, targetValue=5000, priority=\"Dreams\", portfolio=myPortfolio2)\n",
        "myAccount2=Account(number=\"987654321\", accountType=\"Taxable\", accountStatus=AccountStatus(\"APPROVED\"), cashBalance=21.0)\n",
        "myAccount2.goals.append(myGoal2)"
      ]
    },
    {
      "cell_type": "code",
      "execution_count": null,
      "metadata": {
        "colab": {
          "base_uri": "https://localhost:8080/"
        },
        "id": "b1M77yHivqZc",
        "outputId": "9c820f88-27e1-4915-e94b-cef5631e2490"
      },
      "outputs": [
        {
          "data": {
            "text/plain": [
              "[0.63759, 0.0, 0.0, 0.16638, 0.19603]"
            ]
          },
          "execution_count": 91,
          "metadata": {},
          "output_type": "execute_result"
        }
      ],
      "source": [
        "allocations = [obj.percentage for obj in myPortfolio2.allocations]\n",
        "allocations"
      ]
    },
    {
      "cell_type": "code",
      "execution_count": null,
      "metadata": {
        "colab": {
          "base_uri": "https://localhost:8080/"
        },
        "id": "NYAfItmwwxMj",
        "outputId": "ad8af41a-5779-4b4d-f58c-a3e2404a50a3"
      },
      "outputs": [
        {
          "data": {
            "text/plain": [
              "[0.11394768463229901, 0.0, 0.0, 0.019544835304941135, 0.019037328311973366]"
            ]
          },
          "execution_count": 92,
          "metadata": {},
          "output_type": "execute_result"
        }
      ],
      "source": [
        "holdings = [obj.units for obj in myPortfolio2.allocations]\n",
        "holdings"
      ]
    },
    {
      "cell_type": "code",
      "execution_count": null,
      "metadata": {
        "colab": {
          "base_uri": "https://localhost:8080/"
        },
        "id": "3KlTViC6xHPI",
        "outputId": "c6560ff2-48d6-46d4-a47a-e25c46f50160"
      },
      "outputs": [
        {
          "data": {
            "text/plain": [
              "[116.53, 107.09, 25.09, 167.26, 203.99]"
            ]
          },
          "execution_count": 93,
          "metadata": {},
          "output_type": "execute_result"
        }
      ],
      "source": [
        "# Get Portfolio data\n",
        "market_values = []\n",
        "for allocation in myPortfolio.allocations:\n",
        "  price = float(yf.Ticker(allocation.ticker).info[\"previousClose\"])\n",
        "  market_values.append(price)\n",
        "market_values"
      ]
    },
    {
      "cell_type": "code",
      "execution_count": null,
      "metadata": {
        "id": "SLPq9fDM0Fit"
      },
      "outputs": [],
      "source": [
        "# Define the model portfolio allocations\n",
        "#allocations = [0.3, 0.2, 0.4, 0.1]\n",
        "allocations = [obj.percentage for obj in myPortfolio.allocations]\n",
        "\n",
        "# Define the current holdings and market values of the assets in the portfolio\n",
        "#holdings = [100, 200, 150, 50]\n",
        "holdings = [obj.units for obj in myPortfolio.allocations]\n",
        "\n",
        "#market_values = [10, 20, 30, 40]\n",
        "market_values = []\n",
        "for allocation in myPortfolio.allocations:\n",
        "  price = float(yf.Ticker(allocation.ticker).info[\"previousClose\"])\n",
        "  market_values.append(price)"
      ]
    },
    {
      "cell_type": "code",
      "execution_count": null,
      "metadata": {
        "colab": {
          "base_uri": "https://localhost:8080/"
        },
        "id": "Vqvy1O39GWdH",
        "outputId": "e9b6f68c-3f38-4171-ec27-164c6a05c0ea"
      },
      "outputs": [
        {
          "name": "stdout",
          "output_type": "stream",
          "text": [
            "[0.19620313782668816, 0.10408459755628671, 0.0, 0.3614762574927466, 0.3382360071242787]\n",
            "Portfolio Drift: 1.15%\n"
          ]
        }
      ],
      "source": [
        "# Calculate the current allocation of assets in the portfolio\n",
        "import numpy as np\n",
        "current_allocation = []\n",
        "for i in range(len(holdings)):\n",
        "    current_allocation.append(holdings[i] * market_values[i])\n",
        "current_allocation = [x / sum(current_allocation) for x in current_allocation]\n",
        "print(current_allocation)\n",
        "\n",
        "# Determine the difference between the model portfolio allocations and the current allocation of assets\n",
        "diff = [x1 - x2 for (x1, x2) in zip(allocations, current_allocation)]\n",
        "\n",
        "print(\"Portfolio Drift: \" + '{0:.2f}'.format((np.abs(diff).sum()/2)*100) + \"%\")"
      ]
    },
    {
      "cell_type": "code",
      "execution_count": null,
      "metadata": {
        "id": "KFm7qJd68SnY"
      },
      "outputs": [],
      "source": [
        "class Portfolio:\n",
        "\n",
        "  def __init__(self, tickerString: str, expectedReturn: float, portfolioName: str, riskBucket: int):\n",
        "\n",
        "    self.name = portfolioName\n",
        "    self.riskBucket = riskBucket\n",
        "    self.expectedReturn = expectedReturn\n",
        "    self.allocations = []\n",
        "    self.needRebalancing = False\n",
        "\n",
        "    from pypfopt.efficient_frontier import EfficientFrontier\n",
        "    from pypfopt import risk_models\n",
        "    from pypfopt import expected_returns\n",
        "\n",
        "    df = self.__getDailyPrices(tickerString, \"20y\")\n",
        "\n",
        "    mu = expected_returns.mean_historical_return(df)\n",
        "    S = risk_models.sample_cov(df)\n",
        "\n",
        "    ef = EfficientFrontier(mu, S)\n",
        "\n",
        "    ef.efficient_return(expectedReturn)\n",
        "    self.expectedRisk = ef.portfolio_performance()[1]\n",
        "    portfolioWeights = ef.clean_weights()\n",
        "\n",
        "    for key, value in portfolioWeights.items():\n",
        "      newAllocation = Allocation(key, value)\n",
        "      self.allocations.append(newAllocation)\n",
        "\n",
        "  def __getDailyPrices(self, tickerStringList, period):\n",
        "    data = yf.download(tickerStringList, group_by=\"Ticker\", period=period)\n",
        "    data = data.iloc[:, data.columns.get_level_values(1)==\"Close\"]\n",
        "    data = data.dropna()\n",
        "    data.columns = data.columns.droplevel(1)\n",
        "    return data\n",
        "\n",
        "  def printPortfolio(self):\n",
        "    print(\"Portfolio Name: \" + self.name)\n",
        "    print(\"Risk Bucket: \" + str(self.riskBucket))\n",
        "    print(\"Expected Return: \" + str(self.expectedReturn))\n",
        "    print(\"Expected Risk: \" + str(self.expectedRisk))\n",
        "    print(\"Allocations: \")\n",
        "    for allocation in self.allocations:\n",
        "      print(\"Ticker: \" + allocation.ticker + \", Percentage: \" + str(allocation.percentage))\n",
        "\n",
        "  @staticmethod\n",
        "  def getPortfolioMapping(riskToleranceScore, riskCapacityScore):\n",
        "    allocationLookupTable=pd.read_csv('./Data/Risk Mapping Lookup.csv')\n",
        "    matchTol = (allocationLookupTable['Tolerance_min'] <= riskToleranceScore) & (allocationLookupTable['Tolerance_max'] >= riskToleranceScore)\n",
        "    matchCap = (allocationLookupTable['Capacity_min'] <= riskCapacityScore) & (allocationLookupTable['Capacity_max'] >= riskCapacityScore)\n",
        "    portfolioID = allocationLookupTable['Portfolio'][(matchTol & matchCap)]\n",
        "    return portfolioID.values[0]\n",
        "\n",
        "  def calculateDiffsToModel(self) -> list:\n",
        "    allocations = [obj.percentage for obj in self.allocations]\n",
        "    holdings = [obj.units for obj in self.allocations]\n",
        "    if sum(holdings) == 0.0:\n",
        "      return []\n",
        "    market_values = []\n",
        "    for allocation in self.allocations:\n",
        "      price = float(yf.Ticker(allocation.ticker).info[\"previousClose\"])\n",
        "      market_values.append(price)\n",
        "    \n",
        "    current_allocation = []\n",
        "    for i in range(len(holdings)):\n",
        "        current_allocation.append(holdings[i] * market_values[i])\n",
        "    current_allocation = [x / sum(current_allocation) for x in current_allocation]\n",
        "    \n",
        "    diff = [x1 - x2 for (x1, x2) in zip(allocations, current_allocation)]\n",
        "    return diff\n",
        "\n",
        "  def checkNeedRebalancing(self, thres: float, diff: list=[]):\n",
        "    if diff == []:\n",
        "      diff = self.calculateDiffsToModel()\n",
        "    drift = self.calculateDrift(diff)\n",
        "    \n",
        "    if drift >= thres:\n",
        "      self.needRebalancing = True\n",
        "    else:\n",
        "      self.needRebalancing = False\n",
        "\n",
        "  def calculateDrift(self, diff: list=[]) -> float:\n",
        "    if diff == []:\n",
        "      diff = self.calculateDiffsToModel()\n",
        "    return(np.abs(diff).sum()/2)\n",
        "\n",
        "  def rebalance(self, diff: list=[]) -> list:\n",
        "    if diff == []:\n",
        "      diff = self.calculateDiffsToModel()\n",
        "\n",
        "    if not self.needRebalancing:\n",
        "      return []\n",
        "\n",
        "    splitOrders = []\n",
        "    for i in range(len(diff)):\n",
        "        if diff[i] > 0:\n",
        "            diffValue = diff[i] * holdings[i] * market_values[i]\n",
        "            newOrder = Order(account = myAccount, \n",
        "                                goal = myGoal, \n",
        "                                transactionType = TransactionType('BUY'), \n",
        "                                dollarAmount = diffValue)\n",
        "            splitOrders.append(SplitOrder(originalOrder = newOrder,\n",
        "                                          ticker = myPortfolio.allocations[i].ticker, \n",
        "                                          dollarAmount = diffValue))\n",
        "        elif diff[i] < 0:\n",
        "            diffValue = abs(diff[i]) * holdings[i] * market_values[i]\n",
        "            newOrder = Order(account = myAccount, \n",
        "                                goal = myGoal, \n",
        "                                transactionType = TransactionType('SELL'), \n",
        "                                dollarAmount = diffValue)\n",
        "            splitOrders.append(SplitOrder(originalOrder = newOrder,\n",
        "                                          ticker = myPortfolio.allocations[i].ticker, \n",
        "                                          dollarAmount = diffValue))\n",
        "    return splitOrders\n",
        "\n",
        "class SplitOrder:\n",
        "  def __init__(self, originalOrder: Order, ticker: str, dollarAmount: float):\n",
        "    \n",
        "    self.originalOrder = originalOrder\n",
        "    self.ticker = ticker\n",
        "    self.dollarAmount = dollarAmount\n",
        "    self.units = 0\n",
        "    "
      ]
    },
    {
      "cell_type": "code",
      "execution_count": null,
      "metadata": {
        "id": "2LmsIBDI81kQ"
      },
      "outputs": [],
      "source": [
        "#myPortfolio = Portfolio(\"VTI TLT IEI GLD DBC\", expectedReturn = 0.05, portfolioName = \"Moderate\", riskBucket = 3)\n",
        "#myGoal = Goal(name=\"Vacation\", targetYear=2027, targetValue=10000, priority=\"Dreams\", portfolio=myPortfolio)\n",
        "#myAccount=Account(number=\"123456789\", accountType=\"Taxable\", accountStatus=AccountStatus(\"APPROVED\"), cashBalance=11.0)\n",
        "#myAccount.goals.append(myGoal)"
      ]
    },
    {
      "cell_type": "code",
      "execution_count": null,
      "metadata": {
        "colab": {
          "base_uri": "https://localhost:8080/"
        },
        "id": "F9v0PKiQ8_Xe",
        "outputId": "822b8014-6861-4798-8bd7-fe8709c18af8"
      },
      "outputs": [
        {
          "data": {
            "text/plain": [
              "0.011467735382974804"
            ]
          },
          "execution_count": 98,
          "metadata": {},
          "output_type": "execute_result"
        }
      ],
      "source": [
        "myPortfolio.calculateDrift()"
      ]
    },
    {
      "cell_type": "code",
      "execution_count": null,
      "metadata": {
        "colab": {
          "base_uri": "https://localhost:8080/"
        },
        "id": "Jngp7ltlGvvt",
        "outputId": "af719375-2a08-4d3b-ac57-4c7ddae26d3b"
      },
      "outputs": [
        {
          "data": {
            "text/plain": [
              "[-0.00731313782668816,\n",
              " -0.004154597556286707,\n",
              " 0.0,\n",
              " 0.007383742507253432,\n",
              " 0.0040839928757213095]"
            ]
          },
          "execution_count": 99,
          "metadata": {},
          "output_type": "execute_result"
        }
      ],
      "source": [
        "diff"
      ]
    },
    {
      "cell_type": "code",
      "execution_count": null,
      "metadata": {
        "id": "jdkygG6RGMGR"
      },
      "outputs": [],
      "source": [
        "# Learn how to implement Time-based Rebalancing "
      ]
    },
    {
      "cell_type": "code",
      "execution_count": null,
      "metadata": {
        "id": "WMjORD832XOx"
      },
      "outputs": [],
      "source": [
        "splitOrders = []\n",
        "for i in range(len(diff)):\n",
        "    if diff[i] > 0:\n",
        "        diffValue = diff[i] * holdings[i] * market_values[i]\n",
        "        newOrder = Order(account = myAccount, \n",
        "                            goal = myGoal, \n",
        "                            transactionType = TransactionType('BUY'), \n",
        "                            dollarAmount = diffValue)\n",
        "        splitOrders.append(SplitOrder(originalOrder = newOrder,\n",
        "                                      ticker = myPortfolio.allocations[i].ticker, \n",
        "                                      dollarAmount = diffValue))\n",
        "    elif diff[i] < 0:\n",
        "        diffValue = abs(diff[i]) * holdings[i] * market_values[i]\n",
        "        newOrder = Order(account = myAccount, \n",
        "                            goal = myGoal, \n",
        "                            transactionType = TransactionType('SELL'), \n",
        "                            dollarAmount = diffValue)\n",
        "        splitOrders.append(SplitOrder(originalOrder = newOrder,\n",
        "                                      ticker = myPortfolio.allocations[i].ticker, \n",
        "                                      dollarAmount = diffValue))"
      ]
    },
    {
      "cell_type": "code",
      "execution_count": null,
      "metadata": {
        "id": "lteF2870yl9v"
      },
      "outputs": [],
      "source": [
        "splits = myPortfolio.rebalance()"
      ]
    },
    {
      "cell_type": "code",
      "execution_count": null,
      "metadata": {
        "id": "Cm0eenHyE07Q"
      },
      "outputs": [],
      "source": [
        "for split in splits:\n",
        "  print(split.ticker + \": \" + split.originalOrder.transactionType.value + \" \" + '${0:.2f}'.format(split.dollarAmount))"
      ]
    },
    {
      "cell_type": "code",
      "execution_count": null,
      "metadata": {
        "id": "tZQxxsuWGTXH"
      },
      "outputs": [],
      "source": [
        "# Learn how to implement Threshold-based Rebalancing "
      ]
    },
    {
      "cell_type": "code",
      "execution_count": null,
      "metadata": {
        "id": "ZoB6Kop6KpgC"
      },
      "outputs": [],
      "source": [
        "threshold = 0.003\n",
        "accounts = [myAccount, myAccount2]\n",
        "for account in accounts:\n",
        "  for goal in account.goals:\n",
        "    diffs = goal.portfolio.calculateDiffsToModel()\n",
        "    goal.portfolio.checkNeedRebalancing(diff=diffs, thres=threshold)"
      ]
    },
    {
      "cell_type": "code",
      "execution_count": null,
      "metadata": {
        "colab": {
          "base_uri": "https://localhost:8080/"
        },
        "id": "IdCt21qVNVSw",
        "outputId": "b5af9abc-0bc3-4b0b-bb53-f1374d8f3dbb"
      },
      "outputs": [
        {
          "name": "stdout",
          "output_type": "stream",
          "text": [
            "True\n",
            "0.011467735382974804\n",
            "True\n",
            "0.01232641795608784\n"
          ]
        }
      ],
      "source": [
        "print(myAccount.goals[0].portfolio.needRebalancing)\n",
        "print(myAccount.goals[0].portfolio.calculateDrift())\n",
        "\n",
        "print(myAccount2.goals[0].portfolio.needRebalancing)\n",
        "print(myAccount2.goals[0].portfolio.calculateDrift())"
      ]
    },
    {
      "cell_type": "code",
      "execution_count": null,
      "metadata": {
        "id": "WW_xs92PGVLM"
      },
      "outputs": [],
      "source": [
        "# Learn how to implement Tax Loss Harvesting "
      ]
    },
    {
      "cell_type": "code",
      "execution_count": null,
      "metadata": {
        "colab": {
          "base_uri": "https://localhost:8080/"
        },
        "id": "36aoTk_1vNNs",
        "outputId": "625b6dba-9357-4686-8af5-124735eb23f4"
      },
      "outputs": [
        {
          "name": "stdout",
          "output_type": "stream",
          "text": [
            "             Value Cashflow\n",
            "Date                       \n",
            "2019-12-31       0        0\n",
            "2019-12-31  100000   100000\n",
            "2020-03-23   77985        0\n",
            "2020-03-23   87985    10000\n"
          ]
        }
      ],
      "source": [
        "history = pd.DataFrame(columns=['Date','Value','Cashflow'])\n",
        "history = history.set_index('Date')\n",
        "new_row = pd.Series({'Value':0,'Cashflow':0}, name=pd.Timestamp('2019-12-31'))\n",
        "history = history.append(new_row)\n",
        "new_row = pd.Series({'Value':100000,'Cashflow':100000}, name=pd.Timestamp('2019-12-31'))\n",
        "history = history.append(new_row)\n",
        "new_row = pd.Series({'Value':77985,'Cashflow':0}, name=pd.Timestamp('2020-03-23'))\n",
        "history = history.append(new_row)\n",
        "new_row = pd.Series({'Value':87985,'Cashflow':10000}, name=pd.Timestamp('2020-03-23'))\n",
        "history = history.append(new_row)\n",
        "print(history)"
      ]
    },
    {
      "cell_type": "code",
      "execution_count": null,
      "metadata": {
        "colab": {
          "base_uri": "https://localhost:8080/"
        },
        "id": "uROwDwSZvOxI",
        "outputId": "442a2cbe-5a10-4e0b-e0ef-1db03b729bb4"
      },
      "outputs": [
        {
          "name": "stdout",
          "output_type": "stream",
          "text": [
            "-0.22015000000000007\n"
          ]
        }
      ],
      "source": [
        "print(calculatePNL_TWRR(history=history))"
      ]
    }
  ],
  "metadata": {
    "colab": {
      "provenance": [],
      "toc_visible": true
    },
    "kernelspec": {
      "display_name": "Python 3",
      "language": "python",
      "name": "python3"
    },
    "language_info": {
      "codemirror_mode": {
        "name": "ipython",
        "version": 3
      },
      "file_extension": ".py",
      "mimetype": "text/x-python",
      "name": "python",
      "nbconvert_exporter": "python",
      "pygments_lexer": "ipython3",
      "version": "3.10.8 | packaged by conda-forge | (main, Nov 22 2022, 08:25:29) [Clang 14.0.6 ]"
    },
    "vscode": {
      "interpreter": {
        "hash": "bf4014decd6db2e7270b0720910deef930124f2ac2cf190091d139b0105c57af"
      }
    }
  },
  "nbformat": 4,
  "nbformat_minor": 0
}

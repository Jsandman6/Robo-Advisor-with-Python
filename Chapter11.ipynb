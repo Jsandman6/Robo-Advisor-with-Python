{
  "cells": [
    {
      "attachments": {},
      "cell_type": "markdown",
      "metadata": {
        "id": "UyfHQbNh9MyZ"
      },
      "source": [
        "# Chapter 11: Funding your Account"
      ]
    },
    {
      "cell_type": "code",
      "execution_count": null,
      "metadata": {
        "id": "nFi6gzxS9S9Y"
      },
      "outputs": [],
      "source": [
        "# When sending a domestic bank wire, you will need to provide the recipient’s \n",
        "# name, address, bank account number, and ABA number (routing number).\n",
        "\n",
        "# When sending an international bank wire, you will need to provide the recipient’s \n",
        "# name, address, banks SWIFT BIC, and bank account number, \n",
        "# plus the International Payments System Routing Code, for certain countries (you will be prompted for this)."
      ]
    },
    {
      "cell_type": "code",
      "execution_count": null,
      "metadata": {
        "colab": {
          "base_uri": "https://localhost:8080/"
        },
        "id": "h5yOVsNKSkMD",
        "outputId": "7daebeba-ab22-43bd-c16e-762a58d8ab2c"
      },
      "outputs": [
        {
          "name": "stdout",
          "output_type": "stream",
          "text": [
            "Looking in indexes: https://pypi.org/simple, https://us-python.pkg.dev/colab-wheels/public/simple/\n",
            "Collecting plaid-python\n",
            "  Downloading plaid-python-11.2.0.tar.gz (518 kB)\n",
            "\u001b[K     |████████████████████████████████| 518 kB 4.4 MB/s \n",
            "\u001b[?25hCollecting urllib3>=1.25.3\n",
            "  Downloading urllib3-1.26.12-py2.py3-none-any.whl (140 kB)\n",
            "\u001b[K     |████████████████████████████████| 140 kB 41.7 MB/s \n",
            "\u001b[?25hRequirement already satisfied: python-dateutil in /usr/local/lib/python3.7/dist-packages (from plaid-python) (2.8.2)\n",
            "Collecting nulltype\n",
            "  Downloading nulltype-2.3.1-py2.py3-none-any.whl (11 kB)\n",
            "Requirement already satisfied: six>=1.5 in /usr/local/lib/python3.7/dist-packages (from python-dateutil->plaid-python) (1.15.0)\n",
            "Building wheels for collected packages: plaid-python\n",
            "  Building wheel for plaid-python (setup.py) ... \u001b[?25l\u001b[?25hdone\n",
            "  Created wheel for plaid-python: filename=plaid_python-11.2.0-py3-none-any.whl size=2728437 sha256=7f70816a0db7a2a851fc70f5535b1edcb6cb521af52e78d00d284a3a947335ef\n",
            "  Stored in directory: /root/.cache/pip/wheels/b7/62/6c/7d2b98598a3099f1943d4a01baf2a398d8972454c39d5798f1\n",
            "Successfully built plaid-python\n",
            "Installing collected packages: urllib3, nulltype, plaid-python\n",
            "  Attempting uninstall: urllib3\n",
            "    Found existing installation: urllib3 1.24.3\n",
            "    Uninstalling urllib3-1.24.3:\n",
            "      Successfully uninstalled urllib3-1.24.3\n",
            "\u001b[31mERROR: pip's dependency resolver does not currently take into account all the packages that are installed. This behaviour is the source of the following dependency conflicts.\n",
            "requests 2.23.0 requires urllib3!=1.25.0,!=1.25.1,<1.26,>=1.21.1, but you have urllib3 1.26.12 which is incompatible.\u001b[0m\n",
            "Successfully installed nulltype-2.3.1 plaid-python-11.2.0 urllib3-1.26.12\n"
          ]
        }
      ],
      "source": [
        "pip install plaid-python"
      ]
    },
    {
      "cell_type": "code",
      "execution_count": null,
      "metadata": {
        "id": "eWH5Zgx5ClJS"
      },
      "outputs": [],
      "source": [
        "import plaid\n",
        "from plaid.api import plaid_api\n",
        "\n",
        "# Available environments are\n",
        "# 'Production'\n",
        "# 'Development'\n",
        "# 'Sandbox'\n",
        "configuration = plaid.Configuration(\n",
        "    host=plaid.Environment.Sandbox,\n",
        "    api_key={\n",
        "        'clientId': \"6379ff4660579b0013a77c14\",\n",
        "        'secret': \"95a8f8027645a1228015b1f6c701d7\",\n",
        "    }\n",
        ")\n",
        "\n",
        "api_client = plaid.ApiClient(configuration)\n",
        "client = plaid_api.PlaidApi(api_client)"
      ]
    },
    {
      "cell_type": "code",
      "execution_count": null,
      "metadata": {
        "id": "T6hQ6CjFi9b8"
      },
      "outputs": [],
      "source": [
        "from plaid.model.country_code import CountryCode\n",
        "from plaid.model.link_token_create_request import LinkTokenCreateRequest\n",
        "from plaid.model.link_token_create_request_user import LinkTokenCreateRequestUser\n",
        "from plaid.model.products import Products\n",
        "import time\n",
        "\n",
        "CLIENT_NAME = 'Plaid Test'\n",
        "\n",
        "request = LinkTokenCreateRequest(\n",
        "        products=[Products('auth'), Products('transactions')],\n",
        "        client_name=CLIENT_NAME,\n",
        "        country_codes=[CountryCode('GB')],\n",
        "        language='en',\n",
        "        user=LinkTokenCreateRequestUser(\n",
        "            client_user_id=str(time.time())\n",
        "        )\n",
        "    )\n",
        "# create link token\n",
        "response = client.link_token_create(request)\n",
        "\n",
        "# assert on response\n",
        "link_token = response['link_token']"
      ]
    },
    {
      "cell_type": "code",
      "execution_count": null,
      "metadata": {
        "id": "8DEspIVXfLCo"
      },
      "outputs": [],
      "source": [
        "from plaid.model.sandbox_public_token_create_request import SandboxPublicTokenCreateRequest\n",
        "from plaid.model.item_public_token_exchange_request import ItemPublicTokenExchangeRequest\n",
        "from plaid.model.products import Products\n",
        "\n",
        "SANDBOX_INSTITUTION = 'ins_109508'\n",
        "\n",
        "pt_request = SandboxPublicTokenCreateRequest(\n",
        "        institution_id=SANDBOX_INSTITUTION,\n",
        "        initial_products=[Products('auth')]\n",
        "    )\n",
        "\n",
        "pt_response = client.sandbox_public_token_create(pt_request)\n",
        "\n",
        "exchange_request = ItemPublicTokenExchangeRequest(\n",
        "    public_token=pt_response['public_token']\n",
        ")"
      ]
    },
    {
      "cell_type": "code",
      "execution_count": null,
      "metadata": {
        "id": "_W7FTnqzEMeS"
      },
      "outputs": [],
      "source": [
        "import plaid\n",
        "from plaid.model.item_public_token_exchange_request import ItemPublicTokenExchangeRequest\n",
        "\n",
        "# the public token is received from Plaid Link\n",
        "exchange_request = ItemPublicTokenExchangeRequest(\n",
        "    public_token=pt_response['public_token']\n",
        ")\n",
        "exchange_response = client.item_public_token_exchange(exchange_request)\n",
        "access_token = exchange_response['access_token']"
      ]
    },
    {
      "cell_type": "code",
      "execution_count": null,
      "metadata": {
        "id": "Ak00kpzGep1t"
      },
      "outputs": [],
      "source": [
        "from plaid.model.account_type import AccountType\n",
        "from plaid.model.accounts_get_request import AccountsGetRequest\n",
        "\n",
        "accounts_request = AccountsGetRequest(\n",
        "    access_token=access_token\n",
        ")\n",
        "accounts_response = client.accounts_get(accounts_request)\n",
        "\n",
        "account = next(\n",
        "    acct for acct in accounts_response['accounts'] if acct['type'] == AccountType('depository'))\n",
        "\n",
        "account_id = account['account_id']"
      ]
    },
    {
      "cell_type": "code",
      "execution_count": null,
      "metadata": {
        "colab": {
          "base_uri": "https://localhost:8080/",
          "height": 35
        },
        "id": "de14aY1KmzjM",
        "outputId": "d28fa6cb-4f2d-41d0-955f-27b61d9032ae"
      },
      "outputs": [
        {
          "data": {
            "application/vnd.google.colaboratory.intrinsic+json": {
              "type": "string"
            },
            "text/plain": [
              "'aqyaKraXmeCLvGbgaZg4IW4nEqAMjytP5pA5l'"
            ]
          },
          "execution_count": 20,
          "metadata": {},
          "output_type": "execute_result"
        }
      ],
      "source": [
        "account_id"
      ]
    },
    {
      "cell_type": "code",
      "execution_count": null,
      "metadata": {
        "colab": {
          "base_uri": "https://localhost:8080/",
          "height": 586
        },
        "id": "rr-VxuVXeLLT",
        "outputId": "aca31a31-fdb8-4209-9159-776ab2bb6683"
      },
      "outputs": [
        {
          "ename": "ApiException",
          "evalue": "ignored",
          "output_type": "error",
          "traceback": [
            "\u001b[0;31m---------------------------------------------------------------------------\u001b[0m",
            "\u001b[0;31mApiException\u001b[0m                              Traceback (most recent call last)",
            "\u001b[0;32m<ipython-input-19-7a597c2a5116>\u001b[0m in \u001b[0;36m<module>\u001b[0;34m\u001b[0m\n\u001b[1;32m     21\u001b[0m     )\n\u001b[1;32m     22\u001b[0m \u001b[0;34m\u001b[0m\u001b[0m\n\u001b[0;32m---> 23\u001b[0;31m \u001b[0mbt_response\u001b[0m \u001b[0;34m=\u001b[0m \u001b[0mclient\u001b[0m\u001b[0;34m.\u001b[0m\u001b[0mbank_transfer_create\u001b[0m\u001b[0;34m(\u001b[0m\u001b[0mbt_request\u001b[0m\u001b[0;34m)\u001b[0m\u001b[0;34m\u001b[0m\u001b[0;34m\u001b[0m\u001b[0m\n\u001b[0m",
            "\u001b[0;32m/usr/local/lib/python3.7/dist-packages/plaid/api_client.py\u001b[0m in \u001b[0;36m__call__\u001b[0;34m(self, *args, **kwargs)\u001b[0m\n\u001b[1;32m    767\u001b[0m \u001b[0;34m\u001b[0m\u001b[0m\n\u001b[1;32m    768\u001b[0m         \"\"\"\n\u001b[0;32m--> 769\u001b[0;31m         \u001b[0;32mreturn\u001b[0m \u001b[0mself\u001b[0m\u001b[0;34m.\u001b[0m\u001b[0mcallable\u001b[0m\u001b[0;34m(\u001b[0m\u001b[0mself\u001b[0m\u001b[0;34m,\u001b[0m \u001b[0;34m*\u001b[0m\u001b[0margs\u001b[0m\u001b[0;34m,\u001b[0m \u001b[0;34m**\u001b[0m\u001b[0mkwargs\u001b[0m\u001b[0;34m)\u001b[0m\u001b[0;34m\u001b[0m\u001b[0;34m\u001b[0m\u001b[0m\n\u001b[0m\u001b[1;32m    770\u001b[0m \u001b[0;34m\u001b[0m\u001b[0m\n\u001b[1;32m    771\u001b[0m     \u001b[0;32mdef\u001b[0m \u001b[0mcall_with_http_info\u001b[0m\u001b[0;34m(\u001b[0m\u001b[0mself\u001b[0m\u001b[0;34m,\u001b[0m \u001b[0;34m**\u001b[0m\u001b[0mkwargs\u001b[0m\u001b[0;34m)\u001b[0m\u001b[0;34m:\u001b[0m\u001b[0;34m\u001b[0m\u001b[0;34m\u001b[0m\u001b[0m\n",
            "\u001b[0;32m/usr/local/lib/python3.7/dist-packages/plaid/api/plaid_api.py\u001b[0m in \u001b[0;36m__bank_transfer_create\u001b[0;34m(self, bank_transfer_create_request, **kwargs)\u001b[0m\n\u001b[1;32m   2297\u001b[0m             \u001b[0mkwargs\u001b[0m\u001b[0;34m[\u001b[0m\u001b[0;34m'bank_transfer_create_request'\u001b[0m\u001b[0;34m]\u001b[0m \u001b[0;34m=\u001b[0m\u001b[0;31m \u001b[0m\u001b[0;31m\\\u001b[0m\u001b[0;34m\u001b[0m\u001b[0;34m\u001b[0m\u001b[0m\n\u001b[1;32m   2298\u001b[0m                 \u001b[0mbank_transfer_create_request\u001b[0m\u001b[0;34m\u001b[0m\u001b[0;34m\u001b[0m\u001b[0m\n\u001b[0;32m-> 2299\u001b[0;31m             \u001b[0;32mreturn\u001b[0m \u001b[0mself\u001b[0m\u001b[0;34m.\u001b[0m\u001b[0mcall_with_http_info\u001b[0m\u001b[0;34m(\u001b[0m\u001b[0;34m**\u001b[0m\u001b[0mkwargs\u001b[0m\u001b[0;34m)\u001b[0m\u001b[0;34m\u001b[0m\u001b[0;34m\u001b[0m\u001b[0m\n\u001b[0m\u001b[1;32m   2300\u001b[0m \u001b[0;34m\u001b[0m\u001b[0m\n\u001b[1;32m   2301\u001b[0m         self.bank_transfer_create = _Endpoint(\n",
            "\u001b[0;32m/usr/local/lib/python3.7/dist-packages/plaid/api_client.py\u001b[0m in \u001b[0;36mcall_with_http_info\u001b[0;34m(self, **kwargs)\u001b[0m\n\u001b[1;32m    845\u001b[0m             \u001b[0m_request_timeout\u001b[0m\u001b[0;34m=\u001b[0m\u001b[0mkwargs\u001b[0m\u001b[0;34m[\u001b[0m\u001b[0;34m'_request_timeout'\u001b[0m\u001b[0;34m]\u001b[0m\u001b[0;34m,\u001b[0m\u001b[0;34m\u001b[0m\u001b[0;34m\u001b[0m\u001b[0m\n\u001b[1;32m    846\u001b[0m             \u001b[0m_host\u001b[0m\u001b[0;34m=\u001b[0m\u001b[0m_host\u001b[0m\u001b[0;34m,\u001b[0m\u001b[0;34m\u001b[0m\u001b[0;34m\u001b[0m\u001b[0m\n\u001b[0;32m--> 847\u001b[0;31m             collection_formats=params['collection_format'])\n\u001b[0m",
            "\u001b[0;32m/usr/local/lib/python3.7/dist-packages/plaid/api_client.py\u001b[0m in \u001b[0;36mcall_api\u001b[0;34m(self, resource_path, method, path_params, query_params, header_params, body, post_params, files, response_type, auth_settings, async_req, _return_http_data_only, collection_formats, _preload_content, _request_timeout, _host, _check_type)\u001b[0m\n\u001b[1;32m    410\u001b[0m                                    \u001b[0m_return_http_data_only\u001b[0m\u001b[0;34m,\u001b[0m \u001b[0mcollection_formats\u001b[0m\u001b[0;34m,\u001b[0m\u001b[0;34m\u001b[0m\u001b[0;34m\u001b[0m\u001b[0m\n\u001b[1;32m    411\u001b[0m                                    \u001b[0m_preload_content\u001b[0m\u001b[0;34m,\u001b[0m \u001b[0m_request_timeout\u001b[0m\u001b[0;34m,\u001b[0m \u001b[0m_host\u001b[0m\u001b[0;34m,\u001b[0m\u001b[0;34m\u001b[0m\u001b[0;34m\u001b[0m\u001b[0m\n\u001b[0;32m--> 412\u001b[0;31m                                    _check_type)\n\u001b[0m\u001b[1;32m    413\u001b[0m \u001b[0;34m\u001b[0m\u001b[0m\n\u001b[1;32m    414\u001b[0m         return self.pool.apply_async(self.__call_api, (resource_path,\n",
            "\u001b[0;32m/usr/local/lib/python3.7/dist-packages/plaid/api_client.py\u001b[0m in \u001b[0;36m__call_api\u001b[0;34m(self, resource_path, method, path_params, query_params, header_params, body, post_params, files, response_type, auth_settings, _return_http_data_only, collection_formats, _preload_content, _request_timeout, _host, _check_type)\u001b[0m\n\u001b[1;32m    198\u001b[0m         \u001b[0;32mexcept\u001b[0m \u001b[0mApiException\u001b[0m \u001b[0;32mas\u001b[0m \u001b[0me\u001b[0m\u001b[0;34m:\u001b[0m\u001b[0;34m\u001b[0m\u001b[0;34m\u001b[0m\u001b[0m\n\u001b[1;32m    199\u001b[0m             \u001b[0me\u001b[0m\u001b[0;34m.\u001b[0m\u001b[0mbody\u001b[0m \u001b[0;34m=\u001b[0m \u001b[0me\u001b[0m\u001b[0;34m.\u001b[0m\u001b[0mbody\u001b[0m\u001b[0;34m.\u001b[0m\u001b[0mdecode\u001b[0m\u001b[0;34m(\u001b[0m\u001b[0;34m'utf-8'\u001b[0m\u001b[0;34m)\u001b[0m\u001b[0;34m\u001b[0m\u001b[0;34m\u001b[0m\u001b[0m\n\u001b[0;32m--> 200\u001b[0;31m             \u001b[0;32mraise\u001b[0m \u001b[0me\u001b[0m\u001b[0;34m\u001b[0m\u001b[0;34m\u001b[0m\u001b[0m\n\u001b[0m\u001b[1;32m    201\u001b[0m \u001b[0;34m\u001b[0m\u001b[0m\n\u001b[1;32m    202\u001b[0m         \u001b[0mself\u001b[0m\u001b[0;34m.\u001b[0m\u001b[0mlast_response\u001b[0m \u001b[0;34m=\u001b[0m \u001b[0mresponse_data\u001b[0m\u001b[0;34m\u001b[0m\u001b[0;34m\u001b[0m\u001b[0m\n",
            "\u001b[0;32m/usr/local/lib/python3.7/dist-packages/plaid/api_client.py\u001b[0m in \u001b[0;36m__call_api\u001b[0;34m(self, resource_path, method, path_params, query_params, header_params, body, post_params, files, response_type, auth_settings, _return_http_data_only, collection_formats, _preload_content, _request_timeout, _host, _check_type)\u001b[0m\n\u001b[1;32m    195\u001b[0m                 \u001b[0mpost_params\u001b[0m\u001b[0;34m=\u001b[0m\u001b[0mpost_params\u001b[0m\u001b[0;34m,\u001b[0m \u001b[0mbody\u001b[0m\u001b[0;34m=\u001b[0m\u001b[0mbody\u001b[0m\u001b[0;34m,\u001b[0m\u001b[0;34m\u001b[0m\u001b[0;34m\u001b[0m\u001b[0m\n\u001b[1;32m    196\u001b[0m                 \u001b[0m_preload_content\u001b[0m\u001b[0;34m=\u001b[0m\u001b[0m_preload_content\u001b[0m\u001b[0;34m,\u001b[0m\u001b[0;34m\u001b[0m\u001b[0;34m\u001b[0m\u001b[0m\n\u001b[0;32m--> 197\u001b[0;31m                 _request_timeout=_request_timeout)\n\u001b[0m\u001b[1;32m    198\u001b[0m         \u001b[0;32mexcept\u001b[0m \u001b[0mApiException\u001b[0m \u001b[0;32mas\u001b[0m \u001b[0me\u001b[0m\u001b[0;34m:\u001b[0m\u001b[0;34m\u001b[0m\u001b[0;34m\u001b[0m\u001b[0m\n\u001b[1;32m    199\u001b[0m             \u001b[0me\u001b[0m\u001b[0;34m.\u001b[0m\u001b[0mbody\u001b[0m \u001b[0;34m=\u001b[0m \u001b[0me\u001b[0m\u001b[0;34m.\u001b[0m\u001b[0mbody\u001b[0m\u001b[0;34m.\u001b[0m\u001b[0mdecode\u001b[0m\u001b[0;34m(\u001b[0m\u001b[0;34m'utf-8'\u001b[0m\u001b[0;34m)\u001b[0m\u001b[0;34m\u001b[0m\u001b[0;34m\u001b[0m\u001b[0m\n",
            "\u001b[0;32m/usr/local/lib/python3.7/dist-packages/plaid/api_client.py\u001b[0m in \u001b[0;36mrequest\u001b[0;34m(self, method, url, query_params, headers, post_params, body, _preload_content, _request_timeout)\u001b[0m\n\u001b[1;32m    456\u001b[0m                                          \u001b[0m_preload_content\u001b[0m\u001b[0;34m=\u001b[0m\u001b[0m_preload_content\u001b[0m\u001b[0;34m,\u001b[0m\u001b[0;34m\u001b[0m\u001b[0;34m\u001b[0m\u001b[0m\n\u001b[1;32m    457\u001b[0m                                          \u001b[0m_request_timeout\u001b[0m\u001b[0;34m=\u001b[0m\u001b[0m_request_timeout\u001b[0m\u001b[0;34m,\u001b[0m\u001b[0;34m\u001b[0m\u001b[0;34m\u001b[0m\u001b[0m\n\u001b[0;32m--> 458\u001b[0;31m                                          body=body)\n\u001b[0m\u001b[1;32m    459\u001b[0m         \u001b[0;32melif\u001b[0m \u001b[0mmethod\u001b[0m \u001b[0;34m==\u001b[0m \u001b[0;34m\"PUT\"\u001b[0m\u001b[0;34m:\u001b[0m\u001b[0;34m\u001b[0m\u001b[0;34m\u001b[0m\u001b[0m\n\u001b[1;32m    460\u001b[0m             return self.rest_client.PUT(url,\n",
            "\u001b[0;32m/usr/local/lib/python3.7/dist-packages/plaid/rest.py\u001b[0m in \u001b[0;36mPOST\u001b[0;34m(self, url, headers, query_params, post_params, body, _preload_content, _request_timeout)\u001b[0m\n\u001b[1;32m    268\u001b[0m                             \u001b[0m_preload_content\u001b[0m\u001b[0;34m=\u001b[0m\u001b[0m_preload_content\u001b[0m\u001b[0;34m,\u001b[0m\u001b[0;34m\u001b[0m\u001b[0;34m\u001b[0m\u001b[0m\n\u001b[1;32m    269\u001b[0m                             \u001b[0m_request_timeout\u001b[0m\u001b[0;34m=\u001b[0m\u001b[0m_request_timeout\u001b[0m\u001b[0;34m,\u001b[0m\u001b[0;34m\u001b[0m\u001b[0;34m\u001b[0m\u001b[0m\n\u001b[0;32m--> 270\u001b[0;31m                             body=body)\n\u001b[0m\u001b[1;32m    271\u001b[0m \u001b[0;34m\u001b[0m\u001b[0m\n\u001b[1;32m    272\u001b[0m     def PUT(self, url, headers=None, query_params=None, post_params=None,\n",
            "\u001b[0;32m/usr/local/lib/python3.7/dist-packages/plaid/rest.py\u001b[0m in \u001b[0;36mrequest\u001b[0;34m(self, method, url, query_params, headers, body, post_params, _preload_content, _request_timeout)\u001b[0m\n\u001b[1;32m    221\u001b[0m                 \u001b[0;32mraise\u001b[0m \u001b[0mServiceException\u001b[0m\u001b[0;34m(\u001b[0m\u001b[0mhttp_resp\u001b[0m\u001b[0;34m=\u001b[0m\u001b[0mr\u001b[0m\u001b[0;34m)\u001b[0m\u001b[0;34m\u001b[0m\u001b[0;34m\u001b[0m\u001b[0m\n\u001b[1;32m    222\u001b[0m \u001b[0;34m\u001b[0m\u001b[0m\n\u001b[0;32m--> 223\u001b[0;31m             \u001b[0;32mraise\u001b[0m \u001b[0mApiException\u001b[0m\u001b[0;34m(\u001b[0m\u001b[0mhttp_resp\u001b[0m\u001b[0;34m=\u001b[0m\u001b[0mr\u001b[0m\u001b[0;34m)\u001b[0m\u001b[0;34m\u001b[0m\u001b[0;34m\u001b[0m\u001b[0m\n\u001b[0m\u001b[1;32m    224\u001b[0m \u001b[0;34m\u001b[0m\u001b[0m\n\u001b[1;32m    225\u001b[0m         \u001b[0;32mreturn\u001b[0m \u001b[0mr\u001b[0m\u001b[0;34m\u001b[0m\u001b[0;34m\u001b[0m\u001b[0m\n",
            "\u001b[0;31mApiException\u001b[0m: (400)\nReason: Bad Request\nHTTP response headers: HTTPHeaderDict({'Server': 'nginx', 'Date': 'Sun, 20 Nov 2022 10:29:34 GMT', 'Content-Type': 'application/json; charset=utf-8', 'Content-Length': '342', 'Connection': 'keep-alive', 'plaid-version': '2020-09-14'})\nHTTP response body: {\n  \"display_message\": null,\n  \"documentation_url\": \"https://plaid.com/docs/?ref=error#invalid-input-errors\",\n  \"error_code\": \"INVALID_PRODUCT\",\n  \"error_message\": \"client is not authorized to access the following products: [\\\"bank_transfer\\\"]\",\n  \"error_type\": \"INVALID_INPUT\",\n  \"request_id\": \"fSbWQAB5AZ1ULrN\",\n  \"suggested_action\": null\n}\n"
          ]
        }
      ],
      "source": [
        "from plaid.model.bank_transfer_create_request import BankTransferCreateRequest\n",
        "from plaid.model.bank_transfer_network import BankTransferNetwork\n",
        "from plaid.model.bank_transfer_idempotency_key import BankTransferIdempotencyKey\n",
        "from plaid.model.bank_transfer_type import BankTransferType\n",
        "from plaid.model.bank_transfer_user import BankTransferUser\n",
        "from plaid.model.ach_class import ACHClass\n",
        "from random import random\n",
        "\n",
        "bt_request = BankTransferCreateRequest(\n",
        "        idempotency_key=BankTransferIdempotencyKey(str(random())),\n",
        "        access_token=access_token,\n",
        "        account_id=account_id,\n",
        "        type=BankTransferType('credit'),\n",
        "        network=BankTransferNetwork('ach'),\n",
        "        amount='1.00',\n",
        "        iso_currency_code='USD',\n",
        "        description='test',\n",
        "        user=BankTransferUser(legal_name='Firstname Lastname'),\n",
        "        ach_class=ACHClass('ppd'),\n",
        "        custom_tag='',\n",
        "    )\n",
        "\n",
        "bt_response = client.bank_transfer_create(bt_request)"
      ]
    }
  ],
  "metadata": {
    "colab": {
      "provenance": [],
      "toc_visible": true
    },
    "kernelspec": {
      "display_name": "Python 3",
      "language": "python",
      "name": "python3"
    },
    "language_info": {
      "codemirror_mode": {
        "name": "ipython",
        "version": 3
      },
      "file_extension": ".py",
      "mimetype": "text/x-python",
      "name": "python",
      "nbconvert_exporter": "python",
      "pygments_lexer": "ipython3",
      "version": "3.11.0 (main, Nov 15 2022, 05:43:36) [Clang 14.0.0 (clang-1400.0.29.202)]"
    },
    "vscode": {
      "interpreter": {
        "hash": "1a1af0ee75eeea9e2e1ee996c87e7a2b11a0bebd85af04bb136d915cefc0abce"
      }
    }
  },
  "nbformat": 4,
  "nbformat_minor": 0
}

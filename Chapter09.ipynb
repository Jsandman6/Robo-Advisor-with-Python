{
  "cells": [
    {
      "attachments": {},
      "cell_type": "markdown",
      "metadata": {},
      "source": [
        "# Chapter 9: Investment Projections\n",
        "In this chapter you will learn how to calculate and visualize projections for investments using our Model Portfolios. We will show possible outcomes given certain investment time horizons and amounts."
      ]
    },
    {
      "cell_type": "code",
      "execution_count": null,
      "metadata": {},
      "outputs": [],
      "source": [
        "import yfinance as yf"
      ]
    },
    {
      "cell_type": "code",
      "execution_count": null,
      "metadata": {
        "colab": {
          "base_uri": "https://localhost:8080/"
        },
        "id": "ojSEF5FqV-ZV",
        "outputId": "bcd5b9c9-21e0-4d82-e2a2-5c9b77306786"
      },
      "outputs": [],
      "source": [
        "#HEADING 2: Calculating investment projections\n",
        "#SKILL 2: Learn how to calculate investment projections\n",
        "\n",
        "# Future Value (Compound)\n",
        "#expectedReturn = myPortfolio.expectedReturn\n",
        "expectedReturn = 0.08\n",
        "initialInvestment = 5000\n",
        "years = 1\n",
        "\n",
        "valuePrincipal = initialInvestment * (1 + expectedReturn)\n",
        "print(valuePrincipal)\n",
        "\n",
        "valuePrincipal = initialInvestment * pow(1 + expectedReturn/12, (years*12))\n",
        "print(valuePrincipal)"
      ]
    },
    {
      "cell_type": "code",
      "execution_count": null,
      "metadata": {
        "colab": {
          "base_uri": "https://localhost:8080/"
        },
        "id": "QwpmLYLB4Uvd",
        "outputId": "f7246c84-589b-4cf3-a861-831874655841"
      },
      "outputs": [],
      "source": [
        "# Future Value Annuity (Compound)\n",
        "monthlyInvestment = 100\n",
        "valueMonthly = monthlyInvestment * (pow(1 + expectedReturn/12, (years*12))-1)/(expectedReturn/12)\n",
        "print(valueMonthly)"
      ]
    },
    {
      "cell_type": "code",
      "execution_count": null,
      "metadata": {
        "colab": {
          "base_uri": "https://localhost:8080/"
        },
        "id": "HpqiUQ6s8AWI",
        "outputId": "a0812197-fb7a-4321-96c0-fdcd3a089a02"
      },
      "outputs": [],
      "source": [
        "# Combined future value\n",
        "totalValue = valuePrincipal+valueMonthly\n",
        "print(totalValue)"
      ]
    },
    {
      "cell_type": "code",
      "execution_count": null,
      "metadata": {
        "id": "iMeeyglE-K9W"
      },
      "outputs": [],
      "source": [
        "def returnProjection(expectedReturn, initialInvestment, monthlyInvestment, years):\n",
        "  valuePrincipal = initialInvestment * pow(1 + expectedReturn/12, (years*12))\n",
        "  valueMonthly = monthlyInvestment * (pow(1 + expectedReturn/12, (years*12))-1)/(expectedReturn/12)\n",
        "  return valuePrincipal+valueMonthly"
      ]
    },
    {
      "cell_type": "code",
      "execution_count": null,
      "metadata": {
        "colab": {
          "base_uri": "https://localhost:8080/"
        },
        "id": "q8BMERSh9wkU",
        "outputId": "b7c77d74-edac-47f7-e1f4-4e4f9de48835"
      },
      "outputs": [],
      "source": [
        "expectedRisk = 0.10\n",
        "expectedReturnMin = expectedReturn - expectedRisk\n",
        "expectedReturnMax = expectedReturn + expectedRisk\n",
        "print(expectedReturnMin)\n",
        "print(returnProjection(expectedReturnMin, initialInvestment, monthlyInvestment, years))\n",
        "print(expectedReturnMax)\n",
        "print(returnProjection(expectedReturnMax, initialInvestment, monthlyInvestment, years))"
      ]
    },
    {
      "cell_type": "code",
      "execution_count": null,
      "metadata": {
        "id": "HW5ExTHdWKdO"
      },
      "outputs": [],
      "source": [
        "#HEADING 3: Visualizing investment projections\n",
        "#SKILL 3: Learn how to visualize investment projections"
      ]
    },
    {
      "cell_type": "code",
      "execution_count": null,
      "metadata": {
        "id": "WT2Wxafp_bZn"
      },
      "outputs": [],
      "source": [
        "def returnProjectionByYear(expectedReturn, expectedRisk, initialInvestment, monthlyInvestment, years):\n",
        "  from datetime import date\n",
        "  import pandas as pd\n",
        "  df = pd.DataFrame({'date': [],\n",
        "                   'lowValue': [],\n",
        "                   'value': [],\n",
        "                   'highValue': []})\n",
        "  df.set_index('date')\n",
        "\n",
        "  for year in range(years+1):\n",
        "    newValue = returnProjection(expectedReturn, initialInvestment, monthlyInvestment, year)\n",
        "    newValueLower = returnProjection(expectedReturn-expectedRisk, initialInvestment, monthlyInvestment, year)\n",
        "    newValueUpper = returnProjection(expectedReturn+expectedRisk, initialInvestment, monthlyInvestment, year)\n",
        "    newDate = date.today()\n",
        "    newDate = newDate.replace(year=newDate.year + year)\n",
        "    df = df.append(pd.Series({'date': newDate, 'lowValue': newValueLower, 'value': newValue, 'highValue': newValueUpper},name=''))\n",
        "  \n",
        "  df = df.set_index(pd.DatetimeIndex(df['date']))\n",
        "  df = df.drop(columns=\"date\")\n",
        "  return df"
      ]
    },
    {
      "cell_type": "code",
      "execution_count": null,
      "metadata": {
        "colab": {
          "base_uri": "https://localhost:8080/",
          "height": 143
        },
        "id": "yAB_-O7R_aug",
        "outputId": "118366bf-4e06-45d1-899f-ffa85fe95b99"
      },
      "outputs": [],
      "source": [
        "data = returnProjectionByYear(expectedReturn, expectedRisk, initialInvestment, monthlyInvestment, years)\n",
        "data\n"
      ]
    },
    {
      "cell_type": "code",
      "execution_count": null,
      "metadata": {
        "colab": {
          "base_uri": "https://localhost:8080/",
          "height": 426
        },
        "id": "xQmINnFmsWB1",
        "outputId": "61bd24e1-7b69-46ba-c975-4cc16b66f199"
      },
      "outputs": [],
      "source": [
        "years = 10\n",
        "data = returnProjectionByYear(expectedReturn, expectedRisk, initialInvestment, monthlyInvestment, years)\n",
        "data"
      ]
    },
    {
      "cell_type": "code",
      "execution_count": null,
      "metadata": {
        "colab": {
          "base_uri": "https://localhost:8080/",
          "height": 265
        },
        "id": "tg2Bl8K1CGWp",
        "outputId": "295701b7-ac3e-4435-95c3-f2c0cc46de58"
      },
      "outputs": [],
      "source": [
        "import matplotlib.pyplot as plt\n",
        "plt.plot(data.index, data['highValue'], label=\"High\")\n",
        "plt.plot(data.index, data['value'], label=\"Expected\")\n",
        "plt.plot(data.index, data['lowValue'], label=\"Low\")\n",
        "plt.legend(loc=\"upper left\")\n",
        "plt.show()"
      ]
    },
    {
      "cell_type": "code",
      "execution_count": null,
      "metadata": {
        "id": "yUt26nOXuBzK"
      },
      "outputs": [],
      "source": [
        "years = 30\n",
        "data = returnProjectionByYear(expectedReturn, expectedRisk, initialInvestment, monthlyInvestment, years)"
      ]
    },
    {
      "cell_type": "code",
      "execution_count": null,
      "metadata": {
        "colab": {
          "base_uri": "https://localhost:8080/",
          "height": 276
        },
        "id": "nKLQD9_DuFBj",
        "outputId": "5ca051c8-0023-4215-c230-6e51ce008c98"
      },
      "outputs": [],
      "source": [
        "plt.plot(data.index, data['highValue'], label=\"High\")\n",
        "plt.plot(data.index, data['value'], label=\"Expected\")\n",
        "plt.plot(data.index, data['lowValue'], label=\"Low\")\n",
        "plt.legend(loc=\"upper left\")\n",
        "plt.show()"
      ]
    },
    {
      "cell_type": "code",
      "execution_count": null,
      "metadata": {
        "id": "MaSmp-u2vQ-u"
      },
      "outputs": [],
      "source": [
        "class Projection:\n",
        "  def __init__(self, expectedReturn: float, expectedRisk: float, initialInvestment: float, monthlyInvestment: float, years: int):\n",
        "    from datetime import date\n",
        "    import pandas as pd\n",
        "    df = pd.DataFrame({'date': [],\n",
        "                    'lowValue': [],\n",
        "                    'value': [],\n",
        "                    'highValue': []})\n",
        "    df.set_index('date')\n",
        "\n",
        "    for year in range(years+1):\n",
        "      newValue = self.returnProjection(expectedReturn, initialInvestment, monthlyInvestment, year)\n",
        "      newValueLower = self.returnProjection(expectedReturn-expectedRisk, initialInvestment, monthlyInvestment, year)\n",
        "      newValueUpper = self.returnProjection(expectedReturn+expectedRisk, initialInvestment, monthlyInvestment, year)\n",
        "      newDate = date.today()\n",
        "      newDate = newDate.replace(year=newDate.year + year)\n",
        "      df = df.append(pd.Series({'date': newDate, 'lowValue': newValueLower, 'value': newValue, 'highValue': newValueUpper},name=''))\n",
        "    \n",
        "    df = df.set_index(pd.DatetimeIndex(df['date']))\n",
        "    df = df.drop(columns=\"date\")\n",
        "    self.data = df\n",
        "\n",
        "  @staticmethod\n",
        "  def returnProjection(expectedReturn, initialInvestment, monthlyInvestment, years):\n",
        "    valuePrincipal = initialInvestment * pow(1 + expectedReturn/12, (years*12))\n",
        "    valueMonthly = monthlyInvestment * (pow(1 + expectedReturn/12, (years*12))-1)/(expectedReturn/12)\n",
        "    return valuePrincipal+valueMonthly\n",
        "\n",
        "  def visualize(self, targetAmount: float = 0.0):\n",
        "    import matplotlib.pyplot as plt\n",
        "    import matplotlib.ticker as ticker\n",
        "    scale_y = 1e6\n",
        "    ticks_y = ticker.FuncFormatter(lambda x, pos: '{0:g}'.format(x/scale_y))\n",
        "    fig, ax=plt.subplots()\n",
        "    ax.yaxis.set_major_formatter(ticks_y)\n",
        "    ax.set_ylabel('Millions (USD)')\n",
        "    ax.plot(self.data.index, self.data['highValue'], label=\"High\")\n",
        "    ax.plot(self.data.index, self.data['value'], label=\"Expected\")\n",
        "    ax.plot(self.data.index, self.data['lowValue'], label=\"Low\")\n",
        "    plt.legend(loc=\"upper left\")\n",
        "    if (targetAmount > 0):\n",
        "      plt.axhline(y=targetAmount)\n",
        "    plt.show()"
      ]
    },
    {
      "cell_type": "code",
      "execution_count": null,
      "metadata": {
        "colab": {
          "base_uri": "https://localhost:8080/",
          "height": 265
        },
        "id": "7Gw27c7swFP1",
        "outputId": "d05b8d40-5363-4eac-c71e-0c0ee18d94e4"
      },
      "outputs": [],
      "source": [
        "proj = Projection(expectedReturn, expectedRisk, initialInvestment, monthlyInvestment, years)\n",
        "proj.visualize()"
      ]
    },
    {
      "cell_type": "code",
      "execution_count": null,
      "metadata": {},
      "outputs": [],
      "source": [
        "class Goal:\n",
        "  def __init__(self, name, targetYear, targetValue, initialContribution=0, monthlyContribution=0, priority=\"\"):\n",
        "    self.name = name\n",
        "    self.targetYear = targetYear\n",
        "    self.targetValue = targetValue\n",
        "    self.initialContribution = initialContribution\n",
        "    self.monthlyContribution = monthlyContribution\n",
        "    if not (priority == \"\") and not (priority in [\"Dreams\", \"Wishes\", \"Wants\", \"Needs\"]):\n",
        "            raise ValueError('Wrong value set for Priority.')\n",
        "    self.priority = priority\n",
        "\n",
        "  def getGoalProbabilities(self):\n",
        "    if (self.priority == \"\"):\n",
        "            raise ValueError('No value set for Priority.')\n",
        "    import pandas as pd\n",
        "    lookupTable=pd.read_csv('./Data/Goal Probability Table.csv')\n",
        "    match = (lookupTable['Realize'] == self.priority)\n",
        "    minProb = lookupTable['MinP'][(match)]\n",
        "    maxProb = lookupTable['MaxP'][(match)]\n",
        "    return minProb.values[0], maxProb.values[0]"
      ]
    },
    {
      "cell_type": "code",
      "execution_count": null,
      "metadata": {
        "id": "Wl-KRBoVt7Wq"
      },
      "outputs": [],
      "source": [
        "myGoal = Goal(\"Retirement\", \n",
        "              targetYear=2041, \n",
        "              targetValue=3000000, \n",
        "              initialContribution=50000, \n",
        "              monthlyContribution=500, \n",
        "              priority=\"Wishes\")"
      ]
    },
    {
      "cell_type": "code",
      "execution_count": null,
      "metadata": {},
      "outputs": [],
      "source": [
        "#HEADING 3: Calculating a Risk Score\n",
        "\n",
        "# Interactive questionnaire\n",
        "\n",
        "class RiskQuestion:\n",
        "  def __init__(self, questionText, weight=1):\n",
        "    self.questionText = questionText\n",
        "    self.weight = weight\n",
        "    self.answers = []\n",
        "\n",
        "class RiskQuestionAnswer:\n",
        "  def __init__(self, answerText, score, selected=False):\n",
        "    self.answerText = answerText\n",
        "    self.score = score\n",
        "    self.selected = selected\n",
        "\n",
        "class RiskQuestionnaire:\n",
        "  def __init__(self):\n",
        "    self.questions = []\n",
        "    self.score = 0\n",
        "\n",
        "  def loadQuestionnaire(self, riskQuestionsFileName, riskAnswersFileName, type):\n",
        "\n",
        "    if not (type in [\"Tolerance\", \"Capacity\"]):\n",
        "            raise ValueError('Type must be Tolerance or Capacity.')\n",
        "\n",
        "    import pandas as pd\n",
        "    riskQuestions = pd.read_csv(riskQuestionsFileName).reset_index()\n",
        "    riskAnswers = pd.read_csv(riskAnswersFileName).reset_index()\n",
        "\n",
        "    if (type == \"Tolerance\"):\n",
        "      toleranceQuestions = riskQuestions[(riskQuestions['QuestionType'] == 'Tolerance')].reset_index()\n",
        "      for index, row in toleranceQuestions.iterrows():\n",
        "          self.questions.append(RiskQuestion(row['QuestionText'], row['QuestionWeight']))\n",
        "          answers = riskAnswers[(riskAnswers['QuestionID'] == row['QuestionID'])]\n",
        "          for indexA, rowA in answers.iterrows():\n",
        "                self.questions[index].answers.append(RiskQuestionAnswer(rowA['AnswerText'],rowA['AnswerValue']))\n",
        "    else:\n",
        "      capacityQuestions = riskQuestions[(riskQuestions['QuestionType'] == 'Capacity')].reset_index()\n",
        "      for index, row in capacityQuestions.iterrows():\n",
        "          self.questions.append(RiskQuestion(row['QuestionText'], row['QuestionWeight']))\n",
        "          answers = riskAnswers[(riskAnswers['QuestionID'] == row['QuestionID'])]\n",
        "          for indexA, rowA in answers.iterrows():\n",
        "                self.questions[index].answers.append(RiskQuestionAnswer(rowA['AnswerText'],rowA['AnswerValue']))\n",
        "    \n",
        "\n",
        "  def answerQuestionnaire(self):\n",
        "    for i in range(len(self.questions)):\n",
        "      question = self.questions[i]\n",
        "      print(question.questionText)\n",
        "      for n in range(len(question.answers)):\n",
        "        answer = question.answers[n]\n",
        "        print(str(n) + \": \" + answer.answerText)\n",
        "      nChosen = int(input(\"Choose your answer between 0 and \" + str(len(question.answers)-1) + \": \"))\n",
        "      self.questions[i].answers[nChosen].selected = True\n",
        "      print(\"\\n\")\n",
        "\n",
        "  def calculateScore(self):\n",
        "    print(\"Risk Score:\")\n",
        "    myTotalScore = 0\n",
        "    for question in self.questions:\n",
        "      for answer in question.answers:\n",
        "        if (answer.selected == True):\n",
        "          myTotalScore = myTotalScore + (answer.score * question.weight)\n",
        "          print(answer.answerText + \": \" + str(answer.score * question.weight))\n",
        "    print(\"Total Risk Score: \" + str(myTotalScore) + \"\\n\")\n",
        "    self.score = myTotalScore"
      ]
    },
    {
      "cell_type": "code",
      "execution_count": null,
      "metadata": {
        "colab": {
          "base_uri": "https://localhost:8080/"
        },
        "id": "qAev4jwrdb9M",
        "outputId": "a1eadec2-d2bb-4399-b45d-88b2f245c9e3"
      },
      "outputs": [],
      "source": [
        "questionsFileName = './Data/Risk Questions.csv'\n",
        "answersFileName = './Data/Risk Answers.csv'\n",
        "\n",
        "toleranceQuestionnaire = RiskQuestionnaire()\n",
        "toleranceQuestionnaire.loadQuestionnaire(questionsFileName, answersFileName, \"Tolerance\")\n",
        "\n",
        "capacityQuestionnaire = RiskQuestionnaire()\n",
        "capacityQuestionnaire.loadQuestionnaire(questionsFileName, answersFileName, \"Capacity\")\n",
        "\n",
        "toleranceQuestionnaire.answerQuestionnaire()\n",
        "capacityQuestionnaire.answerQuestionnaire()"
      ]
    },
    {
      "cell_type": "code",
      "execution_count": null,
      "metadata": {
        "colab": {
          "base_uri": "https://localhost:8080/"
        },
        "id": "LhnOs9KxeKZx",
        "outputId": "7cd2ff3a-d2c8-4786-8e97-164612db0692"
      },
      "outputs": [],
      "source": [
        "toleranceQuestionnaire.calculateScore()\n",
        "capacityQuestionnaire.calculateScore()\n",
        "riskTolScore = toleranceQuestionnaire.score\n",
        "riskCapScore = capacityQuestionnaire.score"
      ]
    },
    {
      "cell_type": "code",
      "execution_count": null,
      "metadata": {},
      "outputs": [],
      "source": [
        "class Portfolio:\n",
        "\n",
        "  def __init__(self, tickerString: str, expectedReturn: float, portfolioName: str, riskBucket: int):\n",
        "\n",
        "    self.name = portfolioName\n",
        "    self.riskBucket = riskBucket\n",
        "    self.expectedReturn = expectedReturn\n",
        "    self.allocations = []\n",
        "\n",
        "    from pypfopt.efficient_frontier import EfficientFrontier\n",
        "    from pypfopt import risk_models\n",
        "    from pypfopt import expected_returns\n",
        "\n",
        "    df = self.__getDailyPrices(tickerString, \"20y\")\n",
        "\n",
        "    mu = expected_returns.mean_historical_return(df)\n",
        "    S = risk_models.sample_cov(df)\n",
        "\n",
        "    ef = EfficientFrontier(mu, S)\n",
        "\n",
        "    ef.efficient_return(expectedReturn)\n",
        "    self.expectedRisk = ef.portfolio_performance()[1]\n",
        "    portfolioWeights = ef.clean_weights()\n",
        "\n",
        "    for key, value in portfolioWeights.items():\n",
        "      newAllocation = Allocation(key, value)\n",
        "      self.allocations.append(newAllocation)\n",
        "\n",
        "  def __getDailyPrices(self, tickerStringList, period):\n",
        "    data = yf.download(tickerStringList, group_by=\"Ticker\", period=period)\n",
        "    data = data.iloc[:, data.columns.get_level_values(1)==\"Close\"]\n",
        "    data = data.dropna()\n",
        "    data.columns = data.columns.droplevel(1)\n",
        "    return data\n",
        "\n",
        "  def printPortfolio(self):\n",
        "    print(\"Portfolio Name: \" + self.name)\n",
        "    print(\"Risk Bucket: \" + str(self.riskBucket))\n",
        "    print(\"Expected Return: \" + str(self.expectedReturn))\n",
        "    print(\"Expected Risk: \" + str(self.expectedRisk))\n",
        "    print(\"Allocations: \")\n",
        "    for allocation in self.allocations:\n",
        "      print(\"Ticker: \" + allocation.ticker + \", Percentage: \" + str(allocation.percentage))\n",
        "\n",
        "  @staticmethod\n",
        "  def getPortfolioMapping(riskToleranceScore, riskCapacityScore):\n",
        "    import pandas as pd\n",
        "    allocationLookupTable=pd.read_csv('./Data/Risk Mapping Lookup.csv')\n",
        "    matchTol = (allocationLookupTable['Tolerance_min'] <= riskTolScore) & (allocationLookupTable['Tolerance_max'] >= riskTolScore)\n",
        "    matchCap = (allocationLookupTable['Capacity_min'] <= riskCapScore) & (allocationLookupTable['Capacity_max'] >= riskCapScore)\n",
        "    portfolioID = allocationLookupTable['Portfolio'][(matchTol & matchCap)]\n",
        "    return portfolioID.values[0]"
      ]
    },
    {
      "cell_type": "code",
      "execution_count": null,
      "metadata": {
        "colab": {
          "base_uri": "https://localhost:8080/"
        },
        "id": "fhWiOQdWde6Q",
        "outputId": "f24d65b5-9882-421d-b633-cfd8f69a6bc0"
      },
      "outputs": [],
      "source": [
        "myPortfolioID = Portfolio.getPortfolioMapping(riskTolScore, riskCapScore)\n",
        "\n",
        "myPortfolio = Portfolio(\"VTI TLT IEI GLD DBC\", expectedReturn = 0.06, portfolioName = \"Moderate Growth\", riskBucket = myPortfolioID)\n",
        "myPortfolio.printPortfolio()"
      ]
    },
    {
      "cell_type": "code",
      "execution_count": null,
      "metadata": {
        "colab": {
          "base_uri": "https://localhost:8080/",
          "height": 265
        },
        "id": "sQ94rbIGdyA7",
        "outputId": "22933dfa-ea8d-4b27-edb2-d77cb98a65f3"
      },
      "outputs": [],
      "source": [
        "from datetime import date\n",
        "yearsToGoal = myGoal.targetYear - date.today().year\n",
        "myProjection = Projection(myPortfolio.expectedReturn, \n",
        "                          expectedRisk=myPortfolio.expectedRisk, \n",
        "                          initialInvestment=myGoal.initialContribution, \n",
        "                          monthlyInvestment=myGoal.monthlyContribution, \n",
        "                          years=yearsToGoal)\n",
        "myProjection.visualize(myGoal.targetValue)"
      ]
    },
    {
      "cell_type": "code",
      "execution_count": null,
      "metadata": {
        "id": "xOlidqzLVNsJ"
      },
      "outputs": [],
      "source": [
        "# Check if goal amount is achieved with expectedReturns by goalTimeline\n",
        "import pandas as pd\n",
        "def checkGoalPlausible(df: pd.DataFrame, goalValue) -> bool:\n",
        "  maxValue = df['value'].max()\n",
        "  if maxValue >= goalValue:\n",
        "    return True\n",
        "  else:\n",
        "    return False"
      ]
    },
    {
      "cell_type": "code",
      "execution_count": null,
      "metadata": {
        "colab": {
          "base_uri": "https://localhost:8080/"
        },
        "id": "QJXEp5Tgrgkc",
        "outputId": "2d98cc2d-d51e-4c96-ffab-6f9de4385e89"
      },
      "outputs": [],
      "source": [
        "checkGoalPlausible(myProjection.data, myGoal.targetValue)"
      ]
    },
    {
      "cell_type": "code",
      "execution_count": null,
      "metadata": {
        "colab": {
          "base_uri": "https://localhost:8080/"
        },
        "id": "gllg74RN5cP3",
        "outputId": "11a31959-0b6a-4ff1-d66c-8f84a959c849"
      },
      "outputs": [],
      "source": [
        "import scipy.stats as st\n",
        "import math as math\n",
        "\n",
        "minReturn = 0.022\n",
        "avgReturn = 0.05\n",
        "avgRisk = 0.07\n",
        "timeHorizon = 10\n",
        "std = avgRisk/math.sqrt(timeHorizon)\n",
        "print(std)\n",
        "\n",
        "z_score = (minReturn-avgReturn)/std\n",
        "print(z_score)\n",
        "print(1-st.norm.cdf(z_score))\n",
        "\n",
        "# Use this it works! Need to add goal priority and use probs to determine if feasible. Can add risk or cash?"
      ]
    },
    {
      "cell_type": "code",
      "execution_count": null,
      "metadata": {
        "colab": {
          "base_uri": "https://localhost:8080/"
        },
        "id": "U38l4Zdinv72",
        "outputId": "3bfe5565-78d2-4e4f-d5be-559b9910a287"
      },
      "outputs": [],
      "source": [
        "# TODO: Use goal.priority, plus method to check if probability is in right range? If too high, take more risk? If too low, save more or extend timeline?\n",
        "myGoal.getGoalProbabilities()"
      ]
    },
    {
      "cell_type": "code",
      "execution_count": null,
      "metadata": {
        "id": "MqHv2OGzEJgP"
      },
      "outputs": [],
      "source": [
        "# Many ways to calculate, this shows probability goal target amount will be exceeded over goal timeline, ideally above 50%\n",
        "def goalProbability(minReturn, avgReturn, avgRisk, timeHorizon) -> float:\n",
        "  import scipy.stats as st\n",
        "  std = avgRisk/math.sqrt(timeHorizon)\n",
        "  z_score = (minReturn-avgReturn)/std\n",
        "  return 1-st.norm.cdf(z_score)"
      ]
    },
    {
      "cell_type": "code",
      "execution_count": null,
      "metadata": {
        "colab": {
          "base_uri": "https://localhost:8080/"
        },
        "id": "6GHg5WLlok4-",
        "outputId": "48bfd76b-8b45-4e0c-cfb7-a95a25d658f7"
      },
      "outputs": [],
      "source": [
        "goalProbability(minReturn, avgReturn, avgRisk, timeHorizon)"
      ]
    },
    {
      "cell_type": "code",
      "execution_count": null,
      "metadata": {
        "id": "NQOI9V-VZQ1T"
      },
      "outputs": [],
      "source": [
        "# Many ways to calculate, this shows probability goal target amount will be exceeded over goal timeline, ideally above 50%\n",
        "import pandas as pd\n",
        "def goalProbabilityForAmount(goalAmount, expectedReturn, portfolioRisk, years, initialInvestment, monthlyInvestment) -> float:\n",
        "  import scipy.stats as st\n",
        "  import math as math\n",
        "  std = portfolioRisk/math.sqrt(years)\n",
        "  \n",
        "  amount = 0\n",
        "  minReturn = 0.00\n",
        "  while (amount < goalAmount):\n",
        "    minReturn = minReturn + 0.0000001\n",
        "    amount = Projection.returnProjection(minReturn, initialInvestment, monthlyInvestment, years)\n",
        "  \n",
        "  z_score = (minReturn-expectedReturn)/std\n",
        "  return 1-st.norm.cdf(z_score)"
      ]
    },
    {
      "cell_type": "code",
      "execution_count": null,
      "metadata": {
        "colab": {
          "base_uri": "https://localhost:8080/"
        },
        "id": "R-ZXwYj3sCu1",
        "outputId": "70471ad6-5fbf-4dae-a805-d480733eacf2"
      },
      "outputs": [],
      "source": [
        "goalProbabilityForAmount(myGoal.targetValue, \n",
        "                         myPortfolio.expectedReturn, \n",
        "                         myPortfolio.expectedRisk, \n",
        "                         yearsToGoal, \n",
        "                         myGoal.initialContribution, \n",
        "                         myGoal.monthlyContribution)"
      ]
    },
    {
      "cell_type": "code",
      "execution_count": null,
      "metadata": {
        "id": "8jgHnq7RW91I"
      },
      "outputs": [],
      "source": [
        "# Reverse calculate from FV formula required monthly investment to hit goal amount by goalTimeline?\n",
        "def calculateMonthlyMinimum(expectedReturn, initialInvestment, years, goalAmount) -> float:\n",
        "  monthlyInvestment = (goalAmount - (initialInvestment * pow(1 + expectedReturn/12, (years*12))))/((pow(1 + expectedReturn/12, (years*12))-1)/(expectedReturn/12)) \n",
        "  return monthlyInvestment"
      ]
    },
    {
      "cell_type": "code",
      "execution_count": null,
      "metadata": {
        "colab": {
          "base_uri": "https://localhost:8080/"
        },
        "id": "Dly66r2sxbi0",
        "outputId": "1503e250-a0f0-4b17-b1f9-3ff1d7b13002"
      },
      "outputs": [],
      "source": [
        "calculateMonthlyMinimum(myPortfolio.expectedReturn, \n",
        "                        myGoal.initialContribution, \n",
        "                        yearsToGoal, \n",
        "                        myGoal.targetValue)"
      ]
    },
    {
      "cell_type": "code",
      "execution_count": null,
      "metadata": {
        "colab": {
          "base_uri": "https://localhost:8080/"
        },
        "id": "mShAIyPfyekb",
        "outputId": "3aae49f2-a3a2-4957-bd3c-f3f6fc50530b"
      },
      "outputs": [],
      "source": [
        "myGoal.monthlyContribution = calculateMonthlyMinimum(myPortfolio.expectedReturn, \n",
        "                                                     myGoal.initialContribution, \n",
        "                                                     yearsToGoal, \n",
        "                                                     myGoal.targetValue)\n",
        "\n",
        "goalProbabilityForAmount(myGoal.targetValue, \n",
        "                         myPortfolio.expectedReturn, \n",
        "                         myPortfolio.expectedRisk, \n",
        "                         yearsToGoal, \n",
        "                         myGoal.initialContribution, \n",
        "                         myGoal.monthlyContribution)"
      ]
    },
    {
      "cell_type": "code",
      "execution_count": null,
      "metadata": {
        "colab": {
          "base_uri": "https://localhost:8080/",
          "height": 265
        },
        "id": "q8o1k8Ly2cJm",
        "outputId": "0297f95f-7bde-423f-c747-cefd5fb3a72b"
      },
      "outputs": [],
      "source": [
        "myProjection = Projection(myPortfolio.expectedReturn, \n",
        "                          myPortfolio.expectedRisk, \n",
        "                          myGoal.initialContribution, \n",
        "                          myGoal.monthlyContribution, \n",
        "                          yearsToGoal)\n",
        "myProjection.visualize(myGoal.targetValue)"
      ]
    },
    {
      "cell_type": "code",
      "execution_count": null,
      "metadata": {
        "colab": {
          "base_uri": "https://localhost:8080/"
        },
        "id": "1zuiyxbb5wxv",
        "outputId": "5846239c-7f4a-4ccf-acb1-9571995f3db6"
      },
      "outputs": [],
      "source": [
        "goalProbabilityForAmount(myGoal.targetValue, \n",
        "                         myPortfolio.expectedReturn, \n",
        "                         myPortfolio.expectedRisk, \n",
        "                         yearsToGoal+2, \n",
        "                         myGoal.initialContribution, \n",
        "                         myGoal.monthlyContribution)"
      ]
    },
    {
      "cell_type": "code",
      "execution_count": null,
      "metadata": {
        "colab": {
          "base_uri": "https://localhost:8080/",
          "height": 265
        },
        "id": "prdvnddW6MW7",
        "outputId": "5ba57aaf-58e1-4204-c9d8-6ed29928681c"
      },
      "outputs": [],
      "source": [
        "myProjection = Projection(myPortfolio.expectedReturn, \n",
        "                          myPortfolio.expectedRisk, \n",
        "                          myGoal.initialContribution, \n",
        "                          myGoal.monthlyContribution, \n",
        "                          yearsToGoal+2)\n",
        "myProjection.visualize(myGoal.targetValue)"
      ]
    },
    {
      "cell_type": "code",
      "execution_count": null,
      "metadata": {
        "colab": {
          "base_uri": "https://localhost:8080/"
        },
        "id": "i0SM-qOV6xIl",
        "outputId": "0b8550cc-6caa-4802-eeb9-13a03af9334a"
      },
      "outputs": [],
      "source": [
        "goalProbabilityForAmount(myGoal.targetValue, \n",
        "                         myPortfolio.expectedReturn, \n",
        "                         myPortfolio.expectedRisk, \n",
        "                         30, \n",
        "                         500000, \n",
        "                         1500)"
      ]
    },
    {
      "cell_type": "code",
      "execution_count": null,
      "metadata": {
        "colab": {
          "base_uri": "https://localhost:8080/"
        },
        "id": "VOIwVFOChHq-",
        "outputId": "4679e438-a7eb-4cfc-95f1-cefd83491e3a"
      },
      "outputs": [],
      "source": [
        "pip install pandas_montecarlo --upgrade --no-cache-dir"
      ]
    },
    {
      "cell_type": "code",
      "execution_count": null,
      "metadata": {
        "colab": {
          "base_uri": "https://localhost:8080/",
          "height": 473
        },
        "id": "u7hPd_vXohAO",
        "outputId": "41322753-3b98-4322-ff83-dee6d9f7a9d4"
      },
      "outputs": [],
      "source": [
        "import pandas_montecarlo\n",
        "data = yf.download(\"VTI TLT IEI GLD DBC\", group_by=\"Ticker\", period=\"20y\")\n",
        "data = data.iloc[:, data.columns.get_level_values(1)==\"Close\"]\n",
        "data = data.dropna()\n",
        "data.columns = data.columns.droplevel(1)\n",
        "data['Total'] = data.sum(axis=1)\n",
        "data['Return'] = data['Total'].pct_change().fillna(0)\n",
        "data"
      ]
    },
    {
      "cell_type": "code",
      "execution_count": null,
      "metadata": {
        "colab": {
          "base_uri": "https://localhost:8080/",
          "height": 458
        },
        "id": "Am8C1L6Oq7DG",
        "outputId": "a02c173b-afec-435c-deea-5a2b10f98998"
      },
      "outputs": [],
      "source": [
        "mc = data['Return'].montecarlo(sims=100)\n",
        "mc.plot(title=\"Portfolio Returns Monte Carlo Simulations\", figsize=(12,7))"
      ]
    }
  ],
  "metadata": {
    "colab": {
      "provenance": [],
      "toc_visible": true
    },
    "kernelspec": {
      "display_name": "Python 3",
      "language": "python",
      "name": "python3"
    },
    "language_info": {
      "codemirror_mode": {
        "name": "ipython",
        "version": 3
      },
      "file_extension": ".py",
      "mimetype": "text/x-python",
      "name": "python",
      "nbconvert_exporter": "python",
      "pygments_lexer": "ipython3",
      "version": "3.10.8"
    },
    "vscode": {
      "interpreter": {
        "hash": "bf4014decd6db2e7270b0720910deef930124f2ac2cf190091d139b0105c57af"
      }
    }
  },
  "nbformat": 4,
  "nbformat_minor": 0
}
